{
 "cells": [
  {
   "cell_type": "markdown",
   "id": "977ed560",
   "metadata": {},
   "source": [
    "# Condicional If"
   ]
  },
  {
   "cell_type": "code",
   "execution_count": 1,
   "id": "b60d50b5",
   "metadata": {},
   "outputs": [
    {
     "name": "stdout",
     "output_type": "stream",
     "text": [
      "A sentença é verdadeira!\n"
     ]
    }
   ],
   "source": [
    "#Condicional If (se)\n",
    "if 5 > 2: \n",
    "    print('A sentença é verdadeira!')"
   ]
  },
  {
   "cell_type": "code",
   "execution_count": 2,
   "id": "f9b71e0a",
   "metadata": {},
   "outputs": [
    {
     "name": "stdout",
     "output_type": "stream",
     "text": [
      "A sentença é falsa!\n"
     ]
    }
   ],
   "source": [
    "#Condicional If...Else (respostas diferentes)\n",
    "if 5 < 2:\n",
    "    print('A sentença é verdadeira!')\n",
    "else:\n",
    "    print('A sentença é falsa!')\n"
   ]
  },
  {
   "cell_type": "code",
   "execution_count": 3,
   "id": "3c72faaf",
   "metadata": {},
   "outputs": [
    {
     "name": "stdout",
     "output_type": "stream",
     "text": [
      "Sem previsão de chuva hoje\n"
     ]
    }
   ],
   "source": [
    "#Condicional If... Else com variável\n",
    "\n",
    "dia = 'Terça'\n",
    "if dia == 'Segunda':\n",
    "    print('Hoje fará sol!')\n",
    "else:\n",
    "    print('Sem previsão de chuva hoje')"
   ]
  },
  {
   "cell_type": "code",
   "execution_count": 4,
   "id": "dd7e0958",
   "metadata": {},
   "outputs": [
    {
     "name": "stdout",
     "output_type": "stream",
     "text": [
      "Hoje vai chover\n"
     ]
    }
   ],
   "source": [
    "#Condicional - Podemos usar o operador elif para validar de uma condição.\n",
    "#Se uma é verdadeira, se não aquilo...\n",
    "\n",
    "if dia == 'Segunda':\n",
    "    print('Hoje fará sol')\n",
    "elif dia == 'Terça':\n",
    "    print('Hoje vai chover')\n",
    "else: \n",
    "    print('Sem previsão do tempo hoje')"
   ]
  },
  {
   "cell_type": "markdown",
   "id": "7f7de690",
   "metadata": {},
   "source": [
    "# Operadores relacionais\n",
    "Ele estabelece uma relação entre as variáveis."
   ]
  },
  {
   "cell_type": "markdown",
   "id": "b0b07211",
   "metadata": {},
   "source": [
    "# Condicionais aninhados"
   ]
  },
  {
   "cell_type": "code",
   "execution_count": 8,
   "id": "ca8e7478",
   "metadata": {},
   "outputs": [
    {
     "name": "stdout",
     "output_type": "stream",
     "text": [
      "Você já pode dirigir e beber!\n"
     ]
    }
   ],
   "source": [
    "idade = 18\n",
    "if idade > 17:\n",
    "    print('Você já pode dirigir e beber!')"
   ]
  },
  {
   "cell_type": "code",
   "execution_count": 9,
   "id": "fbce2a78",
   "metadata": {},
   "outputs": [
    {
     "name": "stdout",
     "output_type": "stream",
     "text": [
      "Ok Bob, você está autorizado a entrar!\n"
     ]
    }
   ],
   "source": [
    "#Exemplo de condicional aninhado\n",
    "\n",
    "Nome = \"Bob\"\n",
    "if idade > 13:\n",
    "    if Nome == \"Bob\":\n",
    "        print('Ok Bob, você está autorizado a entrar!')\n",
    "    else: \n",
    "        print('Sai fora')"
   ]
  },
  {
   "cell_type": "code",
   "execution_count": 10,
   "id": "edddf417",
   "metadata": {},
   "outputs": [
    {
     "name": "stdout",
     "output_type": "stream",
     "text": [
      "Ok, entra ai\n"
     ]
    }
   ],
   "source": [
    "#Operar lógico + if\n",
    "\n",
    "idade = 13\n",
    "Nome = 'Bob'\n",
    "if idade >=13 and Nome == 'Bob':\n",
    "    print('Ok, entra ai')"
   ]
  },
  {
   "cell_type": "code",
   "execution_count": 12,
   "id": "045b664b",
   "metadata": {},
   "outputs": [
    {
     "name": "stdout",
     "output_type": "stream",
     "text": [
      "Ok, sai fora daí!\n"
     ]
    }
   ],
   "source": [
    "#Operador lógico + if\n",
    "#Operadores aninhados deixam até a fórmula mais limpo.\n",
    "\n",
    "idade = 12\n",
    "Nome = 'Bob'\n",
    "if (idade >= 13) or (Nome == 'Bob'):\n",
    "    print ('Ok, sai fora daí!')"
   ]
  },
  {
   "cell_type": "markdown",
   "id": "bd979aaf",
   "metadata": {},
   "source": [
    "# Operadores lógicos "
   ]
  },
  {
   "cell_type": "code",
   "execution_count": 13,
   "id": "45a5ab3e",
   "metadata": {},
   "outputs": [
    {
     "name": "stdout",
     "output_type": "stream",
     "text": [
      "Você já pode dirigir e beber!\n"
     ]
    }
   ],
   "source": [
    "idade = 18\n",
    "if idade > 17:\n",
    "    print('Você já pode dirigir e beber!')"
   ]
  },
  {
   "cell_type": "code",
   "execution_count": null,
   "id": "86008843",
   "metadata": {},
   "outputs": [],
   "source": [
    "idade = 18\n",
    "if idade > 17 and nome = 'Bob'\n",
    "    print('Autorizado')"
   ]
  },
  {
   "cell_type": "code",
   "execution_count": 15,
   "id": "19723651",
   "metadata": {},
   "outputs": [
    {
     "name": "stdout",
     "output_type": "stream",
     "text": [
      "Verdade\n"
     ]
    }
   ],
   "source": [
    "#Operador and, or e not \n",
    "\n",
    "numero = 4\n",
    "if (not(numero> 5) and (numero % 2 == 0)) or (numero == 4):\n",
    "    print('Verdade')"
   ]
  },
  {
   "cell_type": "code",
   "execution_count": 17,
   "id": "d74defde",
   "metadata": {},
   "outputs": [
    {
     "name": "stdout",
     "output_type": "stream",
     "text": [
      "Lamento, tente de novo\n"
     ]
    }
   ],
   "source": [
    "#Exemplo com uso de variáveis\n",
    "#Cai na segunda regra pelo condicional 'and'\n",
    "\n",
    "disciplina = 'Data Science'\n",
    "nota_final = 1\n",
    "\n",
    "if disciplina == 'Data Science' and nota_final >=70:\n",
    "    print('Você foi aprovado')\n",
    "else:\n",
    "    print('Lamento, tente de novo')"
   ]
  },
  {
   "cell_type": "code",
   "execution_count": 18,
   "id": "ca51b688",
   "metadata": {},
   "outputs": [
    {
     "name": "stdout",
     "output_type": "stream",
     "text": [
      "Você foi aprovado\n"
     ]
    }
   ],
   "source": [
    "#Exemplo com uso de variáveis\n",
    "\n",
    "disciplina = 'Data Science'\n",
    "nota_final = 70\n",
    "\n",
    "if disciplina == 'Data Science' and nota_final >=70:\n",
    "    print('Você foi aprovado')\n",
    "else:\n",
    "    print('Lamento, tente de novo')"
   ]
  },
  {
   "cell_type": "code",
   "execution_count": null,
   "id": "4ba6c7ea",
   "metadata": {},
   "outputs": [],
   "source": [
    "#Usando mais de uma cláusula if e introduzindo"
   ]
  }
 ],
 "metadata": {
  "kernelspec": {
   "display_name": "Python 3 (ipykernel)",
   "language": "python",
   "name": "python3"
  },
  "language_info": {
   "codemirror_mode": {
    "name": "ipython",
    "version": 3
   },
   "file_extension": ".py",
   "mimetype": "text/x-python",
   "name": "python",
   "nbconvert_exporter": "python",
   "pygments_lexer": "ipython3",
   "version": "3.9.13"
  }
 },
 "nbformat": 4,
 "nbformat_minor": 5
}
