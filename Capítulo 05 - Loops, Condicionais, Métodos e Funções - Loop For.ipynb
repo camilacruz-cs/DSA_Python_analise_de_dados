{
 "cells": [
  {
   "cell_type": "markdown",
   "id": "a07d4c9e",
   "metadata": {},
   "source": [
    "# Loop For"
   ]
  },
  {
   "cell_type": "code",
   "execution_count": 3,
   "id": "31f6c61b",
   "metadata": {},
   "outputs": [
    {
     "name": "stdout",
     "output_type": "stream",
     "text": [
      "2\n",
      "3\n",
      "4\n"
     ]
    }
   ],
   "source": [
    "#Criando uma tupla e imprimindo cada um dos valores\n",
    "tp = (2, 3, 4)\n",
    "for i in tp:\n",
    "    print(i)"
   ]
  },
  {
   "cell_type": "code",
   "execution_count": 4,
   "id": "4b3bb76e",
   "metadata": {},
   "outputs": [
    {
     "name": "stdout",
     "output_type": "stream",
     "text": [
      "Data\n",
      "Science\n",
      "Academy\n"
     ]
    }
   ],
   "source": [
    "#Criando uama lista e imprimindo cada um dos valores\n",
    "ListadeStrings = ['Data', 'Science', 'Academy']\n",
    "\n",
    "for i in ListadeStrings:\n",
    "    print(i)"
   ]
  },
  {
   "cell_type": "code",
   "execution_count": 5,
   "id": "7bc2aafe",
   "metadata": {},
   "outputs": [
    {
     "name": "stdout",
     "output_type": "stream",
     "text": [
      "0\n",
      "1\n",
      "2\n",
      "3\n",
      "4\n"
     ]
    }
   ],
   "source": [
    "#Imprimindo os valores no intervalo entre 0 e 5\n",
    "\n",
    "for contador in range(0,5):\n",
    "    print(contador)"
   ]
  },
  {
   "cell_type": "code",
   "execution_count": 8,
   "id": "1d76409f",
   "metadata": {},
   "outputs": [
    {
     "name": "stdout",
     "output_type": "stream",
     "text": [
      "2\n",
      "4\n",
      "6\n",
      "8\n",
      "10\n"
     ]
    }
   ],
   "source": [
    "lista = [1, 2, 3, 4, 5, 6, 7, 8, 9, 10]\n",
    "for num in lista:\n",
    "    if num % 2 == 0:\n",
    "    \tprint(num)"
   ]
  },
  {
   "cell_type": "markdown",
   "id": "2abd73df",
   "metadata": {},
   "source": [
    "# Loop For Aninhado"
   ]
  },
  {
   "cell_type": "code",
   "execution_count": 20,
   "id": "3cc34bd2",
   "metadata": {},
   "outputs": [
    {
     "name": "stdout",
     "output_type": "stream",
     "text": [
      "\n",
      " 0\n",
      "\n",
      " 0\n",
      "\n",
      " 0\n",
      "----\n",
      "\n",
      " 1\n",
      "\n",
      " 2\n",
      "\n",
      " 3\n",
      "----\n",
      "\n",
      " 2\n",
      "\n",
      " 4\n",
      "\n",
      " 6\n",
      "----\n",
      "\n",
      " 3\n",
      "\n",
      " 6\n",
      "\n",
      " 9\n",
      "----\n",
      "\n",
      " 4\n",
      "\n",
      " 8\n",
      "\n",
      " 12\n",
      "----\n"
     ]
    }
   ],
   "source": [
    "lista1 = [0,1,2,3,4]\n",
    "lista2 = [1,2,3]\n",
    "\n",
    "#Loop externo \n",
    "for elemento_lista1 in lista1:\n",
    "    #loop interno - Esta dentro do primeiro loop.\n",
    "\tfor elemento_lista2 in lista2:\n",
    "        \n",
    "\t\tprint('\\n', elemento_lista1 * elemento_lista2)\n",
    "   \n",
    "\tprint('----')"
   ]
  },
  {
   "cell_type": "code",
   "execution_count": 21,
   "id": "8db4d39d",
   "metadata": {},
   "outputs": [
    {
     "name": "stdout",
     "output_type": "stream",
     "text": [
      "O número 47 foi encontrado nas duas listas\n"
     ]
    }
   ],
   "source": [
    "#O número 47 aparece nas duas listas?\n",
    "lista1 = [10, 16, 24, 39, 47]\n",
    "lista2 = [32, 89, 47, 76, 12]\n",
    "\n",
    "#loop externo\n",
    "for elemento_lista1 in lista1:\n",
    "\t#loop interno \n",
    "    for elemento_lista2 in lista2:\n",
    "        #condicional \n",
    "        if elemento_lista1 == 47 and elemento_lista2 == 47:\n",
    "            \n",
    "            print('O número 47 foi encontrado nas duas listas')"
   ]
  },
  {
   "cell_type": "code",
   "execution_count": 24,
   "id": "22d23a8e",
   "metadata": {},
   "outputs": [
    {
     "name": "stdout",
     "output_type": "stream",
     "text": [
      "A soma dos números pares das duas listas é igual a 170\n"
     ]
    }
   ],
   "source": [
    "#Some os números pares da primeira lista com os números pares da segunda lista\n",
    "\n",
    "lista1 = [10, 16, 24, 39,47]\n",
    "lista2 = [32, 89, 47, 76, 12]\n",
    "soma = 0\n",
    "\n",
    "#loop externo \n",
    "for lista in [lista1, lista2]:\n",
    "    \n",
    "    #loop interno \n",
    "    for num in lista:\n",
    "        \n",
    "        #condicional \n",
    "        if num % 2 == 0:\n",
    "       \t\t soma += num\n",
    "print(\"A soma dos números pares das duas listas é igual a\", soma)"
   ]
  },
  {
   "cell_type": "code",
   "execution_count": 25,
   "id": "b71ef7ff",
   "metadata": {},
   "outputs": [
    {
     "data": {
      "text/plain": [
       "[10, 16, 24, 39, 47, 32, 89, 47, 76, 12]"
      ]
     },
     "execution_count": 25,
     "metadata": {},
     "output_type": "execute_result"
    }
   ],
   "source": [
    "lista1 + lista2"
   ]
  },
  {
   "cell_type": "code",
   "execution_count": null,
   "id": "ef89edda",
   "metadata": {},
   "outputs": [],
   "source": []
  }
 ],
 "metadata": {
  "kernelspec": {
   "display_name": "Python 3 (ipykernel)",
   "language": "python",
   "name": "python3"
  },
  "language_info": {
   "codemirror_mode": {
    "name": "ipython",
    "version": 3
   },
   "file_extension": ".py",
   "mimetype": "text/x-python",
   "name": "python",
   "nbconvert_exporter": "python",
   "pygments_lexer": "ipython3",
   "version": "3.9.13"
  }
 },
 "nbformat": 4,
 "nbformat_minor": 5
}
