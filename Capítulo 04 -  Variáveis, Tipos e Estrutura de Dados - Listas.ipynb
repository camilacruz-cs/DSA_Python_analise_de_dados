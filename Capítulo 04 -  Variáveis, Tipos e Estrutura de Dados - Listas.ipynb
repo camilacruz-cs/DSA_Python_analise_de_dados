{
 "cells": [
  {
   "cell_type": "code",
   "execution_count": 1,
   "id": "6fdd62c7",
   "metadata": {},
   "outputs": [],
   "source": [
    "#Criando uma lista - Lista DE string\n",
    "lista_1 = ['arroz, frango, laranja, tomate']"
   ]
  },
  {
   "cell_type": "code",
   "execution_count": 2,
   "id": "115c0914",
   "metadata": {},
   "outputs": [
    {
     "data": {
      "text/plain": [
       "list"
      ]
     },
     "execution_count": 2,
     "metadata": {},
     "output_type": "execute_result"
    }
   ],
   "source": [
    "type(lista_1)"
   ]
  },
  {
   "cell_type": "code",
   "execution_count": 5,
   "id": "9abf6142",
   "metadata": {},
   "outputs": [],
   "source": [
    "#Criando uma segunda lista - Lista COM string\n",
    "lista_2 = ['arroz', 'pipoca']"
   ]
  },
  {
   "cell_type": "code",
   "execution_count": 4,
   "id": "a921ab8d",
   "metadata": {},
   "outputs": [],
   "source": [
    "#Criando lista\n",
    "lista_3 = [23, 24, 'Analista de Dados Sênior']"
   ]
  },
  {
   "cell_type": "code",
   "execution_count": 6,
   "id": "674fcdbb",
   "metadata": {},
   "outputs": [
    {
     "data": {
      "text/plain": [
       "list"
      ]
     },
     "execution_count": 6,
     "metadata": {},
     "output_type": "execute_result"
    }
   ],
   "source": [
    "type(lista_3)"
   ]
  },
  {
   "cell_type": "code",
   "execution_count": 8,
   "id": "a80970b1",
   "metadata": {},
   "outputs": [],
   "source": [
    "#Atribuindo cada valor da lista a uma variável:\n",
    "item1 = lista_3[0]\n",
    "item2 = lista_3[1]\n",
    "item = lista_3[2]"
   ]
  },
  {
   "cell_type": "code",
   "execution_count": 9,
   "id": "514a2988",
   "metadata": {},
   "outputs": [
    {
     "name": "stdout",
     "output_type": "stream",
     "text": [
      "23\n"
     ]
    }
   ],
   "source": [
    "print(item1)"
   ]
  },
  {
   "cell_type": "markdown",
   "id": "5c3a4f27",
   "metadata": {},
   "source": [
    "# Atualizando um item da Lista"
   ]
  },
  {
   "cell_type": "code",
   "execution_count": 10,
   "id": "ec158c2d",
   "metadata": {},
   "outputs": [
    {
     "data": {
      "text/plain": [
       "['arroz', 'pipoca']"
      ]
     },
     "execution_count": 10,
     "metadata": {},
     "output_type": "execute_result"
    }
   ],
   "source": [
    "lista_2"
   ]
  },
  {
   "cell_type": "code",
   "execution_count": 11,
   "id": "6f98d76d",
   "metadata": {},
   "outputs": [],
   "source": [
    "#atualizando \n",
    "lista_2[1] = 'choco'"
   ]
  },
  {
   "cell_type": "code",
   "execution_count": 12,
   "id": "60d5787e",
   "metadata": {},
   "outputs": [
    {
     "data": {
      "text/plain": [
       "['arroz', 'choco']"
      ]
     },
     "execution_count": 12,
     "metadata": {},
     "output_type": "execute_result"
    }
   ],
   "source": [
    "lista_2"
   ]
  },
  {
   "cell_type": "markdown",
   "id": "cb6244fe",
   "metadata": {},
   "source": [
    "# Operadores IN (dentro)"
   ]
  },
  {
   "cell_type": "code",
   "execution_count": 13,
   "id": "4ff5401a",
   "metadata": {},
   "outputs": [],
   "source": [
    "lista_23 = [100, 2, 3.4]"
   ]
  },
  {
   "cell_type": "code",
   "execution_count": 14,
   "id": "f2f6ab7b",
   "metadata": {},
   "outputs": [
    {
     "name": "stdout",
     "output_type": "stream",
     "text": [
      "False\n"
     ]
    }
   ],
   "source": [
    "#Verificando se existe o valor 100 na lista criada\n",
    "print(10 in lista_23)"
   ]
  },
  {
   "cell_type": "code",
   "execution_count": 15,
   "id": "4cdd5557",
   "metadata": {},
   "outputs": [
    {
     "name": "stdout",
     "output_type": "stream",
     "text": [
      "True\n"
     ]
    }
   ],
   "source": [
    "print(100 in lista_23)"
   ]
  },
  {
   "cell_type": "markdown",
   "id": "f79b6c23",
   "metadata": {},
   "source": [
    "# Funções Built-in"
   ]
  },
  {
   "cell_type": "code",
   "execution_count": 16,
   "id": "d0f88e65",
   "metadata": {},
   "outputs": [],
   "source": [
    "#Criando uma lista\n",
    "lista_numeros = [10, 20, 50, 3.4]"
   ]
  },
  {
   "cell_type": "code",
   "execution_count": 17,
   "id": "7494bf63",
   "metadata": {},
   "outputs": [
    {
     "data": {
      "text/plain": [
       "4"
      ]
     },
     "execution_count": 17,
     "metadata": {},
     "output_type": "execute_result"
    }
   ],
   "source": [
    "#Função len() retorna o valor máximo da lista\n",
    "len(lista_numeros)"
   ]
  },
  {
   "cell_type": "code",
   "execution_count": 18,
   "id": "b836b3c9",
   "metadata": {},
   "outputs": [
    {
     "data": {
      "text/plain": [
       "50"
      ]
     },
     "execution_count": 18,
     "metadata": {},
     "output_type": "execute_result"
    }
   ],
   "source": [
    "#Função MAX() retorna o valor máiximo da lista\n",
    "max(lista_numeros)"
   ]
  },
  {
   "cell_type": "code",
   "execution_count": 19,
   "id": "9e29960e",
   "metadata": {},
   "outputs": [
    {
     "data": {
      "text/plain": [
       "3.4"
      ]
     },
     "execution_count": 19,
     "metadata": {},
     "output_type": "execute_result"
    }
   ],
   "source": [
    "#Função MIN() retorna o valor máiximo da lista\n",
    "min(lista_numeros)"
   ]
  },
  {
   "cell_type": "code",
   "execution_count": 20,
   "id": "442cea5e",
   "metadata": {},
   "outputs": [],
   "source": [
    "#Lista de profissões\n",
    "profissoes = ['Analista de Dados', 'Engenheiro de Dados', 'Cientista de Dados', 'Engenheiro DevOps', 'Estagiário']"
   ]
  },
  {
   "cell_type": "code",
   "execution_count": 21,
   "id": "0a5e7674",
   "metadata": {},
   "outputs": [],
   "source": [
    "#Append\n",
    "profissoes.append('Gerente de Analytics')"
   ]
  },
  {
   "cell_type": "code",
   "execution_count": 22,
   "id": "fcf1ac58",
   "metadata": {},
   "outputs": [
    {
     "data": {
      "text/plain": [
       "['Analista de Dados',\n",
       " 'Engenheiro de Dados',\n",
       " 'Cientista de Dados',\n",
       " 'Engenheiro DevOps',\n",
       " 'Estagiário',\n",
       " 'Gerente de Analytics']"
      ]
     },
     "execution_count": 22,
     "metadata": {},
     "output_type": "execute_result"
    }
   ],
   "source": [
    "profissoes"
   ]
  },
  {
   "cell_type": "code",
   "execution_count": 24,
   "id": "3f308a95",
   "metadata": {},
   "outputs": [
    {
     "data": {
      "text/plain": [
       "1"
      ]
     },
     "execution_count": 24,
     "metadata": {},
     "output_type": "execute_result"
    }
   ],
   "source": [
    "#Contagem de quantas vezes a string aparece na lista\n",
    "profissoes.count('Analista de Dados')"
   ]
  },
  {
   "cell_type": "code",
   "execution_count": 25,
   "id": "0e4f5e6c",
   "metadata": {},
   "outputs": [],
   "source": [
    "#lista vazia \n",
    "a = []"
   ]
  },
  {
   "cell_type": "code",
   "execution_count": 26,
   "id": "ba76a420",
   "metadata": {},
   "outputs": [
    {
     "data": {
      "text/plain": [
       "[]"
      ]
     },
     "execution_count": 26,
     "metadata": {},
     "output_type": "execute_result"
    }
   ],
   "source": [
    "a"
   ]
  },
  {
   "cell_type": "code",
   "execution_count": 30,
   "id": "31f5ad1a",
   "metadata": {},
   "outputs": [],
   "source": [
    "a.append(10)"
   ]
  },
  {
   "cell_type": "code",
   "execution_count": 28,
   "id": "ecf12bb8",
   "metadata": {},
   "outputs": [
    {
     "data": {
      "text/plain": [
       "[10]"
      ]
     },
     "execution_count": 28,
     "metadata": {},
     "output_type": "execute_result"
    }
   ],
   "source": [
    "a"
   ]
  },
  {
   "cell_type": "markdown",
   "id": "354ae156",
   "metadata": {},
   "source": [
    "# Um pouco mais avançado: for/in"
   ]
  },
  {
   "cell_type": "code",
   "execution_count": 31,
   "id": "f8c8af03",
   "metadata": {},
   "outputs": [],
   "source": [
    "old_list = [1, 2, 3, 4]"
   ]
  },
  {
   "cell_type": "code",
   "execution_count": 32,
   "id": "b6305f81",
   "metadata": {},
   "outputs": [],
   "source": [
    "new_list = []"
   ]
  },
  {
   "cell_type": "code",
   "execution_count": 33,
   "id": "d4781677",
   "metadata": {},
   "outputs": [],
   "source": [
    "#Como podemos copiar os dados de uma lista para outra lista?\n",
    "for item in old_list:\n",
    "    new_list.append(item)"
   ]
  },
  {
   "cell_type": "code",
   "execution_count": 34,
   "id": "ab49a401",
   "metadata": {},
   "outputs": [
    {
     "data": {
      "text/plain": [
       "[1, 2, 3, 4]"
      ]
     },
     "execution_count": 34,
     "metadata": {},
     "output_type": "execute_result"
    }
   ],
   "source": [
    "new_list"
   ]
  },
  {
   "cell_type": "markdown",
   "id": "8289ca81",
   "metadata": {},
   "source": [
    "# extend #index #insert #remove #reverse #sort"
   ]
  },
  {
   "cell_type": "code",
   "execution_count": 37,
   "id": "fcf2ce29",
   "metadata": {},
   "outputs": [],
   "source": [
    "cidades = ['Recife', 'Manaus', 'Brasília']\n",
    "cidades.extend(['Fortaleza','RJ'])"
   ]
  },
  {
   "cell_type": "code",
   "execution_count": 38,
   "id": "a5eab0f4",
   "metadata": {},
   "outputs": [
    {
     "name": "stdout",
     "output_type": "stream",
     "text": [
      "['Recife', 'Manaus', 'Brasília', 'Fortaleza', 'RJ']\n"
     ]
    }
   ],
   "source": [
    "print(cidades)"
   ]
  },
  {
   "cell_type": "code",
   "execution_count": 39,
   "id": "7f797f20",
   "metadata": {},
   "outputs": [
    {
     "data": {
      "text/plain": [
       "4"
      ]
     },
     "execution_count": 39,
     "metadata": {},
     "output_type": "execute_result"
    }
   ],
   "source": [
    "cidades.index('RJ')"
   ]
  },
  {
   "cell_type": "code",
   "execution_count": 41,
   "id": "98b60ac8",
   "metadata": {},
   "outputs": [],
   "source": [
    "cidades.insert(1, 2)"
   ]
  },
  {
   "cell_type": "code",
   "execution_count": 42,
   "id": "d0b08ddd",
   "metadata": {},
   "outputs": [
    {
     "data": {
      "text/plain": [
       "['Recife', 2, 'Manaus', 'Brasília', 'Fortaleza', 'RJ']"
      ]
     },
     "execution_count": 42,
     "metadata": {},
     "output_type": "execute_result"
    }
   ],
   "source": [
    "cidades"
   ]
  },
  {
   "cell_type": "code",
   "execution_count": 43,
   "id": "46469f3b",
   "metadata": {},
   "outputs": [],
   "source": [
    "cidades.remove(2)"
   ]
  },
  {
   "cell_type": "code",
   "execution_count": 44,
   "id": "f9b88d30",
   "metadata": {},
   "outputs": [
    {
     "data": {
      "text/plain": [
       "['Recife', 'Manaus', 'Brasília', 'Fortaleza', 'RJ']"
      ]
     },
     "execution_count": 44,
     "metadata": {},
     "output_type": "execute_result"
    }
   ],
   "source": [
    "cidades"
   ]
  },
  {
   "cell_type": "code",
   "execution_count": 45,
   "id": "85a39968",
   "metadata": {},
   "outputs": [],
   "source": [
    "cidades.reverse()"
   ]
  },
  {
   "cell_type": "code",
   "execution_count": 46,
   "id": "91813f32",
   "metadata": {},
   "outputs": [
    {
     "data": {
      "text/plain": [
       "['RJ', 'Fortaleza', 'Brasília', 'Manaus', 'Recife']"
      ]
     },
     "execution_count": 46,
     "metadata": {},
     "output_type": "execute_result"
    }
   ],
   "source": [
    "cidades"
   ]
  },
  {
   "cell_type": "code",
   "execution_count": 47,
   "id": "13b004ed",
   "metadata": {},
   "outputs": [],
   "source": [
    "cidades.sort()"
   ]
  },
  {
   "cell_type": "code",
   "execution_count": 48,
   "id": "7f7a580e",
   "metadata": {},
   "outputs": [
    {
     "data": {
      "text/plain": [
       "['Brasília', 'Fortaleza', 'Manaus', 'RJ', 'Recife']"
      ]
     },
     "execution_count": 48,
     "metadata": {},
     "output_type": "execute_result"
    }
   ],
   "source": [
    "cidades"
   ]
  },
  {
   "cell_type": "code",
   "execution_count": null,
   "id": "49707b8c",
   "metadata": {},
   "outputs": [],
   "source": []
  }
 ],
 "metadata": {
  "kernelspec": {
   "display_name": "Python 3 (ipykernel)",
   "language": "python",
   "name": "python3"
  },
  "language_info": {
   "codemirror_mode": {
    "name": "ipython",
    "version": 3
   },
   "file_extension": ".py",
   "mimetype": "text/x-python",
   "name": "python",
   "nbconvert_exporter": "python",
   "pygments_lexer": "ipython3",
   "version": "3.9.13"
  }
 },
 "nbformat": 4,
 "nbformat_minor": 5
}
