{
 "cells": [
  {
   "cell_type": "markdown",
   "id": "0310e3d8",
   "metadata": {},
   "source": [
    "##Métodos\n",
    "\n",
    "Tudo em Python é objeto. E cada objetivo tem seus próprios atributos. \n",
    "\n",
    "- Tudo é objetos por que tudo na linguagem é orientado à objetos. \n",
    "- Método é uma função. "
   ]
  },
  {
   "cell_type": "code",
   "execution_count": 1,
   "id": "4bf4037e",
   "metadata": {},
   "outputs": [],
   "source": [
    "#Criando uma lista\n",
    "\n",
    "lista = [100, -2, 12, 65, 0]"
   ]
  },
  {
   "cell_type": "code",
   "execution_count": 2,
   "id": "82655058",
   "metadata": {},
   "outputs": [
    {
     "data": {
      "text/plain": [
       "list"
      ]
     },
     "execution_count": 2,
     "metadata": {},
     "output_type": "execute_result"
    }
   ],
   "source": [
    "type(lista)"
   ]
  },
  {
   "cell_type": "code",
   "execution_count": null,
   "id": "a0ee896e",
   "metadata": {},
   "outputs": [],
   "source": [
    "list."
   ]
  }
 ],
 "metadata": {
  "kernelspec": {
   "display_name": "Python 3 (ipykernel)",
   "language": "python",
   "name": "python3"
  },
  "language_info": {
   "codemirror_mode": {
    "name": "ipython",
    "version": 3
   },
   "file_extension": ".py",
   "mimetype": "text/x-python",
   "name": "python",
   "nbconvert_exporter": "python",
   "pygments_lexer": "ipython3",
   "version": "3.9.13"
  }
 },
 "nbformat": 4,
 "nbformat_minor": 5
}
