{
 "cells": [
  {
   "cell_type": "markdown",
   "id": "04278a0e",
   "metadata": {},
   "source": [
    "# Strings e Indexação"
   ]
  },
  {
   "cell_type": "code",
   "execution_count": 1,
   "id": "a431c5aa",
   "metadata": {},
   "outputs": [
    {
     "data": {
      "text/plain": [
       "'Olá!'"
      ]
     },
     "execution_count": 1,
     "metadata": {},
     "output_type": "execute_result"
    }
   ],
   "source": [
    "#Uma string é definida por estar entre aspas. \n",
    "\"Olá!\""
   ]
  },
  {
   "cell_type": "code",
   "execution_count": 2,
   "id": "a23dc2f2",
   "metadata": {},
   "outputs": [
    {
     "data": {
      "text/plain": [
       "'Olá, como vai você? To aprendendo Python'"
      ]
     },
     "execution_count": 2,
     "metadata": {},
     "output_type": "execute_result"
    }
   ],
   "source": [
    "#Frase também é uma string\n",
    "\"Olá, como vai você? To aprendendo Python\""
   ]
  },
  {
   "cell_type": "markdown",
   "id": "ee084e8e",
   "metadata": {},
   "source": [
    "# Imprimindo uma String"
   ]
  },
  {
   "cell_type": "code",
   "execution_count": 3,
   "id": "2d24da7d",
   "metadata": {},
   "outputs": [
    {
     "name": "stdout",
     "output_type": "stream",
     "text": [
      "Teste 123\n"
     ]
    }
   ],
   "source": [
    "print('Teste 123')"
   ]
  },
  {
   "cell_type": "code",
   "execution_count": 4,
   "id": "eeba7e17",
   "metadata": {},
   "outputs": [
    {
     "name": "stdout",
     "output_type": "stream",
     "text": [
      "Teste \n",
      " String \n",
      " em \n",
      " Python\n"
     ]
    }
   ],
   "source": [
    "#O \\n é um caracter. É o enter do computador.\n",
    "print('Teste \\n String \\n em \\n Python')"
   ]
  },
  {
   "cell_type": "markdown",
   "id": "7e64deed",
   "metadata": {},
   "source": [
    "# Indexando Strings"
   ]
  },
  {
   "cell_type": "code",
   "execution_count": 9,
   "id": "eb5bf0d6",
   "metadata": {},
   "outputs": [],
   "source": [
    "#Atribuindo uma String\n",
    "s = 'DSA'"
   ]
  },
  {
   "cell_type": "code",
   "execution_count": 10,
   "id": "41fa475d",
   "metadata": {},
   "outputs": [
    {
     "ename": "TypeError",
     "evalue": "'str' object is not callable",
     "output_type": "error",
     "traceback": [
      "\u001b[1;31m---------------------------------------------------------------------------\u001b[0m",
      "\u001b[1;31mTypeError\u001b[0m                                 Traceback (most recent call last)",
      "\u001b[1;32m~\\AppData\\Local\\Temp\\ipykernel_17208\\926740265.py\u001b[0m in \u001b[0;36m<module>\u001b[1;34m\u001b[0m\n\u001b[1;32m----> 1\u001b[1;33m \u001b[0mprint\u001b[0m\u001b[1;33m(\u001b[0m\u001b[0ms\u001b[0m\u001b[1;33m)\u001b[0m\u001b[1;33m\u001b[0m\u001b[1;33m\u001b[0m\u001b[0m\n\u001b[0m",
      "\u001b[1;31mTypeError\u001b[0m: 'str' object is not callable"
     ]
    }
   ],
   "source": [
    "print(s)"
   ]
  },
  {
   "cell_type": "markdown",
   "id": "c45cef09",
   "metadata": {},
   "source": [
    "# Funções Built-in de Strings "
   ]
  },
  {
   "cell_type": "code",
   "execution_count": null,
   "id": "e0a3bee7",
   "metadata": {},
   "outputs": [],
   "source": [
    "#São funções do próprio Python\n",
    "#Tudo em Python é um OBJETO. "
   ]
  },
  {
   "cell_type": "code",
   "execution_count": 1,
   "id": "180d9349",
   "metadata": {},
   "outputs": [],
   "source": [
    "a = 'Camila é quase uma tech girl'"
   ]
  },
  {
   "cell_type": "code",
   "execution_count": 2,
   "id": "af03be4d",
   "metadata": {},
   "outputs": [
    {
     "data": {
      "text/plain": [
       "'CAMILA É QUASE UMA TECH GIRL'"
      ]
     },
     "execution_count": 2,
     "metadata": {},
     "output_type": "execute_result"
    }
   ],
   "source": [
    "#Converte tudo para MAIUSCULO\n",
    "a.upper()"
   ]
  },
  {
   "cell_type": "code",
   "execution_count": 3,
   "id": "2dafe306",
   "metadata": {},
   "outputs": [
    {
     "data": {
      "text/plain": [
       "'camila é quase uma tech girl'"
      ]
     },
     "execution_count": 3,
     "metadata": {},
     "output_type": "execute_result"
    }
   ],
   "source": [
    "#Minusculo\n",
    "a.lower()"
   ]
  },
  {
   "cell_type": "code",
   "execution_count": 4,
   "id": "0072ba1e",
   "metadata": {},
   "outputs": [
    {
     "data": {
      "text/plain": [
       "['Camila', 'é', 'quase', 'uma', 'tech', 'girl']"
      ]
     },
     "execution_count": 4,
     "metadata": {},
     "output_type": "execute_result"
    }
   ],
   "source": [
    "a.split()"
   ]
  },
  {
   "cell_type": "code",
   "execution_count": 5,
   "id": "23d8d354",
   "metadata": {},
   "outputs": [
    {
     "data": {
      "text/plain": [
       "['Camila é quase uma te', 'h girl']"
      ]
     },
     "execution_count": 5,
     "metadata": {},
     "output_type": "execute_result"
    }
   ],
   "source": [
    "#Aqui ele quebra a string quando acha o caracter que nós escolhermos\n",
    "a.split('c')"
   ]
  },
  {
   "cell_type": "markdown",
   "id": "0466a200",
   "metadata": {},
   "source": [
    "# Funções String"
   ]
  },
  {
   "cell_type": "code",
   "execution_count": 7,
   "id": "8c1b0689",
   "metadata": {},
   "outputs": [],
   "source": [
    "s = 'Hoje vou pra Brasília'"
   ]
  },
  {
   "cell_type": "code",
   "execution_count": 8,
   "id": "31379295",
   "metadata": {},
   "outputs": [
    {
     "data": {
      "text/plain": [
       "'Hoje vou pra Brasília'"
      ]
     },
     "execution_count": 8,
     "metadata": {},
     "output_type": "execute_result"
    }
   ],
   "source": [
    "s"
   ]
  },
  {
   "cell_type": "code",
   "execution_count": 11,
   "id": "52ef1912",
   "metadata": {},
   "outputs": [
    {
     "data": {
      "text/plain": [
       "'Hoje vou pra brasília'"
      ]
     },
     "execution_count": 11,
     "metadata": {},
     "output_type": "execute_result"
    }
   ],
   "source": [
    "s.capitalize()"
   ]
  },
  {
   "cell_type": "code",
   "execution_count": 12,
   "id": "5aaa5746",
   "metadata": {},
   "outputs": [
    {
     "data": {
      "text/plain": [
       "False"
      ]
     },
     "execution_count": 12,
     "metadata": {},
     "output_type": "execute_result"
    }
   ],
   "source": [
    "#Se tem espaço\n",
    "a.isspace()"
   ]
  },
  {
   "cell_type": "code",
   "execution_count": 13,
   "id": "3e490bcb",
   "metadata": {},
   "outputs": [
    {
     "data": {
      "text/plain": [
       "False"
      ]
     },
     "execution_count": 13,
     "metadata": {},
     "output_type": "execute_result"
    }
   ],
   "source": [
    "#Se a string está toda em minusculo\n",
    "s.islower()"
   ]
  },
  {
   "cell_type": "code",
   "execution_count": 16,
   "id": "598aefa9",
   "metadata": {},
   "outputs": [
    {
     "data": {
      "text/plain": [
       "3"
      ]
     },
     "execution_count": 16,
     "metadata": {},
     "output_type": "execute_result"
    }
   ],
   "source": [
    "#Quantas vezes a letra A aparece. \n",
    "s.count('a')"
   ]
  },
  {
   "cell_type": "code",
   "execution_count": 17,
   "id": "41edbc0c",
   "metadata": {},
   "outputs": [],
   "source": [
    "#Aqui não é o NÚMERO 100, e sim a STRING 1000. Aqui é a representação do MIL em texto. \n",
    "#Não dá pra fazer conta com ele.\n",
    "w = '1000'"
   ]
  },
  {
   "cell_type": "code",
   "execution_count": 18,
   "id": "9080282c",
   "metadata": {},
   "outputs": [
    {
     "ename": "TypeError",
     "evalue": "can only concatenate str (not \"int\") to str",
     "output_type": "error",
     "traceback": [
      "\u001b[1;31m---------------------------------------------------------------------------\u001b[0m",
      "\u001b[1;31mTypeError\u001b[0m                                 Traceback (most recent call last)",
      "\u001b[1;32m~\\AppData\\Local\\Temp\\ipykernel_7484\\2148847494.py\u001b[0m in \u001b[0;36m<module>\u001b[1;34m\u001b[0m\n\u001b[1;32m----> 1\u001b[1;33m \u001b[0mw\u001b[0m \u001b[1;33m+\u001b[0m \u001b[1;36m2\u001b[0m\u001b[1;33m\u001b[0m\u001b[1;33m\u001b[0m\u001b[0m\n\u001b[0m",
      "\u001b[1;31mTypeError\u001b[0m: can only concatenate str (not \"int\") to str"
     ]
    }
   ],
   "source": [
    "w + 2"
   ]
  },
  {
   "cell_type": "markdown",
   "id": "14c08224",
   "metadata": {},
   "source": [
    "# Comparando Strings\n",
    "# Aqui se faz comparações com ==\n",
    "# == é comparação e = é atribuição"
   ]
  },
  {
   "cell_type": "code",
   "execution_count": 19,
   "id": "2874ad10",
   "metadata": {},
   "outputs": [
    {
     "name": "stdout",
     "output_type": "stream",
     "text": [
      "False\n"
     ]
    }
   ],
   "source": [
    "print('Python' == 'R')"
   ]
  },
  {
   "cell_type": "code",
   "execution_count": 20,
   "id": "8201c346",
   "metadata": {},
   "outputs": [
    {
     "name": "stdout",
     "output_type": "stream",
     "text": [
      "True\n"
     ]
    }
   ],
   "source": [
    "print('Python' == 'Python')"
   ]
  },
  {
   "cell_type": "code",
   "execution_count": null,
   "id": "3a4f176a",
   "metadata": {},
   "outputs": [],
   "source": []
  }
 ],
 "metadata": {
  "kernelspec": {
   "display_name": "Python 3 (ipykernel)",
   "language": "python",
   "name": "python3"
  },
  "language_info": {
   "codemirror_mode": {
    "name": "ipython",
    "version": 3
   },
   "file_extension": ".py",
   "mimetype": "text/x-python",
   "name": "python",
   "nbconvert_exporter": "python",
   "pygments_lexer": "ipython3",
   "version": "3.9.13"
  }
 },
 "nbformat": 4,
 "nbformat_minor": 5
}
