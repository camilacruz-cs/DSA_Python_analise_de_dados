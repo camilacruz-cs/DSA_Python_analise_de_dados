{
 "cells": [
  {
   "cell_type": "code",
   "execution_count": 1,
   "id": "f1d15ede",
   "metadata": {},
   "outputs": [],
   "source": [
    "estudantes_lst = ['Pedro', 24, 'Marina', 12, 'Camila', 26]"
   ]
  },
  {
   "cell_type": "code",
   "execution_count": 2,
   "id": "3a5d336d",
   "metadata": {},
   "outputs": [
    {
     "data": {
      "text/plain": [
       "['Pedro', 24, 'Marina', 12, 'Camila', 26]"
      ]
     },
     "execution_count": 2,
     "metadata": {},
     "output_type": "execute_result"
    }
   ],
   "source": [
    "estudantes_lst"
   ]
  },
  {
   "cell_type": "code",
   "execution_count": 3,
   "id": "1cb03a45",
   "metadata": {},
   "outputs": [
    {
     "data": {
      "text/plain": [
       "list"
      ]
     },
     "execution_count": 3,
     "metadata": {},
     "output_type": "execute_result"
    }
   ],
   "source": [
    "type(estudantes_lst)"
   ]
  },
  {
   "cell_type": "code",
   "execution_count": 8,
   "id": "2e9518ad",
   "metadata": {},
   "outputs": [],
   "source": [
    "#Isso é um dicionário\n",
    "estudantes_dict = {'Pedro': 24, \"Ana\": 22, \"Janaina\": 25}"
   ]
  },
  {
   "cell_type": "code",
   "execution_count": 5,
   "id": "0f94fcf7",
   "metadata": {},
   "outputs": [
    {
     "data": {
      "text/plain": [
       "{'Pedro': 24, 'Ana': 22, 'Janaina': 25}"
      ]
     },
     "execution_count": 5,
     "metadata": {},
     "output_type": "execute_result"
    }
   ],
   "source": [
    "estudantes_dict"
   ]
  },
  {
   "cell_type": "code",
   "execution_count": 6,
   "id": "982dfc64",
   "metadata": {},
   "outputs": [
    {
     "data": {
      "text/plain": [
       "dict"
      ]
     },
     "execution_count": 6,
     "metadata": {},
     "output_type": "execute_result"
    }
   ],
   "source": [
    "type(estudantes_dict)"
   ]
  },
  {
   "cell_type": "code",
   "execution_count": 9,
   "id": "0a552e0b",
   "metadata": {},
   "outputs": [
    {
     "data": {
      "text/plain": [
       "24"
      ]
     },
     "execution_count": 9,
     "metadata": {},
     "output_type": "execute_result"
    }
   ],
   "source": [
    "estudantes_dict['Pedro']"
   ]
  },
  {
   "cell_type": "code",
   "execution_count": 10,
   "id": "16f95550",
   "metadata": {},
   "outputs": [],
   "source": [
    "estudantes_dict['Pedro'] = 23"
   ]
  },
  {
   "cell_type": "code",
   "execution_count": 11,
   "id": "f1705c3e",
   "metadata": {},
   "outputs": [
    {
     "data": {
      "text/plain": [
       "{'Pedro': 23, 'Ana': 22, 'Janaina': 25}"
      ]
     },
     "execution_count": 11,
     "metadata": {},
     "output_type": "execute_result"
    }
   ],
   "source": [
    "estudantes_dict"
   ]
  },
  {
   "cell_type": "markdown",
   "id": "65da92c5",
   "metadata": {},
   "source": [
    "# Criando dicionários Aninhados"
   ]
  },
  {
   "cell_type": "code",
   "execution_count": 12,
   "id": "c9476a61",
   "metadata": {},
   "outputs": [],
   "source": [
    "#criando dicionário aninhado\n",
    "dict_aninhado = {'key1' :{'key2_aninhada':{'key3_aninhada':'Dict aninhada em Python'}}}"
   ]
  },
  {
   "cell_type": "code",
   "execution_count": 13,
   "id": "2fd95d27",
   "metadata": {},
   "outputs": [
    {
     "data": {
      "text/plain": [
       "{'key1': {'key2_aninhada': {'key3_aninhada': 'Dict aninhada em Python'}}}"
      ]
     },
     "execution_count": 13,
     "metadata": {},
     "output_type": "execute_result"
    }
   ],
   "source": [
    "dict_aninhado"
   ]
  },
  {
   "cell_type": "code",
   "execution_count": null,
   "id": "d6fc083b",
   "metadata": {},
   "outputs": [],
   "source": []
  }
 ],
 "metadata": {
  "kernelspec": {
   "display_name": "Python 3 (ipykernel)",
   "language": "python",
   "name": "python3"
  },
  "language_info": {
   "codemirror_mode": {
    "name": "ipython",
    "version": 3
   },
   "file_extension": ".py",
   "mimetype": "text/x-python",
   "name": "python",
   "nbconvert_exporter": "python",
   "pygments_lexer": "ipython3",
   "version": "3.9.13"
  }
 },
 "nbformat": 4,
 "nbformat_minor": 5
}
