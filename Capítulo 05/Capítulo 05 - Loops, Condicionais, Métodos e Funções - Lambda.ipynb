{
 "cells": [
  {
   "cell_type": "code",
   "execution_count": 1,
   "id": "a906be78",
   "metadata": {},
   "outputs": [],
   "source": [
    "#Definindo uma função - 3 linhas de código\n",
    "\n",
    "def potencia(num):\n",
    "    resultado = num ** 2\n",
    "    return resultado"
   ]
  },
  {
   "cell_type": "code",
   "execution_count": 2,
   "id": "cfb84ede",
   "metadata": {},
   "outputs": [
    {
     "data": {
      "text/plain": [
       "16"
      ]
     },
     "execution_count": 2,
     "metadata": {},
     "output_type": "execute_result"
    }
   ],
   "source": [
    "potencia(4)"
   ]
  },
  {
   "cell_type": "code",
   "execution_count": 3,
   "id": "b072f331",
   "metadata": {},
   "outputs": [],
   "source": [
    "#Definindo uma função com - 2 linhas de código\n",
    "\n",
    "def potencia(num):\n",
    "    return num ** 2"
   ]
  },
  {
   "cell_type": "code",
   "execution_count": 4,
   "id": "3ed83837",
   "metadata": {},
   "outputs": [
    {
     "data": {
      "text/plain": [
       "16"
      ]
     },
     "execution_count": 4,
     "metadata": {},
     "output_type": "execute_result"
    }
   ],
   "source": [
    "potencia(4)"
   ]
  },
  {
   "cell_type": "code",
   "execution_count": 5,
   "id": "9b25f66b",
   "metadata": {},
   "outputs": [],
   "source": [
    "#Definindo uma função com - 1 linha de código\n",
    "\n",
    "def potencia(num): return num **2 "
   ]
  },
  {
   "cell_type": "code",
   "execution_count": 6,
   "id": "3dd73876",
   "metadata": {},
   "outputs": [
    {
     "data": {
      "text/plain": [
       "16"
      ]
     },
     "execution_count": 6,
     "metadata": {},
     "output_type": "execute_result"
    }
   ],
   "source": [
    "potencia(4)"
   ]
  },
  {
   "cell_type": "code",
   "execution_count": 7,
   "id": "591fcfff",
   "metadata": {},
   "outputs": [],
   "source": [
    "#Definindo uma expressão lambda (função anônima - sem nome)\n",
    "\n",
    "potencia = lambda num:num ** 2"
   ]
  },
  {
   "cell_type": "code",
   "execution_count": 3,
   "id": "424835e7",
   "metadata": {},
   "outputs": [],
   "source": [
    "#Lembre-se operadores de comparação retorna boolean: true or false\n",
    "\n",
    "Par = lambda x: x%2==0"
   ]
  },
  {
   "cell_type": "code",
   "execution_count": 4,
   "id": "e410af2e",
   "metadata": {},
   "outputs": [
    {
     "data": {
      "text/plain": [
       "False"
      ]
     },
     "execution_count": 4,
     "metadata": {},
     "output_type": "execute_result"
    }
   ],
   "source": [
    "Par(3)"
   ]
  },
  {
   "cell_type": "code",
   "execution_count": 5,
   "id": "79011afa",
   "metadata": {},
   "outputs": [
    {
     "data": {
      "text/plain": [
       "False"
      ]
     },
     "execution_count": 5,
     "metadata": {},
     "output_type": "execute_result"
    }
   ],
   "source": [
    "Par(5)"
   ]
  },
  {
   "cell_type": "code",
   "execution_count": 6,
   "id": "a5c3c119",
   "metadata": {},
   "outputs": [],
   "source": [
    "#Buscando o caracter da primeira posição\n",
    "\n",
    "num1 = lambda s: s[0]"
   ]
  },
  {
   "cell_type": "code",
   "execution_count": 7,
   "id": "fd45c021",
   "metadata": {},
   "outputs": [
    {
     "data": {
      "text/plain": [
       "'C'"
      ]
     },
     "execution_count": 7,
     "metadata": {},
     "output_type": "execute_result"
    }
   ],
   "source": [
    "num1('Camila')"
   ]
  },
  {
   "cell_type": "code",
   "execution_count": 8,
   "id": "2eea31d6",
   "metadata": {},
   "outputs": [],
   "source": [
    "num0 = lambda s: s[::-1]"
   ]
  },
  {
   "cell_type": "code",
   "execution_count": 10,
   "id": "19cf3944",
   "metadata": {},
   "outputs": [
    {
     "data": {
      "text/plain": [
       "'alimaC'"
      ]
     },
     "execution_count": 10,
     "metadata": {},
     "output_type": "execute_result"
    }
   ],
   "source": [
    "num0('Camila')"
   ]
  },
  {
   "cell_type": "code",
   "execution_count": null,
   "id": "7ef261da",
   "metadata": {},
   "outputs": [],
   "source": []
  }
 ],
 "metadata": {
  "kernelspec": {
   "display_name": "Python 3 (ipykernel)",
   "language": "python",
   "name": "python3"
  },
  "language_info": {
   "codemirror_mode": {
    "name": "ipython",
    "version": 3
   },
   "file_extension": ".py",
   "mimetype": "text/x-python",
   "name": "python",
   "nbconvert_exporter": "python",
   "pygments_lexer": "ipython3",
   "version": "3.9.13"
  }
 },
 "nbformat": 4,
 "nbformat_minor": 5
}
