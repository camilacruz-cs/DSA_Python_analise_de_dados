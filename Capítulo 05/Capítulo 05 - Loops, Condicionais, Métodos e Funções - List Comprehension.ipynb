{
 "cells": [
  {
   "cell_type": "markdown",
   "id": "caa6920b",
   "metadata": {},
   "source": [
    "# List Comprehension \n",
    "\n",
    "[expressão for item in lista if condição == True]\n",
    "> Loop condicional dentro de uma lista"
   ]
  },
  {
   "cell_type": "code",
   "execution_count": 1,
   "id": "6c9d982f",
   "metadata": {},
   "outputs": [
    {
     "data": {
      "text/plain": [
       "[0, 1, 2, 3, 4, 5, 6, 7, 8, 9]"
      ]
     },
     "execution_count": 1,
     "metadata": {},
     "output_type": "execute_result"
    }
   ],
   "source": [
    "#List comprehension que imprime os números até 10\n",
    "\n",
    "[x for x in range(10)]"
   ]
  },
  {
   "cell_type": "code",
   "execution_count": 2,
   "id": "58bcccc6",
   "metadata": {},
   "outputs": [],
   "source": [
    "#List comprehension que imprime os númeroes até 10 e grava em uma lista Python\n",
    "\n",
    "lista_numeros = [x for x in range(10)]"
   ]
  },
  {
   "cell_type": "code",
   "execution_count": 3,
   "id": "e047577b",
   "metadata": {},
   "outputs": [
    {
     "name": "stdout",
     "output_type": "stream",
     "text": [
      "[0, 1, 2, 3, 4, 5, 6, 7, 8, 9]\n"
     ]
    }
   ],
   "source": [
    "print(lista_numeros)"
   ]
  },
  {
   "cell_type": "code",
   "execution_count": 6,
   "id": "69a0a761",
   "metadata": {},
   "outputs": [
    {
     "name": "stdout",
     "output_type": "stream",
     "text": [
      "[0, 1, 2, 3, 4]\n"
     ]
    }
   ],
   "source": [
    "#List comprehension que imprime os númeroes maiores que 5, em um intervalo de 1 a 10\n",
    "\n",
    "lista_numeros = [x for x in range(10) if x <5]\n",
    "print(lista_numeros)"
   ]
  },
  {
   "cell_type": "code",
   "execution_count": 8,
   "id": "7e0104a6",
   "metadata": {},
   "outputs": [],
   "source": [
    "#Criando uma lista de strings. Comando para buscar palavras com a letra 'm'\n",
    "\n",
    "lista_frutas = ['banana', 'abacate', 'melancia', 'cereja', 'manga']\n",
    "\n",
    "#nova lista\n",
    "nova_lista = []"
   ]
  },
  {
   "cell_type": "code",
   "execution_count": 9,
   "id": "5033d944",
   "metadata": {},
   "outputs": [
    {
     "name": "stdout",
     "output_type": "stream",
     "text": [
      "['melancia', 'manga']\n"
     ]
    }
   ],
   "source": [
    "#Loop tradicional para buscar as palavras com a letra 'm'\n",
    "for x in lista_frutas: \n",
    "    if 'm' in x:\n",
    "        nova_lista.append(x)\n",
    "        \n",
    "print(nova_lista)"
   ]
  },
  {
   "cell_type": "code",
   "execution_count": 11,
   "id": "db5a6e86",
   "metadata": {},
   "outputs": [
    {
     "name": "stdout",
     "output_type": "stream",
     "text": [
      "['melancia', 'manga']\n"
     ]
    }
   ],
   "source": [
    "#Mesmo resultado - utilizando list comprehension\n",
    "#Apresenta boa performance \n",
    "\n",
    "nova_lista = [x for x in lista_frutas if 'm' in x]\n",
    "\n",
    "print(nova_lista)"
   ]
  },
  {
   "cell_type": "code",
   "execution_count": 13,
   "id": "45b9f2af",
   "metadata": {},
   "outputs": [
    {
     "name": "stdout",
     "output_type": "stream",
     "text": [
      "{'Bob': 68, 'Michael': 84, 'Enrique': 57, 'Ana': 93}\n"
     ]
    }
   ],
   "source": [
    "#Dict comprehension\n",
    "#Dicionário de alunos e notas\n",
    "\n",
    "dict_alunos = {'Bob': 68, 'Michael': 84, 'Enrique': 57, 'Ana': 93}\n",
    "\n",
    "#Criamos um novo dicionário imprimindo os pares de chave-valor\n",
    "\n",
    "dict_alunos_status = {k:v for (k,v) in dict_alunos.items()}\n",
    "print(dict_alunos_status)"
   ]
  },
  {
   "cell_type": "code",
   "execution_count": 14,
   "id": "4f1c6c79",
   "metadata": {},
   "outputs": [
    {
     "name": "stdout",
     "output_type": "stream",
     "text": [
      "{('Ana', 93), ('Enrique', 57), ('Bob', 68), ('Michael', 84)}\n"
     ]
    }
   ],
   "source": [
    "dict_alunos_status = {k for (k) in dict_alunos.items()}\n",
    "print(dict_alunos_status)"
   ]
  },
  {
   "cell_type": "code",
   "execution_count": 15,
   "id": "6b637755",
   "metadata": {},
   "outputs": [
    {
     "name": "stdout",
     "output_type": "stream",
     "text": [
      "{'Bob': 'Reprovado', 'Michael': 'Aprovado', 'Enrique': 'Reprovado', 'Ana': 'Aprovado'}\n"
     ]
    }
   ],
   "source": [
    "dict_alunos = {'Bob': 68, 'Michael': 84, 'Enrique': 57, 'Ana': 93}\n",
    "\n",
    "#Criamos um novo dicionário imprimindo os pares de chave-valor\n",
    "\n",
    "dict_alunos_status = {k:('Aprovado' if v > 70 else \"Reprovado\") for (k,v) in dict_alunos.items()}\n",
    "print(dict_alunos_status)"
   ]
  },
  {
   "cell_type": "code",
   "execution_count": null,
   "id": "b2c64554",
   "metadata": {},
   "outputs": [],
   "source": []
  }
 ],
 "metadata": {
  "kernelspec": {
   "display_name": "Python 3 (ipykernel)",
   "language": "python",
   "name": "python3"
  },
  "language_info": {
   "codemirror_mode": {
    "name": "ipython",
    "version": 3
   },
   "file_extension": ".py",
   "mimetype": "text/x-python",
   "name": "python",
   "nbconvert_exporter": "python",
   "pygments_lexer": "ipython3",
   "version": "3.9.13"
  }
 },
 "nbformat": 4,
 "nbformat_minor": 5
}
