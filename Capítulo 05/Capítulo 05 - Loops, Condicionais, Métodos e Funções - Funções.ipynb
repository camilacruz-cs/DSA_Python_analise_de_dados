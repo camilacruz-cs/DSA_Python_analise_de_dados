{
 "cells": [
  {
   "cell_type": "code",
   "execution_count": null,
   "id": "2f02c4ad",
   "metadata": {},
   "outputs": [],
   "source": [
    "##Capítulo 5 - Funções\n"
   ]
  },
  {
   "cell_type": "code",
   "execution_count": 1,
   "id": "dde1deb0",
   "metadata": {},
   "outputs": [
    {
     "name": "stdout",
     "output_type": "stream",
     "text": [
      "Hello, World\n"
     ]
    }
   ],
   "source": [
    "#built in (interna)\n",
    "print(\"Hello, World\")"
   ]
  },
  {
   "cell_type": "code",
   "execution_count": 2,
   "id": "91e15014",
   "metadata": {},
   "outputs": [],
   "source": [
    "#Definindo uma função - palavra reservada def\n",
    "\n",
    "def primeiraFunc():\n",
    "    print(\"Hello Word\")"
   ]
  },
  {
   "cell_type": "code",
   "execution_count": 4,
   "id": "6bfa96cf",
   "metadata": {},
   "outputs": [
    {
     "name": "stdout",
     "output_type": "stream",
     "text": [
      "Hello Word\n"
     ]
    }
   ],
   "source": [
    "primeiraFunc()"
   ]
  },
  {
   "cell_type": "code",
   "execution_count": 1,
   "id": "7609b3da",
   "metadata": {},
   "outputs": [],
   "source": [
    "#Definindo uma função com parâmetro\n",
    "\n",
    "def primeiraFunc():\n",
    "    nome = 'Bob'\n",
    "    print('Hello %s' %(nome))"
   ]
  },
  {
   "cell_type": "code",
   "execution_count": 2,
   "id": "c1fdf983",
   "metadata": {},
   "outputs": [
    {
     "name": "stdout",
     "output_type": "stream",
     "text": [
      "Hello Bob\n"
     ]
    }
   ],
   "source": [
    "primeiraFunc()"
   ]
  },
  {
   "cell_type": "code",
   "execution_count": 8,
   "id": "bd139db2",
   "metadata": {},
   "outputs": [],
   "source": [
    "#Função para imprimir números\n",
    "\n",
    "def imprimirnumeros():\n",
    "    #Loop\n",
    "    for i in range(0,5):\n",
    "        print('Numero ' + str(i))"
   ]
  },
  {
   "cell_type": "code",
   "execution_count": 10,
   "id": "ab71377d",
   "metadata": {},
   "outputs": [
    {
     "name": "stdout",
     "output_type": "stream",
     "text": [
      "Numero 0\n",
      "Numero 1\n",
      "Numero 2\n",
      "Numero 3\n",
      "Numero 4\n"
     ]
    }
   ],
   "source": [
    "imprimirnumeros()"
   ]
  },
  {
   "cell_type": "code",
   "execution_count": 12,
   "id": "bd3014e7",
   "metadata": {},
   "outputs": [],
   "source": [
    "#Definindo uma função com parâmetro\n",
    "\n",
    "def segundaFunc(nome):\n",
    "    print('Hello %s' %(nome))"
   ]
  },
  {
   "cell_type": "code",
   "execution_count": 13,
   "id": "64600015",
   "metadata": {},
   "outputs": [
    {
     "name": "stdout",
     "output_type": "stream",
     "text": [
      "Hello Aluno\n"
     ]
    }
   ],
   "source": [
    "segundaFunc('Aluno')"
   ]
  },
  {
   "cell_type": "code",
   "execution_count": 21,
   "id": "066581f2",
   "metadata": {},
   "outputs": [],
   "source": [
    "#Função para somar números:\n",
    "\n",
    "def addNum(num1, num2):\n",
    "    print(\"Primeiro número:\" +str(num1))\n",
    "    print(\"Segundo número:\" +str(num2))\n",
    "    print(\"Soma: \", num1 + num2)"
   ]
  },
  {
   "cell_type": "code",
   "execution_count": 22,
   "id": "a1e9a183",
   "metadata": {},
   "outputs": [
    {
     "name": "stdout",
     "output_type": "stream",
     "text": [
      "Primeiro número:4\n",
      "Segundo número:7\n",
      "Soma:  11\n"
     ]
    }
   ],
   "source": [
    "#Chamando a função e passando parâmetros\n",
    "\n",
    "addNum(4, 7)"
   ]
  },
  {
   "cell_type": "code",
   "execution_count": 23,
   "id": "b5faf206",
   "metadata": {},
   "outputs": [
    {
     "name": "stdout",
     "output_type": "stream",
     "text": [
      "Primeiro número:45\n",
      "Segundo número:6\n",
      "Soma:  51\n"
     ]
    }
   ],
   "source": [
    "addNum(45, 6)"
   ]
  },
  {
   "cell_type": "code",
   "execution_count": 24,
   "id": "abd80e05",
   "metadata": {},
   "outputs": [],
   "source": [
    "#Funções com número variável de argumentos:\n",
    "\n",
    "def printVarInfo(arg1, *vartuple):\n",
    "    \n",
    "    #imprimindo o valor do primeiro arumento\n",
    "    print(\"O parâmentro passado foi: \", arg1)\n",
    "    \n",
    "    #imprimindo o valor do segundo argumento\n",
    "    for i in vartuple:\n",
    "        print(\"O parãmetro passado foi: \", i)\n",
    "    return;"
   ]
  },
  {
   "cell_type": "code",
   "execution_count": 25,
   "id": "ed00f4dc",
   "metadata": {},
   "outputs": [
    {
     "name": "stdout",
     "output_type": "stream",
     "text": [
      "O parâmentro passado foi:  10\n"
     ]
    }
   ],
   "source": [
    "printVarInfo(10)"
   ]
  },
  {
   "cell_type": "code",
   "execution_count": 26,
   "id": "fcdf89e1",
   "metadata": {},
   "outputs": [
    {
     "name": "stdout",
     "output_type": "stream",
     "text": [
      "O parâmentro passado foi:  Chocolate\n",
      "O parãmetro passado foi:  Bolacha\n"
     ]
    }
   ],
   "source": [
    "printVarInfo('Chocolate', 'Bolacha')"
   ]
  },
  {
   "cell_type": "markdown",
   "id": "59869352",
   "metadata": {},
   "source": [
    "# Escopo de Variável - Local e Global"
   ]
  },
  {
   "cell_type": "code",
   "execution_count": 27,
   "id": "cdd229ef",
   "metadata": {},
   "outputs": [],
   "source": [
    "#Variável Global - Importante não usar os mesmos nomes para as variáveis. \n",
    "\n",
    "var_global = 10 #Esta é a variável global\n",
    "\n",
    "#Função\n",
    "\n",
    "def multiplica_numeros(num1, num2):\n",
    "    var_global = num1 + num2 #variável local\n",
    "    print(var_global)"
   ]
  },
  {
   "cell_type": "code",
   "execution_count": 28,
   "id": "f32a7961",
   "metadata": {},
   "outputs": [
    {
     "name": "stdout",
     "output_type": "stream",
     "text": [
      "30\n"
     ]
    }
   ],
   "source": [
    "multiplica_numeros(5, 25)"
   ]
  },
  {
   "cell_type": "code",
   "execution_count": 29,
   "id": "4673f66a",
   "metadata": {},
   "outputs": [
    {
     "data": {
      "text/plain": [
       "10"
      ]
     },
     "execution_count": 29,
     "metadata": {},
     "output_type": "execute_result"
    }
   ],
   "source": [
    "var_global"
   ]
  },
  {
   "cell_type": "code",
   "execution_count": 3,
   "id": "6fbe2cde",
   "metadata": {},
   "outputs": [],
   "source": [
    "#Variável global\n",
    "\n",
    "var_global = 10\n",
    "\n",
    "#Função\n",
    "def multiplica_numeros(num1, num2):\n",
    "    var_local = num1 * num2 #esta é a variável local\n",
    "    print(var_local)"
   ]
  },
  {
   "cell_type": "code",
   "execution_count": 4,
   "id": "ef1afe6e",
   "metadata": {},
   "outputs": [
    {
     "name": "stdout",
     "output_type": "stream",
     "text": [
      "125\n"
     ]
    }
   ],
   "source": [
    "multiplica_numeros(5, 25)"
   ]
  },
  {
   "cell_type": "markdown",
   "id": "aa1d2c09",
   "metadata": {},
   "source": [
    "# Funções Built-in\n"
   ]
  },
  {
   "cell_type": "code",
   "execution_count": 7,
   "id": "2f19f8a1",
   "metadata": {},
   "outputs": [
    {
     "data": {
      "text/plain": [
       "10"
      ]
     },
     "execution_count": 7,
     "metadata": {},
     "output_type": "execute_result"
    }
   ],
   "source": [
    "#Função para trazer o valor absoluto de um numero\n",
    "\n",
    "abs(-10)\n"
   ]
  },
  {
   "cell_type": "code",
   "execution_count": 8,
   "id": "0b4ec4ca",
   "metadata": {},
   "outputs": [
    {
     "data": {
      "text/plain": [
       "True"
      ]
     },
     "execution_count": 8,
     "metadata": {},
     "output_type": "execute_result"
    }
   ],
   "source": [
    "#Função para retornar o valor booleano de um número\n",
    "bool(1)"
   ]
  },
  {
   "cell_type": "code",
   "execution_count": 9,
   "id": "d4506761",
   "metadata": {},
   "outputs": [
    {
     "data": {
      "text/plain": [
       "4"
      ]
     },
     "execution_count": 9,
     "metadata": {},
     "output_type": "execute_result"
    }
   ],
   "source": [
    "#Função para retornar o valor inteiro de um número. Aqui ele vai arrendondar. \n",
    "\n",
    "int(4.3)"
   ]
  },
  {
   "cell_type": "code",
   "execution_count": 10,
   "id": "0e746fa9",
   "metadata": {},
   "outputs": [
    {
     "data": {
      "text/plain": [
       "'3'"
      ]
     },
     "execution_count": 10,
     "metadata": {},
     "output_type": "execute_result"
    }
   ],
   "source": [
    "#Função para tranformar o dado em string\n",
    "\n",
    "str('3')"
   ]
  },
  {
   "cell_type": "code",
   "execution_count": 11,
   "id": "6527716c",
   "metadata": {},
   "outputs": [
    {
     "data": {
      "text/plain": [
       "5.0"
      ]
     },
     "execution_count": 11,
     "metadata": {},
     "output_type": "execute_result"
    }
   ],
   "source": [
    "#Tranformando em decimal\n",
    "float(5)"
   ]
  },
  {
   "cell_type": "code",
   "execution_count": 12,
   "id": "26d3a116",
   "metadata": {},
   "outputs": [
    {
     "data": {
      "text/plain": [
       "25"
      ]
     },
     "execution_count": 12,
     "metadata": {},
     "output_type": "execute_result"
    }
   ],
   "source": [
    "#Transformando para número inteiro\n",
    "\n",
    "int(\"25\")"
   ]
  },
  {
   "cell_type": "code",
   "execution_count": 15,
   "id": "da5682b0",
   "metadata": {},
   "outputs": [
    {
     "data": {
      "text/plain": [
       "123.345"
      ]
     },
     "execution_count": 15,
     "metadata": {},
     "output_type": "execute_result"
    }
   ],
   "source": [
    "#Converte um valor em um número de ponto flutuante\n",
    "\n",
    "float('123.345')"
   ]
  },
  {
   "cell_type": "code",
   "execution_count": 18,
   "id": "f0463e57",
   "metadata": {},
   "outputs": [
    {
     "data": {
      "text/plain": [
       "'250'"
      ]
     },
     "execution_count": 18,
     "metadata": {},
     "output_type": "execute_result"
    }
   ],
   "source": [
    "#Numero para string\n",
    "\n",
    "str('250')"
   ]
  },
  {
   "cell_type": "code",
   "execution_count": 20,
   "id": "3f79f2f7",
   "metadata": {},
   "outputs": [
    {
     "data": {
      "text/plain": [
       "4"
      ]
     },
     "execution_count": 20,
     "metadata": {},
     "output_type": "execute_result"
    }
   ],
   "source": [
    "#Capturando a quantidade de números numa lista\n",
    "\n",
    "len([233, 456, 89, 198])"
   ]
  },
  {
   "cell_type": "code",
   "execution_count": 21,
   "id": "726fec90",
   "metadata": {},
   "outputs": [],
   "source": [
    "#array\n",
    "\n",
    "array = [1, 2, 3]"
   ]
  },
  {
   "cell_type": "code",
   "execution_count": 22,
   "id": "48c22a25",
   "metadata": {},
   "outputs": [
    {
     "data": {
      "text/plain": [
       "3"
      ]
     },
     "execution_count": 22,
     "metadata": {},
     "output_type": "execute_result"
    }
   ],
   "source": [
    "max(array)"
   ]
  },
  {
   "cell_type": "code",
   "execution_count": 23,
   "id": "a7681b5f",
   "metadata": {},
   "outputs": [
    {
     "data": {
      "text/plain": [
       "1"
      ]
     },
     "execution_count": 23,
     "metadata": {},
     "output_type": "execute_result"
    }
   ],
   "source": [
    "min(array)"
   ]
  },
  {
   "cell_type": "code",
   "execution_count": 24,
   "id": "d3931b46",
   "metadata": {},
   "outputs": [
    {
     "data": {
      "text/plain": [
       "208"
      ]
     },
     "execution_count": 24,
     "metadata": {},
     "output_type": "execute_result"
    }
   ],
   "source": [
    "list1 = [16, 17, 156, 19]\n",
    "\n",
    "sum(list1)"
   ]
  },
  {
   "cell_type": "markdown",
   "id": "cd3b374f",
   "metadata": {},
   "source": [
    "# Criando funções usando outras funções"
   ]
  },
  {
   "cell_type": "code",
   "execution_count": 26,
   "id": "e6c45389",
   "metadata": {},
   "outputs": [],
   "source": [
    "import math\n",
    "\n",
    "#Verificando se um número é primo\n",
    "def numPrim(num):\n",
    "    if (num % 2) == 0 and num >2:\n",
    "        return \"Este número não é primo, e sim, par\"\n",
    "    for i in range(3, int(math.sqrt(num)) + 1, 2):\n",
    "        if (num % i) == 0:\n",
    "            return \"Este número não é primo\"\n",
    "        return \"Este número é primo\""
   ]
  },
  {
   "cell_type": "code",
   "execution_count": 28,
   "id": "deaa916b",
   "metadata": {},
   "outputs": [
    {
     "data": {
      "text/plain": [
       "'Este número é primo'"
      ]
     },
     "execution_count": 28,
     "metadata": {},
     "output_type": "execute_result"
    }
   ],
   "source": [
    "numPrim(541)"
   ]
  },
  {
   "cell_type": "code",
   "execution_count": 30,
   "id": "caa86a30",
   "metadata": {},
   "outputs": [
    {
     "data": {
      "text/plain": [
       "'Este número é primo'"
      ]
     },
     "execution_count": 30,
     "metadata": {},
     "output_type": "execute_result"
    }
   ],
   "source": [
    "numPrim(85)"
   ]
  },
  {
   "cell_type": "code",
   "execution_count": 31,
   "id": "cecbff60",
   "metadata": {},
   "outputs": [],
   "source": [
    "#Criando uma string\n",
    "\n",
    "caixa_baixa = \"Este Texto Deveria Estar Todo Em Caixa Baixa, Vulgo LowerCase\""
   ]
  },
  {
   "cell_type": "code",
   "execution_count": 32,
   "id": "5ad31711",
   "metadata": {},
   "outputs": [],
   "source": [
    "def lowercase(text):  #Isso permite que você crie módulos em Python.\n",
    "    return text.lower()"
   ]
  },
  {
   "cell_type": "code",
   "execution_count": 33,
   "id": "d4361b11",
   "metadata": {},
   "outputs": [],
   "source": [
    "lowercased_string = lowercase(caixa_baixa)"
   ]
  },
  {
   "cell_type": "code",
   "execution_count": 34,
   "id": "c8f62d8e",
   "metadata": {},
   "outputs": [
    {
     "data": {
      "text/plain": [
       "'este texto deveria estar todo em caixa baixa, vulgo lowercase'"
      ]
     },
     "execution_count": 34,
     "metadata": {},
     "output_type": "execute_result"
    }
   ],
   "source": [
    "lowercased_string"
   ]
  },
  {
   "cell_type": "markdown",
   "id": "692d6a40",
   "metadata": {},
   "source": [
    "# Fazendo split dos Dados\n"
   ]
  },
  {
   "cell_type": "code",
   "execution_count": 3,
   "id": "b628e50a",
   "metadata": {},
   "outputs": [],
   "source": [
    "#Fazendo split dos dados\n",
    "\n",
    "def slipt_string_palavras(text):\n",
    "    return text.split(\" \")"
   ]
  },
  {
   "cell_type": "code",
   "execution_count": 2,
   "id": "57ce69c2",
   "metadata": {},
   "outputs": [],
   "source": [
    "texto = \"Esta função será bastante útil para separar grandes volumes de dados\""
   ]
  },
  {
   "cell_type": "code",
   "execution_count": 8,
   "id": "e320ae1d",
   "metadata": {},
   "outputs": [],
   "source": [
    "#Podemos atribuir o output de uma função para uma variável\n",
    "token = slipt_string_palavras(texto)"
   ]
  },
  {
   "cell_type": "code",
   "execution_count": 7,
   "id": "7d856819",
   "metadata": {},
   "outputs": [
    {
     "name": "stdout",
     "output_type": "stream",
     "text": [
      "['Esta', 'função', 'será', 'bastante', 'útil', 'para', 'separar', 'grandes', 'volumes', 'de', 'dados']\n"
     ]
    }
   ],
   "source": [
    "print(slipt_string_palavras(texto))"
   ]
  },
  {
   "cell_type": "code",
   "execution_count": 9,
   "id": "71d59ebe",
   "metadata": {},
   "outputs": [
    {
     "data": {
      "text/plain": [
       "['Esta',\n",
       " 'função',\n",
       " 'será',\n",
       " 'bastante',\n",
       " 'útil',\n",
       " 'para',\n",
       " 'separar',\n",
       " 'grandes',\n",
       " 'volumes',\n",
       " 'de',\n",
       " 'dados']"
      ]
     },
     "execution_count": 9,
     "metadata": {},
     "output_type": "execute_result"
    }
   ],
   "source": [
    "token"
   ]
  },
  {
   "cell_type": "code",
   "execution_count": 10,
   "id": "0122e296",
   "metadata": {},
   "outputs": [],
   "source": [
    "#Fazendo split dos dados\n",
    "\n",
    "def split_string_letras(text):\n",
    "    texto = text.upper()\n",
    "    for letra in texto:\n",
    "        print(letra)"
   ]
  },
  {
   "cell_type": "code",
   "execution_count": 11,
   "id": "00014ac6",
   "metadata": {},
   "outputs": [
    {
     "name": "stdout",
     "output_type": "stream",
     "text": [
      "E\n",
      "S\n",
      "T\n",
      "A\n",
      " \n",
      "F\n",
      "U\n",
      "N\n",
      "Ç\n",
      "Ã\n",
      "O\n",
      " \n",
      "S\n",
      "E\n",
      "R\n",
      "Á\n",
      " \n",
      "B\n",
      "A\n",
      "S\n",
      "T\n",
      "A\n",
      "N\n",
      "T\n",
      "E\n",
      " \n",
      "Ú\n",
      "T\n",
      "I\n",
      "L\n",
      " \n",
      "P\n",
      "A\n",
      "R\n",
      "A\n",
      " \n",
      "S\n",
      "E\n",
      "P\n",
      "A\n",
      "R\n",
      "A\n",
      "R\n",
      " \n",
      "G\n",
      "R\n",
      "A\n",
      "N\n",
      "D\n",
      "E\n",
      "S\n",
      " \n",
      "V\n",
      "O\n",
      "L\n",
      "U\n",
      "M\n",
      "E\n",
      "S\n",
      " \n",
      "D\n",
      "E\n",
      " \n",
      "D\n",
      "A\n",
      "D\n",
      "O\n",
      "S\n"
     ]
    }
   ],
   "source": [
    "split_string_letras(texto)"
   ]
  },
  {
   "cell_type": "code",
   "execution_count": null,
   "id": "ce6d447d",
   "metadata": {},
   "outputs": [],
   "source": []
  }
 ],
 "metadata": {
  "kernelspec": {
   "display_name": "Python 3 (ipykernel)",
   "language": "python",
   "name": "python3"
  },
  "language_info": {
   "codemirror_mode": {
    "name": "ipython",
    "version": 3
   },
   "file_extension": ".py",
   "mimetype": "text/x-python",
   "name": "python",
   "nbconvert_exporter": "python",
   "pygments_lexer": "ipython3",
   "version": "3.9.13"
  }
 },
 "nbformat": 4,
 "nbformat_minor": 5
}
