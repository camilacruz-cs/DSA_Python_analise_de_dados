{
  "nbformat": 4,
  "nbformat_minor": 0,
  "metadata": {
    "colab": {
      "provenance": [],
      "authorship_tag": "ABX9TyPeuXq/dxVSV1eiHiqjUQ5z",
      "include_colab_link": true
    },
    "kernelspec": {
      "name": "python3",
      "display_name": "Python 3"
    },
    "language_info": {
      "name": "python"
    }
  },
  "cells": [
    {
      "cell_type": "markdown",
      "metadata": {
        "id": "view-in-github",
        "colab_type": "text"
      },
      "source": [
        "<a href=\"https://colab.research.google.com/github/camilacruz-cs/DSA_Python_analise_de_dados/blob/main/Cap%C3%ADtulo%2006/Projeto_1/%20Jogo_da_Forca_v1.ipynb\" target=\"_parent\"><img src=\"https://colab.research.google.com/assets/colab-badge.svg\" alt=\"Open In Colab\"/></a>"
      ]
    },
    {
      "cell_type": "code",
      "source": [
        "#Projeto 1 - Desenvolvimento de Game em Linguagem Python - Versão 1\n",
        "\n",
        "#Import\n",
        "\n",
        "import random\n",
        "from os import system, name\n",
        "\n",
        "#Função para limpar a tela a cada execução\n",
        "\n",
        "#Windows\n",
        "def limpa_tela():\n",
        "\n",
        "\t#windows\n",
        "\tif name == 'nt':\n",
        "\t\t_ = system('cls')\n",
        "\n",
        "\telse:\n",
        "\t\t_ = system('clear')"
      ],
      "metadata": {
        "id": "9u1gjI6FGyUk"
      },
      "execution_count": 7,
      "outputs": []
    },
    {
      "cell_type": "code",
      "source": [
        "# Função Game\n",
        "def game():\n",
        "    limpa_tela()\n",
        "\n",
        "    print(\"\\nBem Vindo(a) ao jogo da forca!\")\n",
        "    print(\"Adivinhe a palavra abaixo\")\n",
        "\n",
        "    # Lista de palavras do jogo\n",
        "    palavras = ['Zero', 'Psiu', 'Tudo', 'Caju']\n",
        "\n",
        "    # Escolha da palavra\n",
        "    palavra = random.choice(palavras)\n",
        "\n",
        "    # List comprehension\n",
        "    letras_descobertas = ['_' for letra in palavra]\n",
        "\n",
        "    # Números de chances\n",
        "    chances = 6\n",
        "\n",
        "    # Lista para as letras erradas\n",
        "    letras_erradas = []\n",
        "\n",
        "    while chances > 0:\n",
        "\n",
        "        # Print do estado atual\n",
        "        print(\" \".join(letras_descobertas))\n",
        "        print(\"\\nChances restantes:\", chances)\n",
        "        print(\"Letras erradas:\", \" \".join(letras_erradas))\n",
        "\n",
        "        # Tentativa do usuário\n",
        "        tentativa = input(\"\\nDigite uma letra: \").lower()\n",
        "\n",
        "        # Condicional\n",
        "        if tentativa in palavra:\n",
        "            index = 0\n",
        "            for letra in palavra:\n",
        "                if tentativa == letra:\n",
        "                    letras_descobertas[index] = letra\n",
        "                index += 1\n",
        "        else:\n",
        "            chances -= 1\n",
        "            letras_erradas.append(tentativa)\n",
        "\n",
        "        # Condicional\n",
        "        if \"_\" not in letras_descobertas:\n",
        "            print(\"\\nVocê venceu, a palavra era:\", palavra)\n",
        "            break\n",
        "\n",
        "    if \"_\" in letras_descobertas:\n",
        "        print(\"\\nVocê perdeu, a palavra era:\", palavra)\n",
        "\n",
        "\n",
        "# Bloco main\n",
        "if __name__ == \"__main__\":\n",
        "    game()\n",
        "    print(\"\\nParabéns. Você venceu!\")\n"
      ],
      "metadata": {
        "colab": {
          "base_uri": "https://localhost:8080/"
        },
        "id": "fEs28n8fKifX",
        "outputId": "2438e2bc-d7ce-4980-d73f-b8430bc30907"
      },
      "execution_count": 21,
      "outputs": [
        {
          "output_type": "stream",
          "name": "stdout",
          "text": [
            "\n",
            "Bem Vindo(a) ao jogo da forca!\n",
            "Adivinhe a palavra abaixo\n",
            "_ _ _ _\n",
            "\n",
            "Chances restantes: 6\n",
            "Letras erradas: \n",
            "\n",
            "Digite uma letra: c\n",
            "c _ _ _\n",
            "\n",
            "Chances restantes: 6\n",
            "Letras erradas: \n",
            "\n",
            "Digite uma letra: a\n",
            "c a _ _\n",
            "\n",
            "Chances restantes: 6\n",
            "Letras erradas: \n",
            "\n",
            "Digite uma letra: j\n",
            "c a j _\n",
            "\n",
            "Chances restantes: 6\n",
            "Letras erradas: \n",
            "\n",
            "Digite uma letra: u\n",
            "\n",
            "Você venceu, a palavra era: caju\n",
            "\n",
            "Parabéns. Você venceu!\n"
          ]
        }
      ]
    }
  ]
}