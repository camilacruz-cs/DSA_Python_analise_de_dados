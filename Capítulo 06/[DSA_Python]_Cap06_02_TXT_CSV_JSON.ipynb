{
  "cells": [
    {
      "cell_type": "markdown",
      "metadata": {
        "id": "mUkKbRirIyMF"
      },
      "source": [
        "# <font color='blue'>Data Science Academy</font>\n",
        "\n",
        "## <font color='blue'>Fundamentos de Linguagem Python Para Análise de Dados e Data Science</font>\n",
        "\n",
        "## <font color='blue'>Capítulo 6 - Manipulação de Arquivos - Parte 2</font>"
      ]
    },
    {
      "cell_type": "code",
      "execution_count": 1,
      "metadata": {
        "colab": {
          "base_uri": "https://localhost:8080/"
        },
        "id": "kFNO_lqcIyMH",
        "outputId": "75781670-4b0e-4d17-b141-f34f7b5fa16c"
      },
      "outputs": [
        {
          "output_type": "stream",
          "name": "stdout",
          "text": [
            "Versão da Linguagem Python Usada Neste Jupyter Notebook: 3.10.12\n"
          ]
        }
      ],
      "source": [
        "# Versão da Linguagem Python\n",
        "from platform import python_version\n",
        "print('Versão da Linguagem Python Usada Neste Jupyter Notebook:', python_version())"
      ]
    },
    {
      "cell_type": "markdown",
      "metadata": {
        "id": "U8yTwmFuIyMK"
      },
      "source": [
        "## Manipulando Arquivos TXT\n",
        "\n",
        "TXT é a extensão de arquivo para arquivos de texto puro. Um arquivo TXT é um arquivo de texto simples sem formatação, como negrito, itálico ou fontes diferentes. Ele pode ser aberto e editado com muitos aplicativos diferentes, incluindo editores de texto, processadores de texto e IDEs. Arquivos TXT são amplamente utilizados para armazenar dados de texto simples, como listas, notas e documentos de texto. Eles são universais e podem ser lidos em praticamente qualquer dispositivo ou sistema operacional."
      ]
    },
    {
      "cell_type": "code",
      "execution_count": 2,
      "metadata": {
        "id": "Hm6dZVZaIyMK"
      },
      "outputs": [],
      "source": [
        "texto = \"Cientista de Dados pode ser uma excelente alternativa de carreira.\\n\"\n",
        "texto = texto + \"Esses profissionais precisam saber como programar em Python.\\n\"\n",
        "texto += \"E, claro, devem ser proficientes em Data Science.\""
      ]
    },
    {
      "cell_type": "code",
      "execution_count": 3,
      "metadata": {
        "colab": {
          "base_uri": "https://localhost:8080/"
        },
        "id": "UG9jkSv5IyML",
        "outputId": "236e7ba5-f9aa-43d2-815c-61ac7fa1362c"
      },
      "outputs": [
        {
          "output_type": "stream",
          "name": "stdout",
          "text": [
            "Cientista de Dados pode ser uma excelente alternativa de carreira.\n",
            "Esses profissionais precisam saber como programar em Python.\n",
            "E, claro, devem ser proficientes em Data Science.\n"
          ]
        }
      ],
      "source": [
        "print(texto)"
      ]
    },
    {
      "cell_type": "code",
      "execution_count": 4,
      "metadata": {
        "id": "QKDJRdTMIyML"
      },
      "outputs": [],
      "source": [
        "# Importando o módulo os\n",
        "import os"
      ]
    },
    {
      "cell_type": "code",
      "execution_count": 5,
      "metadata": {
        "id": "fSkEndeRIyMM"
      },
      "outputs": [],
      "source": [
        "# Criando um arquivo\n",
        "arquivo = open(os.path.join('/content/cientista.txt'),'w')"
      ]
    },
    {
      "cell_type": "code",
      "execution_count": 6,
      "metadata": {
        "id": "kAhKnNKoIyMM"
      },
      "outputs": [],
      "source": [
        "# Gravando os dados no arquivo\n",
        "for palavra in texto.split():\n",
        "    arquivo.write(palavra + ' ')"
      ]
    },
    {
      "cell_type": "code",
      "execution_count": 7,
      "metadata": {
        "id": "y3ODoht8IyMN"
      },
      "outputs": [],
      "source": [
        "# Fechando o arquivo\n",
        "arquivo.close()"
      ]
    },
    {
      "cell_type": "code",
      "execution_count": 9,
      "metadata": {
        "colab": {
          "base_uri": "https://localhost:8080/"
        },
        "id": "u8oZWRBdIyMN",
        "outputId": "0eeb5822-5da3-4d72-f804-41590f8879e5"
      },
      "outputs": [
        {
          "output_type": "stream",
          "name": "stdout",
          "text": [
            "Cientista de Dados pode ser uma excelente alternativa de carreira. Esses profissionais precisam saber como programar em Python. E, claro, devem ser proficientes em Data Science. \n"
          ]
        }
      ],
      "source": [
        "# Lendo o arquivo\n",
        "arquivo = open('/content/cientista.txt','r')\n",
        "conteudo = arquivo.read()\n",
        "arquivo.close()\n",
        "print(conteudo)"
      ]
    },
    {
      "cell_type": "markdown",
      "metadata": {
        "id": "aAPLLsSNIyMO"
      },
      "source": [
        "### Usando a Expressão `with`\n",
        "\n",
        "O método close() é executado automaticamente."
      ]
    },
    {
      "cell_type": "code",
      "execution_count": 10,
      "metadata": {
        "id": "6UgdhoxrIyMO"
      },
      "outputs": [],
      "source": [
        "with open('/content/cientista.txt','r') as arquivo:\n",
        "    conteudo = arquivo.read()"
      ]
    },
    {
      "cell_type": "code",
      "execution_count": 11,
      "metadata": {
        "colab": {
          "base_uri": "https://localhost:8080/"
        },
        "id": "soDasJApIyMO",
        "outputId": "d7def5f4-9324-49e8-93e7-4b92c6efdc09"
      },
      "outputs": [
        {
          "output_type": "stream",
          "name": "stdout",
          "text": [
            "178\n"
          ]
        }
      ],
      "source": [
        "print(len(conteudo))"
      ]
    },
    {
      "cell_type": "code",
      "execution_count": 12,
      "metadata": {
        "colab": {
          "base_uri": "https://localhost:8080/"
        },
        "id": "AnyBPcVUIyMP",
        "outputId": "90f7c5c2-d148-4334-9e12-16375748cd45"
      },
      "outputs": [
        {
          "output_type": "stream",
          "name": "stdout",
          "text": [
            "Cientista de Dados pode ser uma excelente alternativa de carreira. Esses profissionais precisam saber como programar em Python. E, claro, devem ser proficientes em Data Science. \n"
          ]
        }
      ],
      "source": [
        "print(conteudo)"
      ]
    },
    {
      "cell_type": "code",
      "execution_count": 14,
      "metadata": {
        "id": "dXyayBacIyMP"
      },
      "outputs": [],
      "source": [
        "with open('/content/cientista.txt','w') as arquivo:\n",
        "    arquivo.write(texto[:19])\n",
        "    arquivo.write('\\n')\n",
        "    arquivo.write(texto[28:66])"
      ]
    },
    {
      "cell_type": "code",
      "execution_count": 15,
      "metadata": {
        "colab": {
          "base_uri": "https://localhost:8080/"
        },
        "id": "Rqog3BpoIyMP",
        "outputId": "2eceba99-167a-4e1e-fafc-03238666705e"
      },
      "outputs": [
        {
          "output_type": "stream",
          "name": "stdout",
          "text": [
            "Cientista de Dados \n",
            "uma excelente alternativa de carreira.\n"
          ]
        }
      ],
      "source": [
        "# Lendo o arquivo\n",
        "arquivo = open('/content/cientista.txt','r')\n",
        "conteudo = arquivo.read()\n",
        "arquivo.close()\n",
        "print (conteudo)"
      ]
    },
    {
      "cell_type": "markdown",
      "metadata": {
        "id": "vSU-4tgoIyMQ"
      },
      "source": [
        "## Manipulando Arquivos CSV\n",
        "\n",
        "CSV (Comma-Separated Values) é um formato de arquivo que armazena dados tabulares em formato de texto plano. Cada linha do arquivo CSV representa uma linha da tabela e as colunas são separadas por vírgulas. É amplamente utilizado para exportar e importar dados em diferentes aplicações, como planilhas e banco de dados. CSV é uma opção simples e universal para compartilhar dados, pois pode ser aberto e editado com muitos aplicativos diferentes, incluindo programas de planilha e editores de texto."
      ]
    },
    {
      "cell_type": "code",
      "execution_count": 2,
      "metadata": {
        "id": "GPJ6heqvIyMQ"
      },
      "outputs": [],
      "source": [
        "# Importando o módulo csv\n",
        "import csv"
      ]
    },
    {
      "cell_type": "code",
      "execution_count": 3,
      "metadata": {
        "id": "tkHXoCm7IyMQ"
      },
      "outputs": [],
      "source": [
        "with open('/content/numeros.csv','w') as arquivo:\n",
        "\n",
        "    # Cria o objeto de gravação\n",
        "    writer = csv.writer(arquivo)\n",
        "\n",
        "    # Grava no arquivo linha a linha\n",
        "    writer.writerow(('nota1', 'nota2', 'nota3'))\n",
        "    writer.writerow((63,87,92))\n",
        "    writer.writerow((61,79,76))\n",
        "    writer.writerow((72,64,91))"
      ]
    },
    {
      "cell_type": "code",
      "execution_count": 4,
      "metadata": {
        "colab": {
          "base_uri": "https://localhost:8080/"
        },
        "id": "j6WLbiMsIyMQ",
        "outputId": "4c5272c5-9f20-4dfc-8943-8e91bb2722fa"
      },
      "outputs": [
        {
          "output_type": "stream",
          "name": "stdout",
          "text": [
            "['nota1', 'nota2', 'nota3']\n",
            "['63', '87', '92']\n",
            "['61', '79', '76']\n",
            "['72', '64', '91']\n"
          ]
        }
      ],
      "source": [
        "# Leitura de arquivos csv\n",
        "with open('/content/numeros.csv', 'r', encoding='utf8', newline = '\\r\\n') as arquivo:\n",
        "\n",
        "    # Cria o objeto de leitura\n",
        "    leitor = csv.reader(arquivo)\n",
        "\n",
        "    # Loop\n",
        "    for x in leitor:\n",
        "        print(x)"
      ]
    },
    {
      "cell_type": "code",
      "execution_count": 5,
      "metadata": {
        "id": "Z7K-CiraIyMR"
      },
      "outputs": [],
      "source": [
        "# Gerando uma lista com dados do arquivo csv\n",
        "with open('/content/numeros.csv','r') as arquivo:\n",
        "    leitor = csv.reader(arquivo)\n",
        "    dados = list(leitor)"
      ]
    },
    {
      "cell_type": "code",
      "execution_count": 6,
      "metadata": {
        "colab": {
          "base_uri": "https://localhost:8080/"
        },
        "id": "jz7LYBLtIyMR",
        "outputId": "42e426a6-1f61-4cc3-a9a6-6c5f9b3deb27"
      },
      "outputs": [
        {
          "output_type": "stream",
          "name": "stdout",
          "text": [
            "[['nota1', 'nota2', 'nota3'], ['63', '87', '92'], ['61', '79', '76'], ['72', '64', '91']]\n"
          ]
        }
      ],
      "source": [
        "print(dados)"
      ]
    },
    {
      "cell_type": "code",
      "execution_count": 7,
      "metadata": {
        "colab": {
          "base_uri": "https://localhost:8080/"
        },
        "id": "17ZDqiT8IyMR",
        "outputId": "9e38bc57-f63f-4395-f213-073d2c69a78d"
      },
      "outputs": [
        {
          "output_type": "stream",
          "name": "stdout",
          "text": [
            "['63', '87', '92']\n",
            "['61', '79', '76']\n",
            "['72', '64', '91']\n"
          ]
        }
      ],
      "source": [
        "# Impriminfo a partir da segunda linha\n",
        "for linha in dados[1:]:\n",
        "    print(linha)"
      ]
    },
    {
      "cell_type": "markdown",
      "metadata": {
        "id": "O1njcqBeIyMR"
      },
      "source": [
        "## Manipulando Arquivos JSON (Java Script Object Notation )\n",
        "\n",
        "JSON (JavaScript Object Notation) é um formato de dados de texto simples e leve que é utilizado para transmitir informações em aplicações web. É baseado em uma estrutura de objetos JavaScript e usa pares de chave-valor para representar dados. JSON é facilmente lido e escrito por máquinas e é amplamente utilizado como formato de intercâmbio de dados em aplicações web modernas."
      ]
    },
    {
      "cell_type": "code",
      "execution_count": 8,
      "metadata": {
        "id": "uOagYPmdIyMR"
      },
      "outputs": [],
      "source": [
        "# Criando um dicionário\n",
        "dict_guido = {'nome': 'Guido van Rossum',\n",
        "              'linguagem': 'Python',\n",
        "              'similar': ['c','Modula-3','lisp'],\n",
        "              'users': 1000000}"
      ]
    },
    {
      "cell_type": "code",
      "execution_count": 9,
      "metadata": {
        "colab": {
          "base_uri": "https://localhost:8080/"
        },
        "id": "YqXFOM9qIyMS",
        "outputId": "01988cc1-26dd-49ac-9941-67f8c753cefe"
      },
      "outputs": [
        {
          "output_type": "stream",
          "name": "stdout",
          "text": [
            "nome Guido van Rossum\n",
            "linguagem Python\n",
            "similar ['c', 'Modula-3', 'lisp']\n",
            "users 1000000\n"
          ]
        }
      ],
      "source": [
        "for k,v in dict_guido.items():\n",
        "    print (k,v)"
      ]
    },
    {
      "cell_type": "code",
      "execution_count": 10,
      "metadata": {
        "id": "dl_JVhgwIyMS"
      },
      "outputs": [],
      "source": [
        "# Importando o módulo JSON\n",
        "import json"
      ]
    },
    {
      "cell_type": "code",
      "execution_count": 11,
      "metadata": {
        "colab": {
          "base_uri": "https://localhost:8080/",
          "height": 36
        },
        "id": "pE9dekYzIyMS",
        "outputId": "41258daa-09e6-4be6-f97f-c3a0828ea026"
      },
      "outputs": [
        {
          "output_type": "execute_result",
          "data": {
            "text/plain": [
              "'{\"nome\": \"Guido van Rossum\", \"linguagem\": \"Python\", \"similar\": [\"c\", \"Modula-3\", \"lisp\"], \"users\": 1000000}'"
            ],
            "application/vnd.google.colaboratory.intrinsic+json": {
              "type": "string"
            }
          },
          "metadata": {},
          "execution_count": 11
        }
      ],
      "source": [
        "# Convertendo o dicionário para um objeto json\n",
        "json.dumps(dict_guido)"
      ]
    },
    {
      "cell_type": "code",
      "execution_count": 15,
      "metadata": {
        "id": "0HMhfYnZIyMS"
      },
      "outputs": [],
      "source": [
        "# Criando um arquivo Json\n",
        "with open('/content/dados.json','w') as arquivo:\n",
        "    arquivo.write(json.dumps(dict_guido))"
      ]
    },
    {
      "cell_type": "code",
      "execution_count": 16,
      "metadata": {
        "id": "eiEYEXMDIyMS"
      },
      "outputs": [],
      "source": [
        "# Leitura de arquivos Json\n",
        "with open('/content/dados.json','r') as arquivo:\n",
        "    texto = arquivo.read()\n",
        "    dados = json.loads(texto)"
      ]
    },
    {
      "cell_type": "code",
      "execution_count": 17,
      "metadata": {
        "colab": {
          "base_uri": "https://localhost:8080/"
        },
        "id": "vZORmg83IyMS",
        "outputId": "56336da3-b232-4cc5-d587-64bd9da4a4fb"
      },
      "outputs": [
        {
          "output_type": "execute_result",
          "data": {
            "text/plain": [
              "{'nome': 'Guido van Rossum',\n",
              " 'linguagem': 'Python',\n",
              " 'similar': ['c', 'Modula-3', 'lisp'],\n",
              " 'users': 1000000}"
            ]
          },
          "metadata": {},
          "execution_count": 17
        }
      ],
      "source": [
        "dados"
      ]
    },
    {
      "cell_type": "code",
      "execution_count": 18,
      "metadata": {
        "colab": {
          "base_uri": "https://localhost:8080/"
        },
        "id": "8x_9EWf3IyMT",
        "outputId": "b39333b8-661f-42a9-ccf4-47d0ef60f36c"
      },
      "outputs": [
        {
          "output_type": "stream",
          "name": "stdout",
          "text": [
            "Guido van Rossum\n"
          ]
        }
      ],
      "source": [
        "print(dados['nome'])"
      ]
    },
    {
      "cell_type": "markdown",
      "metadata": {
        "id": "G7wniEV0IyMT"
      },
      "source": [
        "### Extração de Arquivo da Web"
      ]
    },
    {
      "cell_type": "code",
      "execution_count": 19,
      "metadata": {
        "id": "ZHrk3-o7IyMT"
      },
      "outputs": [],
      "source": [
        "# Imprimindo um arquivo JSON copiado da internet\n",
        "from urllib.request import urlopen\n",
        "\n",
        "response = urlopen(\"http://vimeo.com/api/v2/video/57733101.json\").read().decode('utf8')\n",
        "dados = json.loads(response)[0]"
      ]
    },
    {
      "cell_type": "code",
      "execution_count": 20,
      "metadata": {
        "colab": {
          "base_uri": "https://localhost:8080/"
        },
        "id": "4ONUwIVdIyMT",
        "outputId": "544f7d9d-ed7b-4133-923e-93e9baec6b4f"
      },
      "outputs": [
        {
          "output_type": "execute_result",
          "data": {
            "text/plain": [
              "{'id': 57733101,\n",
              " 'title': 'The Good Man trailer',\n",
              " 'description': 'Trailer for the Manifesto Films production, The Good Man, now available in UK/Ireland/US/Canada/Australia/New Zealand on iTunes (https://itunes.apple.com/us/movie/the-good-man/id873130906) and DVD (http://www.amazon.co.uk/The-Good-Man-Aiden-Gillen/dp/B00IIK6CGU/). Co-production with Jet Black Entertainment (South Africa). Starring Aidan Gillen, Thabang Sidloyi, Kelly Campbell, Lunathi Mampofu. Written & directed by Phil Harrison. More info at www.thegoodmanfilm.com<br />\\r\\n<br />\\r\\nCheck out the Variety Magazine review here: http://www.variety.com/review/VE1117947909/',\n",
              " 'url': 'https://vimeo.com/57733101',\n",
              " 'upload_date': '2013-01-19 04:01:15',\n",
              " 'thumbnail_small': 'https://i.vimeocdn.com/video/436057121-e828a1f5478ec0136e957753d107f2a1268c64def9b82faac37c8e30c031cff2-d_100x75',\n",
              " 'thumbnail_medium': 'https://i.vimeocdn.com/video/436057121-e828a1f5478ec0136e957753d107f2a1268c64def9b82faac37c8e30c031cff2-d_200x150',\n",
              " 'thumbnail_large': 'https://i.vimeocdn.com/video/436057121-e828a1f5478ec0136e957753d107f2a1268c64def9b82faac37c8e30c031cff2-d_640',\n",
              " 'user_id': 1334563,\n",
              " 'user_name': 'Manifesto Films',\n",
              " 'user_url': 'https://vimeo.com/manifestofilms',\n",
              " 'user_portrait_small': 'https://i.vimeocdn.com/portrait/4778306_30x30?sig=dce4bd41e32adf3305ffd0a161ae27a5c919bba5773cf2f2c3ca5be075726518&v=1',\n",
              " 'user_portrait_medium': 'https://i.vimeocdn.com/portrait/4778306_75x75?sig=dce4bd41e32adf3305ffd0a161ae27a5c919bba5773cf2f2c3ca5be075726518&v=1',\n",
              " 'user_portrait_large': 'https://i.vimeocdn.com/portrait/4778306_100x100?sig=dce4bd41e32adf3305ffd0a161ae27a5c919bba5773cf2f2c3ca5be075726518&v=1',\n",
              " 'user_portrait_huge': 'https://i.vimeocdn.com/portrait/4778306_300x300?sig=dce4bd41e32adf3305ffd0a161ae27a5c919bba5773cf2f2c3ca5be075726518&v=1',\n",
              " 'stats_number_of_likes': 18,\n",
              " 'stats_number_of_plays': 6752,\n",
              " 'stats_number_of_comments': 0,\n",
              " 'duration': 143,\n",
              " 'width': 1024,\n",
              " 'height': 576,\n",
              " 'tags': 'belfast, cape town, africa, ireland, film',\n",
              " 'embed_privacy': 'anywhere'}"
            ]
          },
          "metadata": {},
          "execution_count": 20
        }
      ],
      "source": [
        "dados"
      ]
    },
    {
      "cell_type": "code",
      "execution_count": 22,
      "metadata": {
        "colab": {
          "base_uri": "https://localhost:8080/"
        },
        "id": "UIQsJxZGIyMT",
        "outputId": "1bfc36ce-8b18-40e3-8996-81714c41a719"
      },
      "outputs": [
        {
          "output_type": "stream",
          "name": "stdout",
          "text": [
            "Título:  The Good Man trailer\n",
            "URL:  https://vimeo.com/57733101\n",
            "Duração:  143\n",
            "Número de Visualizações:  6752\n"
          ]
        }
      ],
      "source": [
        "print ('Título: ', dados['title'])\n",
        "print ('URL: ', dados['url'])\n",
        "print ('Duração: ', dados['duration'])\n",
        "print ('Número de Visualizações: ', dados['stats_number_of_plays'])"
      ]
    },
    {
      "cell_type": "markdown",
      "metadata": {
        "id": "A3ksfT78IyMT"
      },
      "source": [
        "> Copiando o conteúdo de um arquivo para outro."
      ]
    },
    {
      "cell_type": "code",
      "execution_count": 25,
      "metadata": {
        "id": "l-u0riXYIyMU"
      },
      "outputs": [],
      "source": [
        "# Nomes dos arquivos\n",
        "arquivo_fonte = 'arquivos/dados.json'\n",
        "arquivo_destino = 'arquivos/dados.txt'"
      ]
    },
    {
      "cell_type": "code",
      "execution_count": null,
      "metadata": {
        "id": "zhxI_FzvIyMU"
      },
      "outputs": [],
      "source": [
        "# Método 1\n",
        "with open(arquivo_fonte,'r') as infile:\n",
        "    text = infile.read()\n",
        "    with open(arquivo_destino,'w') as outfile:\n",
        "        outfile.write(text)"
      ]
    },
    {
      "cell_type": "code",
      "execution_count": null,
      "metadata": {
        "id": "_4Z5wfNjIyMU"
      },
      "outputs": [],
      "source": [
        "# Método 2\n",
        "open(arquivo_destino,'w').write(open(arquivo_fonte,'r').read())"
      ]
    },
    {
      "cell_type": "code",
      "execution_count": null,
      "metadata": {
        "id": "v57wJlTAIyMU"
      },
      "outputs": [],
      "source": [
        "# Leitura do arquivo txt\n",
        "with open('arquivos/dados.txt','r') as arquivo:\n",
        "    texto = arquivo.read()\n",
        "    dados = json.loads(texto)"
      ]
    },
    {
      "cell_type": "code",
      "execution_count": null,
      "metadata": {
        "id": "nCbrIVsaIyMU",
        "outputId": "1c5a401f-6ae5-4162-9973-4b2371d42f89"
      },
      "outputs": [
        {
          "name": "stdout",
          "output_type": "stream",
          "text": [
            "{'nome': 'Guido van Rossum', 'linguagem': 'Python', 'similar': ['c', 'Modula-3', 'lisp'], 'users': 1000000}\n"
          ]
        }
      ],
      "source": [
        "print(dados)"
      ]
    },
    {
      "cell_type": "markdown",
      "metadata": {
        "id": "gqHt8LjeIyMU"
      },
      "source": [
        "# FIM"
      ]
    },
    {
      "cell_type": "markdown",
      "metadata": {
        "id": "mx0mSa6OIyMV"
      },
      "source": [
        "### Obrigado\n",
        "\n",
        "### Visite o Blog da Data Science Academy - <a href=\"http://blog.dsacademy.com.br\">Blog DSA</a>"
      ]
    }
  ],
  "metadata": {
    "css": [
      ""
    ],
    "kernelspec": {
      "display_name": "Python 3 (ipykernel)",
      "language": "python",
      "name": "python3"
    },
    "language_info": {
      "codemirror_mode": {
        "name": "ipython",
        "version": 3
      },
      "file_extension": ".py",
      "mimetype": "text/x-python",
      "name": "python",
      "nbconvert_exporter": "python",
      "pygments_lexer": "ipython3",
      "version": "3.9.13"
    },
    "colab": {
      "provenance": []
    }
  },
  "nbformat": 4,
  "nbformat_minor": 0
}