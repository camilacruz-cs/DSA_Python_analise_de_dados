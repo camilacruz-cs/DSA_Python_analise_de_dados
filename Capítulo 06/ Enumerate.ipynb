{
  "cells": [
    {
      "cell_type": "markdown",
      "metadata": {
        "id": "view-in-github",
        "colab_type": "text"
      },
      "source": [
        "<a href=\"https://colab.research.google.com/github/camilacruz-cs/DSA_Python_analise_de_dados/blob/main/Cap%C3%ADtulo%2006/%20Enumerate.ipynb\" target=\"_parent\"><img src=\"https://colab.research.google.com/assets/colab-badge.svg\" alt=\"Open In Colab\"/></a>"
      ]
    },
    {
      "cell_type": "markdown",
      "metadata": {
        "id": "it7JoF26GVYZ"
      },
      "source": [
        "# <font color='blue'>Data Science Academy</font>\n",
        "\n",
        "## <font color='blue'>Fundamentos de Linguagem Python Para Análise de Dados e Data Science</font>\n",
        "\n",
        "## <font color='blue'>Capítulo 6 - Função Enumerate</font>"
      ]
    },
    {
      "cell_type": "code",
      "execution_count": 1,
      "metadata": {
        "colab": {
          "base_uri": "https://localhost:8080/"
        },
        "id": "L8P1cNlmGVYb",
        "outputId": "74f12b39-5cd1-4a10-d40e-ce8dde1ebe16"
      },
      "outputs": [
        {
          "output_type": "stream",
          "name": "stdout",
          "text": [
            "Versão da Linguagem Python Usada Neste Jupyter Notebook: 3.10.12\n"
          ]
        }
      ],
      "source": [
        "# Versão da Linguagem Python\n",
        "from platform import python_version\n",
        "print('Versão da Linguagem Python Usada Neste Jupyter Notebook:', python_version())"
      ]
    },
    {
      "cell_type": "markdown",
      "metadata": {
        "id": "6T4ExOaNGVYd"
      },
      "source": [
        "## Função Enumerate\n",
        "\n",
        "A função enumerate() em Python é uma função que permite iterar sobre uma estrutura de dados (como uma lista, tupla ou outro objeto iterável). A função enumerate() retorna um objeto enumerado, que pode ser usado em loops para percorrer a estrutura de dados e acessar o contador e o valor de cada elemento."
      ]
    },
    {
      "cell_type": "code",
      "execution_count": 2,
      "metadata": {
        "id": "ZUH0W85LGVYd"
      },
      "outputs": [],
      "source": [
        "# Criando uma lista\n",
        "seq = ['a','b','c']"
      ]
    },
    {
      "cell_type": "code",
      "execution_count": 3,
      "metadata": {
        "colab": {
          "base_uri": "https://localhost:8080/"
        },
        "id": "9Q2B5TiJGVYd",
        "outputId": "781f45fd-1927-4a67-9189-2a45f23f00cd"
      },
      "outputs": [
        {
          "output_type": "execute_result",
          "data": {
            "text/plain": [
              "<enumerate at 0x7bd5a8f5b480>"
            ]
          },
          "metadata": {},
          "execution_count": 3
        }
      ],
      "source": [
        "enumerate(seq)"
      ]
    },
    {
      "cell_type": "code",
      "execution_count": 4,
      "metadata": {
        "colab": {
          "base_uri": "https://localhost:8080/"
        },
        "id": "FO7KPOmdGVYe",
        "outputId": "f8791a7e-4766-4bf3-e7cb-b0bf71300259"
      },
      "outputs": [
        {
          "output_type": "execute_result",
          "data": {
            "text/plain": [
              "[(0, 'a'), (1, 'b'), (2, 'c')]"
            ]
          },
          "metadata": {},
          "execution_count": 4
        }
      ],
      "source": [
        "list(enumerate(seq))"
      ]
    },
    {
      "cell_type": "code",
      "execution_count": 5,
      "metadata": {
        "colab": {
          "base_uri": "https://localhost:8080/"
        },
        "id": "YmDm_mIqGVYe",
        "outputId": "f1ca649f-41c4-43a3-9141-d68261166517"
      },
      "outputs": [
        {
          "output_type": "stream",
          "name": "stdout",
          "text": [
            "0 a\n",
            "1 b\n",
            "2 c\n"
          ]
        }
      ],
      "source": [
        "# Imprimindo os valores de uma lista com a função enumerate() e seus respectivos índices\n",
        "for indice, valor in enumerate(seq):\n",
        "    print (indice, valor)"
      ]
    },
    {
      "cell_type": "code",
      "execution_count": 6,
      "metadata": {
        "colab": {
          "base_uri": "https://localhost:8080/"
        },
        "id": "PzKlAAphGVYe",
        "outputId": "887d1fd3-81c3-428a-a9e9-790e2267eae8"
      },
      "outputs": [
        {
          "output_type": "stream",
          "name": "stdout",
          "text": [
            "a\n",
            "b\n"
          ]
        }
      ],
      "source": [
        "for indice, valor in enumerate(seq):\n",
        "    if indice >= 2:\n",
        "        break\n",
        "    else:\n",
        "        print (valor)"
      ]
    },
    {
      "cell_type": "code",
      "execution_count": 7,
      "metadata": {
        "id": "I1RvmIfZGVYf"
      },
      "outputs": [],
      "source": [
        "lista = ['Marketing', 'Tecnologia', 'Business']"
      ]
    },
    {
      "cell_type": "code",
      "execution_count": 8,
      "metadata": {
        "colab": {
          "base_uri": "https://localhost:8080/"
        },
        "id": "ReLzrB4CGVYf",
        "outputId": "b720ced3-e66a-4a83-a4f7-b29d4828e7f7"
      },
      "outputs": [
        {
          "output_type": "stream",
          "name": "stdout",
          "text": [
            "0 Marketing\n",
            "1 Tecnologia\n",
            "2 Business\n"
          ]
        }
      ],
      "source": [
        "for i, item in enumerate(lista):\n",
        "    print(i, item)"
      ]
    },
    {
      "cell_type": "code",
      "execution_count": 9,
      "metadata": {
        "colab": {
          "base_uri": "https://localhost:8080/"
        },
        "id": "HTv6CcZ7GVYf",
        "outputId": "0c2694c2-d93c-4718-c404-95f48416562c"
      },
      "outputs": [
        {
          "output_type": "stream",
          "name": "stdout",
          "text": [
            "0 D\n",
            "1 a\n",
            "2 t\n",
            "3 a\n",
            "4  \n",
            "5 S\n",
            "6 c\n",
            "7 i\n",
            "8 e\n",
            "9 n\n",
            "10 c\n",
            "11 e\n",
            "12  \n",
            "13 A\n",
            "14 c\n",
            "15 a\n",
            "16 d\n",
            "17 e\n",
            "18 m\n",
            "19 y\n"
          ]
        }
      ],
      "source": [
        "for i, item in enumerate('Data Science Academy'):\n",
        "    print(i, item)"
      ]
    },
    {
      "cell_type": "code",
      "execution_count": 10,
      "metadata": {
        "colab": {
          "base_uri": "https://localhost:8080/"
        },
        "id": "z_HWYpYyGVYf",
        "outputId": "31ca8851-1e63-445b-eafc-bd8a6d14e35d"
      },
      "outputs": [
        {
          "output_type": "stream",
          "name": "stdout",
          "text": [
            "0 0\n",
            "1 1\n",
            "2 2\n",
            "3 3\n",
            "4 4\n",
            "5 5\n",
            "6 6\n",
            "7 7\n",
            "8 8\n",
            "9 9\n"
          ]
        }
      ],
      "source": [
        "for i, item in enumerate(range(10)):\n",
        "    print(i, item)"
      ]
    },
    {
      "cell_type": "markdown",
      "metadata": {
        "id": "Z8o8hbFJGVYg"
      },
      "source": [
        "# FIM"
      ]
    },
    {
      "cell_type": "code",
      "source": [
        "for i in enumerate('Camila Cruz'):\n",
        "  print(i)"
      ],
      "metadata": {
        "colab": {
          "base_uri": "https://localhost:8080/"
        },
        "id": "OsQEMMU2HOMI",
        "outputId": "018e4777-beff-4f76-dde4-b11f988ea758"
      },
      "execution_count": 12,
      "outputs": [
        {
          "output_type": "stream",
          "name": "stdout",
          "text": [
            "(0, 'C')\n",
            "(1, 'a')\n",
            "(2, 'm')\n",
            "(3, 'i')\n",
            "(4, 'l')\n",
            "(5, 'a')\n",
            "(6, ' ')\n",
            "(7, 'C')\n",
            "(8, 'r')\n",
            "(9, 'u')\n",
            "(10, 'z')\n"
          ]
        }
      ]
    },
    {
      "cell_type": "code",
      "source": [
        "lista = [1,2,3,4,5,6,7,8,8,8,8,8,8,8]\n",
        "\n",
        "for i, lista in enumerate(lista):\n",
        "  print(i, lista)"
      ],
      "metadata": {
        "colab": {
          "base_uri": "https://localhost:8080/"
        },
        "id": "7CqMHBlsHZMF",
        "outputId": "46e6cb27-bc32-476f-8eba-0573ddd7bc5d"
      },
      "execution_count": 13,
      "outputs": [
        {
          "output_type": "stream",
          "name": "stdout",
          "text": [
            "0 1\n",
            "1 2\n",
            "2 3\n",
            "3 4\n",
            "4 5\n",
            "5 6\n",
            "6 7\n",
            "7 8\n",
            "8 8\n",
            "9 8\n",
            "10 8\n",
            "11 8\n",
            "12 8\n",
            "13 8\n"
          ]
        }
      ]
    },
    {
      "cell_type": "markdown",
      "metadata": {
        "id": "e4VdiUG6GVYg"
      },
      "source": [
        "### Obrigado\n",
        "\n",
        "### Visite o Blog da Data Science Academy - <a href=\"http://blog.dsacademy.com.br\">Blog DSA</a>"
      ]
    }
  ],
  "metadata": {
    "kernelspec": {
      "display_name": "Python 3 (ipykernel)",
      "language": "python",
      "name": "python3"
    },
    "language_info": {
      "codemirror_mode": {
        "name": "ipython",
        "version": 3
      },
      "file_extension": ".py",
      "mimetype": "text/x-python",
      "name": "python",
      "nbconvert_exporter": "python",
      "pygments_lexer": "ipython3",
      "version": "3.9.13"
    },
    "colab": {
      "provenance": [],
      "include_colab_link": true
    }
  },
  "nbformat": 4,
  "nbformat_minor": 0
}