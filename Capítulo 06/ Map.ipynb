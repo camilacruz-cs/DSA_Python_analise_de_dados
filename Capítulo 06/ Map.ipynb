{
  "cells": [
    {
      "cell_type": "markdown",
      "metadata": {
        "id": "view-in-github",
        "colab_type": "text"
      },
      "source": [
        "<a href=\"https://colab.research.google.com/github/camilacruz-cs/DSA_Python_analise_de_dados/blob/main/Cap%C3%ADtulo%2006/%20Map.ipynb\" target=\"_parent\"><img src=\"https://colab.research.google.com/assets/colab-badge.svg\" alt=\"Open In Colab\"/></a>"
      ]
    },
    {
      "cell_type": "markdown",
      "metadata": {
        "id": "tfbmzgtMcFF0"
      },
      "source": [
        "# <font color='blue'>Data Science Academy</font>\n",
        "\n",
        "## <font color='blue'>Fundamentos de Linguagem Python Para Análise de Dados e Data Science</font>\n",
        "\n",
        "## <font color='blue'>Capítulo 6 - Função Map</font>"
      ]
    },
    {
      "cell_type": "code",
      "execution_count": 1,
      "metadata": {
        "colab": {
          "base_uri": "https://localhost:8080/"
        },
        "id": "hu9epT6ecFF5",
        "outputId": "91d50470-a241-40d0-c0f4-cd4a63c47e58"
      },
      "outputs": [
        {
          "output_type": "stream",
          "name": "stdout",
          "text": [
            "Versão da Linguagem Python Usada Neste Jupyter Notebook: 3.10.12\n"
          ]
        }
      ],
      "source": [
        "# Versão da Linguagem Python\n",
        "from platform import python_version\n",
        "print('Versão da Linguagem Python Usada Neste Jupyter Notebook:', python_version())"
      ]
    },
    {
      "cell_type": "markdown",
      "metadata": {
        "id": "3MzRiQjVcFF9"
      },
      "source": [
        "## Função Map\n",
        "\n",
        "A função map() em Python é uma função que aplica uma determinada função a cada elemento de uma estrutura de dados iterável (como uma lista, tupla ou outro objeto iterável). A função map() retorna um objeto que pode ser convertido em outra estrutura de dados, como uma lista, se necessário."
      ]
    },
    {
      "cell_type": "code",
      "execution_count": 2,
      "metadata": {
        "id": "YcsLFrLUcFF-"
      },
      "outputs": [],
      "source": [
        "# Função Python que retorna um número ao quadrado\n",
        "def potencia(x):\n",
        "    return x ** 2"
      ]
    },
    {
      "cell_type": "code",
      "execution_count": 3,
      "metadata": {
        "id": "8CqYiJ18cFF-"
      },
      "outputs": [],
      "source": [
        "numeros = [1, 2, 3, 4, 5]"
      ]
    },
    {
      "cell_type": "code",
      "execution_count": 4,
      "metadata": {
        "id": "-FJczyMBcFF_"
      },
      "outputs": [],
      "source": [
        "numeros_ao_quadrado = list(map(potencia, numeros))"
      ]
    },
    {
      "cell_type": "code",
      "execution_count": 5,
      "metadata": {
        "colab": {
          "base_uri": "https://localhost:8080/"
        },
        "id": "kWeifZq5cFGA",
        "outputId": "c19e8cd4-b97e-4a32-f910-de394c9fac13"
      },
      "outputs": [
        {
          "output_type": "stream",
          "name": "stdout",
          "text": [
            "[1, 4, 9, 16, 25]\n"
          ]
        }
      ],
      "source": [
        "print(numeros_ao_quadrado)"
      ]
    },
    {
      "cell_type": "code",
      "execution_count": 6,
      "metadata": {
        "id": "wQpBMIVMcFGB"
      },
      "outputs": [],
      "source": [
        "# Criando duas funções\n",
        "\n",
        "# Função 1 - Recebe uma temperatura como parâmetro e retorna a temperatura em Fahrenheit\n",
        "def fahrenheit(T):\n",
        "    return ((float(9)/5)*T + 32)\n",
        "\n",
        "# Função 2 - Recebe uma temperatura como parâmetro e retorna a temperatura em Celsius\n",
        "def celsius(T):\n",
        "    return (float(5)/9)*(T-32)"
      ]
    },
    {
      "cell_type": "code",
      "execution_count": 7,
      "metadata": {
        "id": "in3QPni6cFGC"
      },
      "outputs": [],
      "source": [
        "# Criando uma lista\n",
        "temperaturas = [0, 22.5, 40, 100]"
      ]
    },
    {
      "cell_type": "code",
      "execution_count": 9,
      "metadata": {
        "colab": {
          "base_uri": "https://localhost:8080/"
        },
        "id": "QiItTMnBcFGD",
        "outputId": "f2c181b3-7c18-4030-adb6-4dbcb4663dca"
      },
      "outputs": [
        {
          "output_type": "execute_result",
          "data": {
            "text/plain": [
              "<map at 0x799b41af9b40>"
            ]
          },
          "metadata": {},
          "execution_count": 9
        }
      ],
      "source": [
        "# Aplicando a função a cada elemento da lista de temperaturas.\n",
        "# Em Python 3, a funçãp map() retornar um iterator\n",
        "map(fahrenheit, temperaturas)"
      ]
    },
    {
      "cell_type": "code",
      "execution_count": 10,
      "metadata": {
        "colab": {
          "base_uri": "https://localhost:8080/"
        },
        "id": "Kvc30bTLcFGD",
        "outputId": "8f8f9d55-6359-4927-fd37-c7a174cbcef8"
      },
      "outputs": [
        {
          "output_type": "execute_result",
          "data": {
            "text/plain": [
              "[32.0, 72.5, 104.0, 212.0]"
            ]
          },
          "metadata": {},
          "execution_count": 10
        }
      ],
      "source": [
        "# Função map() retornando a lista de temperaturas convertidas em Fahrenheit\n",
        "list(map(fahrenheit, temperaturas))"
      ]
    },
    {
      "cell_type": "code",
      "execution_count": 11,
      "metadata": {
        "colab": {
          "base_uri": "https://localhost:8080/"
        },
        "id": "qnNT0ZN9cFGE",
        "outputId": "cdc0fa8a-6b21-43e8-cb4b-d4958d43ff5c"
      },
      "outputs": [
        {
          "output_type": "stream",
          "name": "stdout",
          "text": [
            "32.0\n",
            "72.5\n",
            "104.0\n",
            "212.0\n"
          ]
        }
      ],
      "source": [
        "# Usando um loop for para imprimir o resultado da função map()\n",
        "for temp in map(fahrenheit, temperaturas):\n",
        "    print(temp)"
      ]
    },
    {
      "cell_type": "code",
      "execution_count": 12,
      "metadata": {
        "colab": {
          "base_uri": "https://localhost:8080/"
        },
        "id": "BpBbBM0qcFGE",
        "outputId": "04c40a6f-9228-4bce-94fb-a95947b736b9"
      },
      "outputs": [
        {
          "output_type": "execute_result",
          "data": {
            "text/plain": [
              "<map at 0x799b41af9120>"
            ]
          },
          "metadata": {},
          "execution_count": 12
        }
      ],
      "source": [
        "# Convertendo para Celsius\n",
        "map(celsius, temperaturas)"
      ]
    },
    {
      "cell_type": "code",
      "execution_count": 13,
      "metadata": {
        "colab": {
          "base_uri": "https://localhost:8080/"
        },
        "id": "isYvBt6ccFGF",
        "outputId": "d13f77c8-b7c2-44be-8b4c-67784817e6b4"
      },
      "outputs": [
        {
          "output_type": "execute_result",
          "data": {
            "text/plain": [
              "[-17.77777777777778, -5.277777777777778, 4.444444444444445, 37.77777777777778]"
            ]
          },
          "metadata": {},
          "execution_count": 13
        }
      ],
      "source": [
        "list(map(celsius, temperaturas))"
      ]
    },
    {
      "cell_type": "code",
      "execution_count": 14,
      "metadata": {
        "colab": {
          "base_uri": "https://localhost:8080/"
        },
        "id": "UopmE1xacFGG",
        "outputId": "2b4df86f-07e1-4acb-a382-4282c9219a03"
      },
      "outputs": [
        {
          "output_type": "execute_result",
          "data": {
            "text/plain": [
              "<map at 0x799b41af9c30>"
            ]
          },
          "metadata": {},
          "execution_count": 14
        }
      ],
      "source": [
        "# Usando expressão lambda\n",
        "map(lambda x: (5.0/9)*(x - 32), temperaturas)"
      ]
    },
    {
      "cell_type": "code",
      "execution_count": 15,
      "metadata": {
        "colab": {
          "base_uri": "https://localhost:8080/"
        },
        "id": "D_Uy50EkcFGG",
        "outputId": "60420428-2de8-47a3-da32-537497dd6fd5"
      },
      "outputs": [
        {
          "output_type": "execute_result",
          "data": {
            "text/plain": [
              "[-17.77777777777778, -5.277777777777778, 4.444444444444445, 37.77777777777778]"
            ]
          },
          "metadata": {},
          "execution_count": 15
        }
      ],
      "source": [
        "list(map(lambda x: (5.0/9)*(x - 32), temperaturas))"
      ]
    },
    {
      "cell_type": "code",
      "execution_count": 16,
      "metadata": {
        "id": "Oc3-ZZE2cFGG"
      },
      "outputs": [],
      "source": [
        "# Somando os elementos de 2 listas\n",
        "a = [1,2,3,4]\n",
        "b = [5,6,7,8]"
      ]
    },
    {
      "cell_type": "code",
      "execution_count": null,
      "metadata": {
        "id": "VkFq0vwCcFGH",
        "outputId": "e064f1d4-27f8-46d0-eaf4-60b3ba4b69c6"
      },
      "outputs": [
        {
          "data": {
            "text/plain": [
              "[6, 8, 10, 12]"
            ]
          },
          "execution_count": 16,
          "metadata": {},
          "output_type": "execute_result"
        }
      ],
      "source": [
        "list(map(lambda x,y:x+y, a, b))"
      ]
    },
    {
      "cell_type": "code",
      "execution_count": null,
      "metadata": {
        "id": "e3kv0pLwcFGH"
      },
      "outputs": [],
      "source": [
        "# Somando os elementos de 3 listas\n",
        "a = [1,2,3,4]\n",
        "b = [5,6,7,8]\n",
        "c = [9,10,11,12]"
      ]
    },
    {
      "cell_type": "code",
      "execution_count": null,
      "metadata": {
        "id": "kJEUAA-VcFGH",
        "outputId": "024286a0-3149-41c3-c5d1-159cb58888fb"
      },
      "outputs": [
        {
          "data": {
            "text/plain": [
              "[15, 18, 21, 24]"
            ]
          },
          "execution_count": 18,
          "metadata": {},
          "output_type": "execute_result"
        }
      ],
      "source": [
        "list(map(lambda x, y, z : x + y + z, a, b, c))"
      ]
    },
    {
      "cell_type": "code",
      "source": [
        "list(map(lambda x, y: x / y, b, a))"
      ],
      "metadata": {
        "colab": {
          "base_uri": "https://localhost:8080/"
        },
        "id": "Btbescq1iWMa",
        "outputId": "b19d1404-698f-4325-ba41-b2e336f118fb"
      },
      "execution_count": 17,
      "outputs": [
        {
          "output_type": "execute_result",
          "data": {
            "text/plain": [
              "[5.0, 3.0, 2.3333333333333335, 2.0]"
            ]
          },
          "metadata": {},
          "execution_count": 17
        }
      ]
    },
    {
      "cell_type": "markdown",
      "metadata": {
        "id": "Y4d3gkTocFGH"
      },
      "source": [
        "# Fim"
      ]
    },
    {
      "cell_type": "markdown",
      "metadata": {
        "id": "PGKnfLDwcFGH"
      },
      "source": [
        "### Obrigado\n",
        "\n",
        "### Visite o Blog da Data Science Academy - <a href=\"http://blog.dsacademy.com.br\">Blog DSA</a>"
      ]
    }
  ],
  "metadata": {
    "kernelspec": {
      "display_name": "Python 3 (ipykernel)",
      "language": "python",
      "name": "python3"
    },
    "language_info": {
      "codemirror_mode": {
        "name": "ipython",
        "version": 3
      },
      "file_extension": ".py",
      "mimetype": "text/x-python",
      "name": "python",
      "nbconvert_exporter": "python",
      "pygments_lexer": "ipython3",
      "version": "3.9.13"
    },
    "colab": {
      "provenance": [],
      "include_colab_link": true
    }
  },
  "nbformat": 4,
  "nbformat_minor": 0
}