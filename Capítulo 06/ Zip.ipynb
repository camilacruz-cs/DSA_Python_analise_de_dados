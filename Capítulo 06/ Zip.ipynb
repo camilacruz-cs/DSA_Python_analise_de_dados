{
  "cells": [
    {
      "cell_type": "markdown",
      "metadata": {
        "id": "view-in-github",
        "colab_type": "text"
      },
      "source": [
        "<a href=\"https://colab.research.google.com/github/camilacruz-cs/DSA_Python_analise_de_dados/blob/main/Cap%C3%ADtulo%2006/%20Zip.ipynb\" target=\"_parent\"><img src=\"https://colab.research.google.com/assets/colab-badge.svg\" alt=\"Open In Colab\"/></a>"
      ]
    },
    {
      "cell_type": "markdown",
      "metadata": {
        "id": "LUjXWoSeqbTT"
      },
      "source": [
        "# <font color='blue'>Data Science Academy</font>\n",
        "\n",
        "## <font color='blue'>Fundamentos de Linguagem Python Para Análise de Dados e Data Science</font>\n",
        "\n",
        "## <font color='blue'>Capítulo 6 - Função Zip</font>"
      ]
    },
    {
      "cell_type": "code",
      "execution_count": 1,
      "metadata": {
        "id": "m76PQYrBqbTV",
        "outputId": "2e84510a-46c1-4bff-fddd-c4615f4b6e47",
        "colab": {
          "base_uri": "https://localhost:8080/"
        }
      },
      "outputs": [
        {
          "output_type": "stream",
          "name": "stdout",
          "text": [
            "Versão da Linguagem Python Usada Neste Jupyter Notebook: 3.10.12\n"
          ]
        }
      ],
      "source": [
        "# Versão da Linguagem Python\n",
        "from platform import python_version\n",
        "print('Versão da Linguagem Python Usada Neste Jupyter Notebook:', python_version())"
      ]
    },
    {
      "cell_type": "markdown",
      "metadata": {
        "id": "S_ZlXqIXqbTX"
      },
      "source": [
        "## Função Zip\n",
        "\n",
        "A função zip() em Python é uma função que agrupa elementos de múltiplas estruturas de dados iteráveis (como listas, tuplas ou outros objetos iteráveis) juntos em pares. A função zip() retorna um objeto zip, que pode ser convertido em outra estrutura de dados, como uma lista ou dicionário, se necessário."
      ]
    },
    {
      "cell_type": "code",
      "execution_count": 2,
      "metadata": {
        "id": "QwRUYPNNqbTX"
      },
      "outputs": [],
      "source": [
        "# Criando duas listas\n",
        "x = [1,2,3]\n",
        "y = [4,5,6]"
      ]
    },
    {
      "cell_type": "code",
      "execution_count": 3,
      "metadata": {
        "id": "ewBVS3DzqbTY",
        "outputId": "10b8243c-f017-49e6-9845-adacfbb886e6",
        "colab": {
          "base_uri": "https://localhost:8080/"
        }
      },
      "outputs": [
        {
          "output_type": "execute_result",
          "data": {
            "text/plain": [
              "<zip at 0x7ebc40306d00>"
            ]
          },
          "metadata": {},
          "execution_count": 3
        }
      ],
      "source": [
        "# Unindo as listas. Em Python3 retorna um iterator\n",
        "zip(x, y)"
      ]
    },
    {
      "cell_type": "code",
      "execution_count": 4,
      "metadata": {
        "id": "1VNDKJ6sqbTZ",
        "outputId": "05989e92-33d9-4924-8747-f1d0f750d201",
        "colab": {
          "base_uri": "https://localhost:8080/"
        }
      },
      "outputs": [
        {
          "output_type": "execute_result",
          "data": {
            "text/plain": [
              "[(1, 4), (2, 5), (3, 6)]"
            ]
          },
          "metadata": {},
          "execution_count": 4
        }
      ],
      "source": [
        "# Perceba que zip retorna tuplas. Neste caso, uma lista de tuplas\n",
        "list(zip(x,y))"
      ]
    },
    {
      "cell_type": "code",
      "execution_count": 5,
      "metadata": {
        "id": "OwmaGyLZqbTa",
        "outputId": "9b4d3db7-dfa2-4656-cf9d-65210816822f",
        "colab": {
          "base_uri": "https://localhost:8080/"
        }
      },
      "outputs": [
        {
          "output_type": "execute_result",
          "data": {
            "text/plain": [
              "[('A', 'x'), ('B', 'y')]"
            ]
          },
          "metadata": {},
          "execution_count": 5
        }
      ],
      "source": [
        "# Atenção quando as sequências tiverem número diferente de elementos\n",
        "list(zip('ABCD', 'xy'))"
      ]
    },
    {
      "cell_type": "code",
      "execution_count": 6,
      "metadata": {
        "id": "8PG5kv9LqbTa"
      },
      "outputs": [],
      "source": [
        "# Criando duas listas\n",
        "a = [1,2,3]\n",
        "b = [4,5,6,7,8]"
      ]
    },
    {
      "cell_type": "code",
      "execution_count": 7,
      "metadata": {
        "id": "yGawn2ICqbTa",
        "outputId": "2b2e9378-2ce1-485d-b8bf-34c665e46af5",
        "colab": {
          "base_uri": "https://localhost:8080/"
        }
      },
      "outputs": [
        {
          "output_type": "execute_result",
          "data": {
            "text/plain": [
              "[(1, 4), (2, 5), (3, 6)]"
            ]
          },
          "metadata": {},
          "execution_count": 7
        }
      ],
      "source": [
        "list(zip(a,b))"
      ]
    },
    {
      "cell_type": "code",
      "execution_count": 8,
      "metadata": {
        "id": "P7RWlG0SqbTb"
      },
      "outputs": [],
      "source": [
        "# Criando 2 dicionários\n",
        "d1 = {'a':1,'b':2}\n",
        "d2 = {'c':4,'d':5}"
      ]
    },
    {
      "cell_type": "code",
      "execution_count": 9,
      "metadata": {
        "id": "vngDQfw_qbTb",
        "outputId": "38057442-32c6-4d95-8b50-32ee0d3bb14d",
        "colab": {
          "base_uri": "https://localhost:8080/"
        }
      },
      "outputs": [
        {
          "output_type": "execute_result",
          "data": {
            "text/plain": [
              "[('a', 'c'), ('b', 'd')]"
            ]
          },
          "metadata": {},
          "execution_count": 9
        }
      ],
      "source": [
        "# Zip vai unir as chaves\n",
        "list(zip(d1,d2))"
      ]
    },
    {
      "cell_type": "code",
      "execution_count": 10,
      "metadata": {
        "id": "exdy7BV1qbTb",
        "outputId": "5d0c33e6-9ba0-49f8-a70e-05298284b6ab",
        "colab": {
          "base_uri": "https://localhost:8080/"
        }
      },
      "outputs": [
        {
          "output_type": "execute_result",
          "data": {
            "text/plain": [
              "[('a', 4), ('b', 5)]"
            ]
          },
          "metadata": {},
          "execution_count": 10
        }
      ],
      "source": [
        "# Zip pode unir os valores (itens)\n",
        "list(zip(d1, d2.values()))"
      ]
    },
    {
      "cell_type": "code",
      "execution_count": 11,
      "metadata": {
        "id": "lEleUKrqqbTc"
      },
      "outputs": [],
      "source": [
        "# Criando uma função para trocar valores entre 2 dicionários\n",
        "def trocaValores(d1, d2):\n",
        "\n",
        "    dicTemp = {}\n",
        "\n",
        "    for d1key, d2val in zip(d1, d2.values()):\n",
        "        dicTemp[d1key] = d2val\n",
        "\n",
        "    return dicTemp"
      ]
    },
    {
      "cell_type": "code",
      "execution_count": 12,
      "metadata": {
        "id": "fIwg5gDiqbTc",
        "outputId": "a8340dc1-34c7-451d-a335-75d54fa161f3",
        "colab": {
          "base_uri": "https://localhost:8080/"
        }
      },
      "outputs": [
        {
          "output_type": "execute_result",
          "data": {
            "text/plain": [
              "{'a': 4, 'b': 5}"
            ]
          },
          "metadata": {},
          "execution_count": 12
        }
      ],
      "source": [
        "trocaValores(d1, d2)"
      ]
    },
    {
      "cell_type": "markdown",
      "metadata": {
        "id": "eOe3hZXjqbTc"
      },
      "source": [
        "# FIM"
      ]
    },
    {
      "cell_type": "markdown",
      "metadata": {
        "id": "hZqVpSAMqbTc"
      },
      "source": [
        "### Obrigado\n",
        "\n",
        "### Visite o Blog da Data Science Academy - <a href=\"http://blog.dsacademy.com.br\">Blog DSA</a>"
      ]
    }
  ],
  "metadata": {
    "kernelspec": {
      "display_name": "Python 3 (ipykernel)",
      "language": "python",
      "name": "python3"
    },
    "language_info": {
      "codemirror_mode": {
        "name": "ipython",
        "version": 3
      },
      "file_extension": ".py",
      "mimetype": "text/x-python",
      "name": "python",
      "nbconvert_exporter": "python",
      "pygments_lexer": "ipython3",
      "version": "3.9.13"
    },
    "colab": {
      "provenance": [],
      "include_colab_link": true
    }
  },
  "nbformat": 4,
  "nbformat_minor": 0
}