{
  "cells": [
    {
      "cell_type": "markdown",
      "metadata": {
        "id": "view-in-github",
        "colab_type": "text"
      },
      "source": [
        "<a href=\"https://colab.research.google.com/github/camilacruz-cs/DSA_Python_analise_de_dados/blob/main/Cap%C3%ADtulo%2006/%20Exercicios.ipynb\" target=\"_parent\"><img src=\"https://colab.research.google.com/assets/colab-badge.svg\" alt=\"Open In Colab\"/></a>"
      ]
    },
    {
      "cell_type": "markdown",
      "metadata": {
        "id": "6utgMF_wUUpr"
      },
      "source": [
        "# <font color='blue'>Data Science Academy</font>\n",
        "\n",
        "## <font color='blue'>Fundamentos de Linguagem Python Para Análise de Dados e Data Science</font>\n",
        "\n",
        "## <font color='blue'>Capítulo 6 - Exercícios</font>"
      ]
    },
    {
      "cell_type": "code",
      "execution_count": 1,
      "metadata": {
        "id": "Cot06paqUUpu",
        "colab": {
          "base_uri": "https://localhost:8080/"
        },
        "outputId": "3e11d54a-a309-456d-8846-dd9123b1a8dc"
      },
      "outputs": [
        {
          "output_type": "stream",
          "name": "stdout",
          "text": [
            "Versão da Linguagem Python Usada Neste Jupyter Notebook: 3.10.12\n"
          ]
        }
      ],
      "source": [
        "# Versão da Linguagem Python\n",
        "from platform import python_version\n",
        "print('Versão da Linguagem Python Usada Neste Jupyter Notebook:', python_version())"
      ]
    },
    {
      "cell_type": "markdown",
      "metadata": {
        "id": "6OrZ8P6jUUpv"
      },
      "source": [
        "## Exercícios"
      ]
    },
    {
      "cell_type": "code",
      "execution_count": 2,
      "metadata": {
        "id": "nVPxzH5yUUpw",
        "colab": {
          "base_uri": "https://localhost:8080/"
        },
        "outputId": "44deb056-d7e9-4514-b7f6-5b7b3463c688"
      },
      "outputs": [
        {
          "output_type": "execute_result",
          "data": {
            "text/plain": [
              "[1, 8, 27]"
            ]
          },
          "metadata": {},
          "execution_count": 2
        }
      ],
      "source": [
        "# Exercício 1 - Crie uma lista de 3 elementos e calcule a terceira potência de cada elemento.\n",
        "\n",
        "lista = [1, 2, 3]\n",
        "\n",
        "potencia = list(map(lambda x: x**3,lista))\n",
        "\n",
        "potencia"
      ]
    },
    {
      "cell_type": "code",
      "execution_count": 3,
      "metadata": {
        "id": "emx7tn2xUUpx",
        "colab": {
          "base_uri": "https://localhost:8080/"
        },
        "outputId": "f5e427cd-107b-4088-c326-48202bb2b5e1"
      },
      "outputs": [
        {
          "output_type": "stream",
          "name": "stdout",
          "text": [
            "['A', 'a', 1]\n",
            "['DATA', 'data', 4]\n",
            "['SCIENCE', 'science', 7]\n",
            "['ACADEMY', 'academy', 7]\n",
            "['OFERCE', 'oferce', 6]\n",
            "['OS', 'os', 2]\n",
            "['MELHORES', 'melhores', 8]\n",
            "['CURSOS', 'cursos', 6]\n",
            "['DE', 'de', 2]\n",
            "['ANÁLISE', 'análise', 7]\n",
            "['DE', 'de', 2]\n",
            "['DADOS', 'dados', 5]\n",
            "['DO', 'do', 2]\n",
            "['BRASIL.', 'brasil.', 7]\n"
          ]
        }
      ],
      "source": [
        "# Exercício 2 - Reescreva o código abaixo, usando a função map(). O resultado final deve ser o mesmo!\n",
        "palavras = 'A Data Science Academy oferce os melhores cursos de análise de dados do Brasil.'.split()\n",
        "resultado = [[w.upper(), w.lower(), len(w)] for w in palavras]\n",
        "for i in resultado:\n",
        "    print (i)"
      ]
    },
    {
      "cell_type": "code",
      "execution_count": 4,
      "metadata": {
        "id": "JKHFzYCDUUpy",
        "colab": {
          "base_uri": "https://localhost:8080/"
        },
        "outputId": "3b9a0a81-759d-417b-eef0-f421eab60fea"
      },
      "outputs": [
        {
          "output_type": "stream",
          "name": "stdout",
          "text": [
            "['A', 'a', 1]\n",
            "['DATA', 'data', 4]\n",
            "['SCIENCE', 'science', 7]\n",
            "['ACADEMY', 'academy', 7]\n",
            "['OFERECE', 'oferece', 7]\n",
            "['OS', 'os', 2]\n",
            "['MELHORES', 'melhores', 8]\n",
            "['CURSOS', 'cursos', 6]\n",
            "['DE', 'de', 2]\n",
            "['ANÁLISE', 'análise', 7]\n",
            "['DE', 'de', 2]\n",
            "['DADOS', 'dados', 5]\n",
            "['DO', 'do', 2]\n",
            "['BRASIL.', 'brasil.', 7]\n"
          ]
        }
      ],
      "source": [
        "# Solução\n",
        "palavras = 'A Data Science Academy oferece os melhores cursos de análise de dados do Brasil.'.split()\n",
        "\n",
        "resultado = map(lambda w: [w.upper(), w.lower(), len(w)], palavras)\n",
        "\n",
        "for i in resultado:\n",
        "    print(i)\n"
      ]
    },
    {
      "cell_type": "code",
      "execution_count": 25,
      "metadata": {
        "id": "sgdrgH7xUUpz",
        "colab": {
          "base_uri": "https://localhost:8080/"
        },
        "outputId": "e75ea2b5-6deb-44ab-f063-beb0543cf233"
      },
      "outputs": [
        {
          "output_type": "stream",
          "name": "stdout",
          "text": [
            "[[1, 3, 5, 7], [2, 4, 6, 8]]\n"
          ]
        }
      ],
      "source": [
        "# Exercício 3 - Calcule a matriz transposta da matriz abaixo.\n",
        "# Caso não saiba o que é matriz transposta, visite este link: https://pt.wikipedia.org/wiki/Matriz_transposta\n",
        "# Matriz transposta é um conceito fundamental na construção de redes neurais artificiais, base de sistemas de IA.\n",
        "matrix = [[1, 2],[3,4],[5,6],[7,8]]\n",
        "\n",
        "\n",
        "# Calculando a matriz transposta usando uma compreensão de lista\n",
        "transposta = [[row[i] for row in matrix] for i in range(len(matrix[0]))]\n",
        "\n",
        "# Exibindo a matriz transposta\n",
        "print(transposta)"
      ]
    },
    {
      "cell_type": "code",
      "execution_count": 22,
      "metadata": {
        "id": "s1W_G7WeUUp0"
      },
      "outputs": [],
      "source": [
        "# Exercício 4 - Crie duas funções, uma para elevar um número ao quadrado e outra para elevar ao cubo.\n",
        "# Aplique as duas funções aos elementos da lista abaixo.\n",
        "# Obs: as duas funções devem ser aplicadas simultaneamente.\n",
        "lista = [0, 1, 2, 3, 4]\n",
        "\n",
        "def lista_ao_quadrado(lista):\n",
        "\n",
        "  return [x ** 2 for x in lista]\n",
        "\n",
        "\n",
        "def lista_ao_cubo(lista):\n",
        "\n",
        "  return [x**3 for x in lista]"
      ]
    },
    {
      "cell_type": "code",
      "source": [
        "print(lista_ao_quadrado(lista))\n",
        "print(lista_ao_cubo(lista))"
      ],
      "metadata": {
        "colab": {
          "base_uri": "https://localhost:8080/"
        },
        "id": "BF5xbXZlgyJU",
        "outputId": "58b81b82-8e53-4447-ef02-93504753ea98"
      },
      "execution_count": 23,
      "outputs": [
        {
          "output_type": "stream",
          "name": "stdout",
          "text": [
            "[0, 1, 4, 9, 16]\n",
            "[0, 1, 8, 27, 64]\n"
          ]
        }
      ]
    },
    {
      "cell_type": "code",
      "execution_count": 8,
      "metadata": {
        "id": "t1E5sUKjUUp1",
        "colab": {
          "base_uri": "https://localhost:8080/"
        },
        "outputId": "7a155a8a-56c5-40a4-b9eb-60d05255d77e"
      },
      "outputs": [
        {
          "output_type": "stream",
          "name": "stdout",
          "text": [
            "[20, 33, 48]\n"
          ]
        }
      ],
      "source": [
        "# Exercício 5 - Abaixo você encontra duas listas. Faça com que cada elemento da listaA seja elevado\n",
        "# ao elemento correspondente na listaB.\n",
        "listaA = [2, 3, 4]\n",
        "listaB = [10, 11, 12]\n",
        "\n",
        "listas = (list(map(lambda x,y: x * y, listaA, listaB)))\n",
        "\n",
        "print(listas)"
      ]
    },
    {
      "cell_type": "code",
      "execution_count": 9,
      "metadata": {
        "id": "P4JaJYNoUUp2",
        "colab": {
          "base_uri": "https://localhost:8080/"
        },
        "outputId": "5ce63b31-482c-4673-b205-2ad5675fffa9"
      },
      "outputs": [
        {
          "output_type": "stream",
          "name": "stdout",
          "text": [
            "[-5, -4, -3, -2, -1]\n"
          ]
        }
      ],
      "source": [
        "# Exercício 6 - Considerando o range de valores abaixo, use a função filter() para retornar\n",
        "# apenas os valores negativos.\n",
        "range(-5, 5)\n",
        "\n",
        "range_negativo = list(filter(lambda x: x < 0, range(-5, 5)))\n",
        "\n",
        "print(range_negativo)"
      ]
    },
    {
      "cell_type": "code",
      "execution_count": 10,
      "metadata": {
        "id": "llWGHtLqUUp2",
        "colab": {
          "base_uri": "https://localhost:8080/"
        },
        "outputId": "09e29cad-7e2f-4371-85b2-ec95a023605a"
      },
      "outputs": [
        {
          "output_type": "stream",
          "name": "stdout",
          "text": [
            "[2, 3, 5, 7]\n"
          ]
        }
      ],
      "source": [
        "# Exercício 7 - Usando a função filter(), encontre os valores que são comuns às duas listas abaixo.\n",
        "a = [1,2,3,5,7,9]\n",
        "b = [2,3,5,6,7,8]\n",
        "\n",
        "iguais = list(filter(lambda x: x in b, a))\n",
        "\n",
        "print(iguais)"
      ]
    },
    {
      "cell_type": "code",
      "execution_count": 24,
      "metadata": {
        "id": "TYPzpIY2UUp3",
        "colab": {
          "base_uri": "https://localhost:8080/"
        },
        "outputId": "8911e800-ba3e-4c30-b297-d3617fc0bdda"
      },
      "outputs": [
        {
          "output_type": "stream",
          "name": "stdout",
          "text": [
            "{'a': 4, 'b': 5}\n"
          ]
        }
      ],
      "source": [
        "# Exercício 8 - Considere os dois dicionários abaixo.\n",
        "# Crie um terceiro dicionário com as chaves do dicionário 1 e os valores do dicionário 2.\n",
        "dict1 = {'a':1,'b':2}\n",
        "dict2 = {'c':4,'d':5}\n",
        "\n",
        "\n",
        "\n",
        "dict3 = {key: value for key, value in zip(dict1.keys(), dict2.values())}\n",
        "\n",
        "print(dict3)\n"
      ]
    },
    {
      "cell_type": "code",
      "execution_count": 21,
      "metadata": {
        "id": "GPTEJwQWUUp3",
        "colab": {
          "base_uri": "https://localhost:8080/"
        },
        "outputId": "c94f638d-711c-4fa5-8880-f8cac9d2a6cf"
      },
      "outputs": [
        {
          "output_type": "stream",
          "name": "stdout",
          "text": [
            "['g', 'h']\n"
          ]
        }
      ],
      "source": [
        "# Exercício 9 - Considere a lista abaixo e retorne apenas os elementos cujo índice for maior que 5.\n",
        "lista = ['a', 'b', 'c', 'd', 'e', 'f', 'g', 'h']\n",
        "\n",
        "\n",
        "\n",
        "maiores_5 = [item for idx, item in enumerate(lista) if idx > 5]\n",
        "\n",
        "print(maiores_5)"
      ]
    },
    {
      "cell_type": "code",
      "execution_count": 15,
      "metadata": {
        "id": "_oTC8HsqUUp3",
        "colab": {
          "base_uri": "https://localhost:8080/"
        },
        "outputId": "e7f041e0-ebc6-4882-f207-a5b2328d9493"
      },
      "outputs": [
        {
          "output_type": "execute_result",
          "data": {
            "text/plain": [
              "<re.Match object; span=(2, 22), match='Data Science Academy'>"
            ]
          },
          "metadata": {},
          "execution_count": 15
        }
      ],
      "source": [
        "# Exercício 10 - Crie um regex em Python para extrair a palavra que aparece depois das palavras\n",
        "# Data e Science na frase: 'A Data Science Academy oferce os melhores cursos de análise de dados do Brasil.'\n",
        "import re\n",
        "texto = 'A Data Science Academy oferece os melhores cursos de análise de dados do Brasil.'\n",
        "\n",
        "regex = r'Data Science (\\w+)'\n",
        "\n",
        "resultado = re.search(regex, texto)\n",
        "\n",
        "resultado"
      ]
    },
    {
      "cell_type": "markdown",
      "metadata": {
        "id": "DIdzcYuJUUp3"
      },
      "source": [
        "# Fim"
      ]
    },
    {
      "cell_type": "markdown",
      "metadata": {
        "id": "YD-R928DUUp4"
      },
      "source": [
        "### Obrigado\n",
        "\n",
        "### Visite o Blog da Data Science Academy - <a href=\"http://blog.dsacademy.com.br\">Blog DSA</a>"
      ]
    }
  ],
  "metadata": {
    "kernelspec": {
      "display_name": "Python 3 (ipykernel)",
      "language": "python",
      "name": "python3"
    },
    "language_info": {
      "codemirror_mode": {
        "name": "ipython",
        "version": 3
      },
      "file_extension": ".py",
      "mimetype": "text/x-python",
      "name": "python",
      "nbconvert_exporter": "python",
      "pygments_lexer": "ipython3",
      "version": "3.9.13"
    },
    "colab": {
      "provenance": [],
      "include_colab_link": true
    }
  },
  "nbformat": 4,
  "nbformat_minor": 0
}