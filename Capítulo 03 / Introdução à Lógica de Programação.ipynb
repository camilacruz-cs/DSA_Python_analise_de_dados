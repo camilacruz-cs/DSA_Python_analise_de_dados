{
 "cells": [
  {
   "cell_type": "markdown",
   "id": "5428ccf8",
   "metadata": {},
   "source": [
    "# Fazendo um pseudocódigo"
   ]
  },
  {
   "cell_type": "code",
   "execution_count": 1,
   "id": "a4b21e31",
   "metadata": {},
   "outputs": [
    {
     "name": "stdout",
     "output_type": "stream",
     "text": [
      "Bem-vindo ao Calculador de Área de Paralelogramo\n"
     ]
    }
   ],
   "source": [
    "print(\"Bem-vindo ao Calculador de Área de Paralelogramo\")"
   ]
  },
  {
   "cell_type": "code",
   "execution_count": 2,
   "id": "ea1a4c74",
   "metadata": {},
   "outputs": [
    {
     "name": "stdout",
     "output_type": "stream",
     "text": [
      "Insira o comprimento da base:4\n"
     ]
    }
   ],
   "source": [
    "base = float(input(\"Insira o comprimento da base:\"))"
   ]
  },
  {
   "cell_type": "code",
   "execution_count": 3,
   "id": "6a7e59df",
   "metadata": {},
   "outputs": [
    {
     "name": "stdout",
     "output_type": "stream",
     "text": [
      "Insira a altura:6\n"
     ]
    }
   ],
   "source": [
    "altura = float(input(\"Insira a altura:\"))"
   ]
  },
  {
   "cell_type": "code",
   "execution_count": 4,
   "id": "45be72dc",
   "metadata": {},
   "outputs": [],
   "source": [
    "area = base * altura"
   ]
  },
  {
   "cell_type": "code",
   "execution_count": 5,
   "id": "f0387c95",
   "metadata": {},
   "outputs": [
    {
     "name": "stdout",
     "output_type": "stream",
     "text": [
      "A área do paralelogramo é: 24.0\n"
     ]
    }
   ],
   "source": [
    "print(\"A área do paralelogramo é:\", area)"
   ]
  },
  {
   "cell_type": "markdown",
   "id": "a4c6ff10",
   "metadata": {},
   "source": [
    "# Fazendo uma calculadora simples\n"
   ]
  },
  {
   "cell_type": "code",
   "execution_count": 7,
   "id": "1db3da9c",
   "metadata": {},
   "outputs": [
    {
     "name": "stdout",
     "output_type": "stream",
     "text": [
      "Bem-vindo à Calculadora\n"
     ]
    }
   ],
   "source": [
    "print(\"Bem-vindo à Calculadora\")"
   ]
  },
  {
   "cell_type": "code",
   "execution_count": 9,
   "id": "639980f9",
   "metadata": {},
   "outputs": [
    {
     "name": "stdout",
     "output_type": "stream",
     "text": [
      "Insira o primeiro número: 10\n"
     ]
    }
   ],
   "source": [
    "num1 = float(input(\"Insira o primeiro número: \"))"
   ]
  },
  {
   "cell_type": "code",
   "execution_count": 10,
   "id": "9058d432",
   "metadata": {},
   "outputs": [
    {
     "name": "stdout",
     "output_type": "stream",
     "text": [
      "Insira o segundo número: 3\n"
     ]
    }
   ],
   "source": [
    "num2 = float(input(\"Insira o segundo número: \"))"
   ]
  },
  {
   "cell_type": "code",
   "execution_count": 12,
   "id": "986ca137",
   "metadata": {},
   "outputs": [
    {
     "name": "stdout",
     "output_type": "stream",
     "text": [
      "Agora, selecione o tipo de operação que você precisa (+, -, *, /): +\n"
     ]
    }
   ],
   "source": [
    "operacao = input(\"Agora, selecione o tipo de operação que você precisa (+, -, *, /): \")"
   ]
  },
  {
   "cell_type": "markdown",
   "id": "f09e445e",
   "metadata": {},
   "source": [
    "# Agora teremos uma parte mais automatizada da calculadora"
   ]
  },
  {
   "cell_type": "code",
   "execution_count": 14,
   "id": "7138cf45",
   "metadata": {},
   "outputs": [
    {
     "name": "stdout",
     "output_type": "stream",
     "text": [
      "O resultado é:  13.0\n"
     ]
    }
   ],
   "source": [
    "if operacao == \"+\":\n",
    "    resultado = num1 + num2\n",
    "    print(\"O resultado é: \", resultado)\n",
    "\n",
    "elif operacao == \"-\":\n",
    "    resultado = num1 - num2\n",
    "    print(\"O resultado é: \", resultado)\n",
    "\n",
    "elif operacao == \"*\":\n",
    "    resultado = num1 + num2\n",
    "    print(\"O resultado é:\", resultado)\n",
    "\n",
    "elif operacao == \"/\":\n",
    "    resultado = num1 + num2\n",
    "    print(\"O resultado é: \", resultado)\n",
    " \n",
    "else:\n",
    "    print(\"Operação inválida. Tente outro operador.\")"
   ]
  },
  {
   "cell_type": "code",
   "execution_count": null,
   "id": "c9585727",
   "metadata": {},
   "outputs": [],
   "source": []
  }
 ],
 "metadata": {
  "kernelspec": {
   "display_name": "Python 3 (ipykernel)",
   "language": "python",
   "name": "python3"
  },
  "language_info": {
   "codemirror_mode": {
    "name": "ipython",
    "version": 3
   },
   "file_extension": ".py",
   "mimetype": "text/x-python",
   "name": "python",
   "nbconvert_exporter": "python",
   "pygments_lexer": "ipython3",
   "version": "3.9.13"
  }
 },
 "nbformat": 4,
 "nbformat_minor": 5
}
