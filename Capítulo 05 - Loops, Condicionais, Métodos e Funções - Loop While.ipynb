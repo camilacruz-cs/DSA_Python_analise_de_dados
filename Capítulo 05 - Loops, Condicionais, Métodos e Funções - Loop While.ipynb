{
 "cells": [
  {
   "cell_type": "markdown",
   "id": "62ebee7d",
   "metadata": {},
   "source": [
    "# Loop While (enquanto).\n",
    "Enquanto certa operação for VERDADEIRA, execute. "
   ]
  },
  {
   "cell_type": "code",
   "execution_count": 1,
   "id": "8d38a362",
   "metadata": {},
   "outputs": [
    {
     "name": "stdout",
     "output_type": "stream",
     "text": [
      "0\n",
      "1\n",
      "2\n",
      "3\n",
      "4\n",
      "5\n",
      "6\n",
      "7\n",
      "8\n",
      "9\n"
     ]
    }
   ],
   "source": [
    "#Usando o loop while para imprimir os valores de 0 a 9\n",
    "#A condição tem que deixar de ser VERDADEIRA dentro do loop, senão pode travar o navegador\n",
    "\n",
    "valor = 0\n",
    "while valor < 10:\n",
    "    print(valor)\n",
    "    valor = valor +1"
   ]
  },
  {
   "cell_type": "code",
   "execution_count": 2,
   "id": "d6f0a73e",
   "metadata": {},
   "outputs": [
    {
     "name": "stdout",
     "output_type": "stream",
     "text": [
      "O valor de x nesta iteração é:  0\n",
      "x ainda é menor que 10, somando 1 a x\n",
      "O valor de x nesta iteração é:  1\n",
      "x ainda é menor que 10, somando 1 a x\n",
      "O valor de x nesta iteração é:  2\n",
      "x ainda é menor que 10, somando 1 a x\n",
      "O valor de x nesta iteração é:  3\n",
      "x ainda é menor que 10, somando 1 a x\n",
      "O valor de x nesta iteração é:  4\n",
      "x ainda é menor que 10, somando 1 a x\n",
      "O valor de x nesta iteração é:  5\n",
      "x ainda é menor que 10, somando 1 a x\n",
      "O valor de x nesta iteração é:  6\n",
      "x ainda é menor que 10, somando 1 a x\n",
      "O valor de x nesta iteração é:  7\n",
      "x ainda é menor que 10, somando 1 a x\n",
      "O valor de x nesta iteração é:  8\n",
      "x ainda é menor que 10, somando 1 a x\n",
      "O valor de x nesta iteração é:  9\n",
      "x ainda é menor que 10, somando 1 a x\n",
      "loop concluído\n",
      "10\n"
     ]
    }
   ],
   "source": [
    "#Clausula para encerrar o loop while\n",
    "\n",
    "x = 0 \n",
    "\n",
    "while x < 10:\n",
    "    print('O valor de x nesta iteração é: ', x)\n",
    "    print('x ainda é menor que 10, somando 1 a x')\n",
    "    x += 1\n",
    "else:\n",
    "    print ('loop concluído')\n",
    "print(x)"
   ]
  },
  {
   "cell_type": "markdown",
   "id": "a4184c64",
   "metadata": {},
   "source": [
    "# Loop For e While juntos e tempo de Execução em Python"
   ]
  },
  {
   "cell_type": "code",
   "execution_count": null,
   "id": "8517257e",
   "metadata": {},
   "outputs": [],
   "source": []
  }
 ],
 "metadata": {
  "kernelspec": {
   "display_name": "Python 3 (ipykernel)",
   "language": "python",
   "name": "python3"
  },
  "language_info": {
   "codemirror_mode": {
    "name": "ipython",
    "version": 3
   },
   "file_extension": ".py",
   "mimetype": "text/x-python",
   "name": "python",
   "nbconvert_exporter": "python",
   "pygments_lexer": "ipython3",
   "version": "3.9.13"
  }
 },
 "nbformat": 4,
 "nbformat_minor": 5
}
