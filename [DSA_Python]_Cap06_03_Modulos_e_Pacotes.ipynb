{
  "cells": [
    {
      "cell_type": "markdown",
      "metadata": {
        "id": "view-in-github",
        "colab_type": "text"
      },
      "source": [
        "<a href=\"https://colab.research.google.com/github/camilacruz-cs/DSA_Python_analise_de_dados/blob/main/%5BDSA_Python%5D_Cap06_03_Modulos_e_Pacotes.ipynb\" target=\"_parent\"><img src=\"https://colab.research.google.com/assets/colab-badge.svg\" alt=\"Open In Colab\"/></a>"
      ]
    },
    {
      "cell_type": "markdown",
      "metadata": {
        "id": "zx-48RE_XArx"
      },
      "source": [
        "# <font color='blue'>Data Science Academy</font>\n",
        "\n",
        "## <font color='blue'>Fundamentos de Linguagem Python Para Análise de Dados e Data Science</font>\n",
        "\n",
        "## <font color='blue'>Capítulo 6 - Pacotes e Módulos</font>"
      ]
    },
    {
      "cell_type": "code",
      "execution_count": 1,
      "metadata": {
        "colab": {
          "base_uri": "https://localhost:8080/"
        },
        "id": "2e7fEogtXArz",
        "outputId": "0bf4944e-1b2d-49ea-d72c-65a101a9b35b"
      },
      "outputs": [
        {
          "output_type": "stream",
          "name": "stdout",
          "text": [
            "Versão da Linguagem Python Usada Neste Jupyter Notebook: 3.10.12\n"
          ]
        }
      ],
      "source": [
        "# Versão da Linguagem Python\n",
        "from platform import python_version\n",
        "print('Versão da Linguagem Python Usada Neste Jupyter Notebook:', python_version())"
      ]
    },
    {
      "cell_type": "markdown",
      "metadata": {
        "id": "W0xLH1kxXAr1"
      },
      "source": [
        "## Pacotes e Módulos\n",
        "\n",
        "Em Python, um módulo é um arquivo (script) que contém código Python e pode ser importado em outros arquivos Python. Ele é usado para compartilhar funções, classes e variáveis entre arquivos.\n",
        "\n",
        "Já um pacote é uma coleção de módulos organizados em uma estrutura de diretórios. Ele permite a divisão de um aplicativo em múltiplos módulos, o que facilita a manutenção e o desenvolvimento.\n",
        "\n",
        "Visite o PyPi, repositório de pacotes da Linguagem Python: https://pypi.org/"
      ]
    },
    {
      "cell_type": "code",
      "execution_count": 2,
      "metadata": {
        "id": "9bMpbPN8XAr2"
      },
      "outputs": [],
      "source": [
        "# Importando um pacote Python\n",
        "import numpy"
      ]
    },
    {
      "cell_type": "code",
      "execution_count": 3,
      "metadata": {
        "colab": {
          "base_uri": "https://localhost:8080/"
        },
        "id": "43unxuIBXAr2",
        "outputId": "e4f988c1-3f67-4e89-86a6-6beae891d1da"
      },
      "outputs": [
        {
          "output_type": "execute_result",
          "data": {
            "text/plain": [
              "['ALLOW_THREADS',\n",
              " 'BUFSIZE',\n",
              " 'CLIP',\n",
              " 'DataSource',\n",
              " 'ERR_CALL',\n",
              " 'ERR_DEFAULT',\n",
              " 'ERR_IGNORE',\n",
              " 'ERR_LOG',\n",
              " 'ERR_PRINT',\n",
              " 'ERR_RAISE',\n",
              " 'ERR_WARN',\n",
              " 'FLOATING_POINT_SUPPORT',\n",
              " 'FPE_DIVIDEBYZERO',\n",
              " 'FPE_INVALID',\n",
              " 'FPE_OVERFLOW',\n",
              " 'FPE_UNDERFLOW',\n",
              " 'False_',\n",
              " 'Inf',\n",
              " 'Infinity',\n",
              " 'MAXDIMS',\n",
              " 'MAY_SHARE_BOUNDS',\n",
              " 'MAY_SHARE_EXACT',\n",
              " 'NAN',\n",
              " 'NINF',\n",
              " 'NZERO',\n",
              " 'NaN',\n",
              " 'PINF',\n",
              " 'PZERO',\n",
              " 'RAISE',\n",
              " 'RankWarning',\n",
              " 'SHIFT_DIVIDEBYZERO',\n",
              " 'SHIFT_INVALID',\n",
              " 'SHIFT_OVERFLOW',\n",
              " 'SHIFT_UNDERFLOW',\n",
              " 'ScalarType',\n",
              " 'True_',\n",
              " 'UFUNC_BUFSIZE_DEFAULT',\n",
              " 'UFUNC_PYVALS_NAME',\n",
              " 'WRAP',\n",
              " '_CopyMode',\n",
              " '_NoValue',\n",
              " '_UFUNC_API',\n",
              " '__NUMPY_SETUP__',\n",
              " '__all__',\n",
              " '__builtins__',\n",
              " '__cached__',\n",
              " '__config__',\n",
              " '__deprecated_attrs__',\n",
              " '__dir__',\n",
              " '__doc__',\n",
              " '__expired_functions__',\n",
              " '__file__',\n",
              " '__former_attrs__',\n",
              " '__future_scalars__',\n",
              " '__getattr__',\n",
              " '__loader__',\n",
              " '__name__',\n",
              " '__package__',\n",
              " '__path__',\n",
              " '__spec__',\n",
              " '__version__',\n",
              " '_add_newdoc_ufunc',\n",
              " '_builtins',\n",
              " '_distributor_init',\n",
              " '_financial_names',\n",
              " '_get_promotion_state',\n",
              " '_globals',\n",
              " '_int_extended_msg',\n",
              " '_mat',\n",
              " '_no_nep50_warning',\n",
              " '_pyinstaller_hooks_dir',\n",
              " '_pytesttester',\n",
              " '_set_promotion_state',\n",
              " '_specific_msg',\n",
              " '_typing',\n",
              " '_using_numpy2_behavior',\n",
              " '_utils',\n",
              " 'abs',\n",
              " 'absolute',\n",
              " 'add',\n",
              " 'add_docstring',\n",
              " 'add_newdoc',\n",
              " 'add_newdoc_ufunc',\n",
              " 'all',\n",
              " 'allclose',\n",
              " 'alltrue',\n",
              " 'amax',\n",
              " 'amin',\n",
              " 'angle',\n",
              " 'any',\n",
              " 'append',\n",
              " 'apply_along_axis',\n",
              " 'apply_over_axes',\n",
              " 'arange',\n",
              " 'arccos',\n",
              " 'arccosh',\n",
              " 'arcsin',\n",
              " 'arcsinh',\n",
              " 'arctan',\n",
              " 'arctan2',\n",
              " 'arctanh',\n",
              " 'argmax',\n",
              " 'argmin',\n",
              " 'argpartition',\n",
              " 'argsort',\n",
              " 'argwhere',\n",
              " 'around',\n",
              " 'array',\n",
              " 'array2string',\n",
              " 'array_equal',\n",
              " 'array_equiv',\n",
              " 'array_repr',\n",
              " 'array_split',\n",
              " 'array_str',\n",
              " 'asanyarray',\n",
              " 'asarray',\n",
              " 'asarray_chkfinite',\n",
              " 'ascontiguousarray',\n",
              " 'asfarray',\n",
              " 'asfortranarray',\n",
              " 'asmatrix',\n",
              " 'atleast_1d',\n",
              " 'atleast_2d',\n",
              " 'atleast_3d',\n",
              " 'average',\n",
              " 'bartlett',\n",
              " 'base_repr',\n",
              " 'binary_repr',\n",
              " 'bincount',\n",
              " 'bitwise_and',\n",
              " 'bitwise_not',\n",
              " 'bitwise_or',\n",
              " 'bitwise_xor',\n",
              " 'blackman',\n",
              " 'block',\n",
              " 'bmat',\n",
              " 'bool_',\n",
              " 'broadcast',\n",
              " 'broadcast_arrays',\n",
              " 'broadcast_shapes',\n",
              " 'broadcast_to',\n",
              " 'busday_count',\n",
              " 'busday_offset',\n",
              " 'busdaycalendar',\n",
              " 'byte',\n",
              " 'byte_bounds',\n",
              " 'bytes_',\n",
              " 'c_',\n",
              " 'can_cast',\n",
              " 'cast',\n",
              " 'cbrt',\n",
              " 'cdouble',\n",
              " 'ceil',\n",
              " 'cfloat',\n",
              " 'char',\n",
              " 'character',\n",
              " 'chararray',\n",
              " 'choose',\n",
              " 'clip',\n",
              " 'clongdouble',\n",
              " 'clongfloat',\n",
              " 'column_stack',\n",
              " 'common_type',\n",
              " 'compare_chararrays',\n",
              " 'compat',\n",
              " 'complex128',\n",
              " 'complex256',\n",
              " 'complex64',\n",
              " 'complex_',\n",
              " 'complexfloating',\n",
              " 'compress',\n",
              " 'concatenate',\n",
              " 'conj',\n",
              " 'conjugate',\n",
              " 'convolve',\n",
              " 'copy',\n",
              " 'copysign',\n",
              " 'copyto',\n",
              " 'corrcoef',\n",
              " 'correlate',\n",
              " 'cos',\n",
              " 'cosh',\n",
              " 'count_nonzero',\n",
              " 'cov',\n",
              " 'cross',\n",
              " 'csingle',\n",
              " 'ctypeslib',\n",
              " 'cumprod',\n",
              " 'cumproduct',\n",
              " 'cumsum',\n",
              " 'datetime64',\n",
              " 'datetime_as_string',\n",
              " 'datetime_data',\n",
              " 'deg2rad',\n",
              " 'degrees',\n",
              " 'delete',\n",
              " 'deprecate',\n",
              " 'deprecate_with_doc',\n",
              " 'diag',\n",
              " 'diag_indices',\n",
              " 'diag_indices_from',\n",
              " 'diagflat',\n",
              " 'diagonal',\n",
              " 'diff',\n",
              " 'digitize',\n",
              " 'disp',\n",
              " 'divide',\n",
              " 'divmod',\n",
              " 'dot',\n",
              " 'double',\n",
              " 'dsplit',\n",
              " 'dstack',\n",
              " 'dtype',\n",
              " 'dtypes',\n",
              " 'e',\n",
              " 'ediff1d',\n",
              " 'einsum',\n",
              " 'einsum_path',\n",
              " 'emath',\n",
              " 'empty',\n",
              " 'empty_like',\n",
              " 'equal',\n",
              " 'errstate',\n",
              " 'euler_gamma',\n",
              " 'exceptions',\n",
              " 'exp',\n",
              " 'exp2',\n",
              " 'expand_dims',\n",
              " 'expm1',\n",
              " 'extract',\n",
              " 'eye',\n",
              " 'fabs',\n",
              " 'fastCopyAndTranspose',\n",
              " 'fft',\n",
              " 'fill_diagonal',\n",
              " 'find_common_type',\n",
              " 'finfo',\n",
              " 'fix',\n",
              " 'flatiter',\n",
              " 'flatnonzero',\n",
              " 'flexible',\n",
              " 'flip',\n",
              " 'fliplr',\n",
              " 'flipud',\n",
              " 'float128',\n",
              " 'float16',\n",
              " 'float32',\n",
              " 'float64',\n",
              " 'float_',\n",
              " 'float_power',\n",
              " 'floating',\n",
              " 'floor',\n",
              " 'floor_divide',\n",
              " 'fmax',\n",
              " 'fmin',\n",
              " 'fmod',\n",
              " 'format_float_positional',\n",
              " 'format_float_scientific',\n",
              " 'format_parser',\n",
              " 'frexp',\n",
              " 'from_dlpack',\n",
              " 'frombuffer',\n",
              " 'fromfile',\n",
              " 'fromfunction',\n",
              " 'fromiter',\n",
              " 'frompyfunc',\n",
              " 'fromregex',\n",
              " 'fromstring',\n",
              " 'full',\n",
              " 'full_like',\n",
              " 'gcd',\n",
              " 'generic',\n",
              " 'genfromtxt',\n",
              " 'geomspace',\n",
              " 'get_array_wrap',\n",
              " 'get_include',\n",
              " 'get_printoptions',\n",
              " 'getbufsize',\n",
              " 'geterr',\n",
              " 'geterrcall',\n",
              " 'geterrobj',\n",
              " 'gradient',\n",
              " 'greater',\n",
              " 'greater_equal',\n",
              " 'half',\n",
              " 'hamming',\n",
              " 'hanning',\n",
              " 'heaviside',\n",
              " 'histogram',\n",
              " 'histogram2d',\n",
              " 'histogram_bin_edges',\n",
              " 'histogramdd',\n",
              " 'hsplit',\n",
              " 'hstack',\n",
              " 'hypot',\n",
              " 'i0',\n",
              " 'identity',\n",
              " 'iinfo',\n",
              " 'imag',\n",
              " 'in1d',\n",
              " 'index_exp',\n",
              " 'indices',\n",
              " 'inexact',\n",
              " 'inf',\n",
              " 'info',\n",
              " 'infty',\n",
              " 'inner',\n",
              " 'insert',\n",
              " 'int16',\n",
              " 'int32',\n",
              " 'int64',\n",
              " 'int8',\n",
              " 'int_',\n",
              " 'intc',\n",
              " 'integer',\n",
              " 'interp',\n",
              " 'intersect1d',\n",
              " 'intp',\n",
              " 'invert',\n",
              " 'is_busday',\n",
              " 'isclose',\n",
              " 'iscomplex',\n",
              " 'iscomplexobj',\n",
              " 'isfinite',\n",
              " 'isfortran',\n",
              " 'isin',\n",
              " 'isinf',\n",
              " 'isnan',\n",
              " 'isnat',\n",
              " 'isneginf',\n",
              " 'isposinf',\n",
              " 'isreal',\n",
              " 'isrealobj',\n",
              " 'isscalar',\n",
              " 'issctype',\n",
              " 'issubclass_',\n",
              " 'issubdtype',\n",
              " 'issubsctype',\n",
              " 'iterable',\n",
              " 'ix_',\n",
              " 'kaiser',\n",
              " 'kernel_version',\n",
              " 'kron',\n",
              " 'lcm',\n",
              " 'ldexp',\n",
              " 'left_shift',\n",
              " 'less',\n",
              " 'less_equal',\n",
              " 'lexsort',\n",
              " 'lib',\n",
              " 'linalg',\n",
              " 'linspace',\n",
              " 'little_endian',\n",
              " 'load',\n",
              " 'loadtxt',\n",
              " 'log',\n",
              " 'log10',\n",
              " 'log1p',\n",
              " 'log2',\n",
              " 'logaddexp',\n",
              " 'logaddexp2',\n",
              " 'logical_and',\n",
              " 'logical_not',\n",
              " 'logical_or',\n",
              " 'logical_xor',\n",
              " 'logspace',\n",
              " 'longcomplex',\n",
              " 'longdouble',\n",
              " 'longfloat',\n",
              " 'longlong',\n",
              " 'lookfor',\n",
              " 'ma',\n",
              " 'mask_indices',\n",
              " 'mat',\n",
              " 'matmul',\n",
              " 'matrix',\n",
              " 'max',\n",
              " 'maximum',\n",
              " 'maximum_sctype',\n",
              " 'may_share_memory',\n",
              " 'mean',\n",
              " 'median',\n",
              " 'memmap',\n",
              " 'meshgrid',\n",
              " 'mgrid',\n",
              " 'min',\n",
              " 'min_scalar_type',\n",
              " 'minimum',\n",
              " 'mintypecode',\n",
              " 'mod',\n",
              " 'modf',\n",
              " 'moveaxis',\n",
              " 'msort',\n",
              " 'multiply',\n",
              " 'nan',\n",
              " 'nan_to_num',\n",
              " 'nanargmax',\n",
              " 'nanargmin',\n",
              " 'nancumprod',\n",
              " 'nancumsum',\n",
              " 'nanmax',\n",
              " 'nanmean',\n",
              " 'nanmedian',\n",
              " 'nanmin',\n",
              " 'nanpercentile',\n",
              " 'nanprod',\n",
              " 'nanquantile',\n",
              " 'nanstd',\n",
              " 'nansum',\n",
              " 'nanvar',\n",
              " 'nbytes',\n",
              " 'ndarray',\n",
              " 'ndenumerate',\n",
              " 'ndim',\n",
              " 'ndindex',\n",
              " 'nditer',\n",
              " 'negative',\n",
              " 'nested_iters',\n",
              " 'newaxis',\n",
              " 'nextafter',\n",
              " 'nonzero',\n",
              " 'not_equal',\n",
              " 'numarray',\n",
              " 'number',\n",
              " 'obj2sctype',\n",
              " 'object_',\n",
              " 'ogrid',\n",
              " 'oldnumeric',\n",
              " 'ones',\n",
              " 'ones_like',\n",
              " 'outer',\n",
              " 'packbits',\n",
              " 'pad',\n",
              " 'partition',\n",
              " 'percentile',\n",
              " 'pi',\n",
              " 'piecewise',\n",
              " 'place',\n",
              " 'poly',\n",
              " 'poly1d',\n",
              " 'polyadd',\n",
              " 'polyder',\n",
              " 'polydiv',\n",
              " 'polyfit',\n",
              " 'polyint',\n",
              " 'polymul',\n",
              " 'polynomial',\n",
              " 'polysub',\n",
              " 'polyval',\n",
              " 'positive',\n",
              " 'power',\n",
              " 'printoptions',\n",
              " 'prod',\n",
              " 'product',\n",
              " 'promote_types',\n",
              " 'ptp',\n",
              " 'put',\n",
              " 'put_along_axis',\n",
              " 'putmask',\n",
              " 'quantile',\n",
              " 'r_',\n",
              " 'rad2deg',\n",
              " 'radians',\n",
              " 'random',\n",
              " 'ravel',\n",
              " 'ravel_multi_index',\n",
              " 'real',\n",
              " 'real_if_close',\n",
              " 'rec',\n",
              " 'recarray',\n",
              " 'recfromcsv',\n",
              " 'recfromtxt',\n",
              " 'reciprocal',\n",
              " 'record',\n",
              " 'remainder',\n",
              " 'repeat',\n",
              " 'require',\n",
              " 'reshape',\n",
              " 'resize',\n",
              " 'result_type',\n",
              " 'right_shift',\n",
              " 'rint',\n",
              " 'roll',\n",
              " 'rollaxis',\n",
              " 'roots',\n",
              " 'rot90',\n",
              " 'round',\n",
              " 'round_',\n",
              " 'row_stack',\n",
              " 's_',\n",
              " 'safe_eval',\n",
              " 'save',\n",
              " 'savetxt',\n",
              " 'savez',\n",
              " 'savez_compressed',\n",
              " 'sctype2char',\n",
              " 'sctypeDict',\n",
              " 'sctypes',\n",
              " 'searchsorted',\n",
              " 'select',\n",
              " 'set_numeric_ops',\n",
              " 'set_printoptions',\n",
              " 'set_string_function',\n",
              " 'setbufsize',\n",
              " 'setdiff1d',\n",
              " 'seterr',\n",
              " 'seterrcall',\n",
              " 'seterrobj',\n",
              " 'setxor1d',\n",
              " 'shape',\n",
              " 'shares_memory',\n",
              " 'short',\n",
              " 'show_config',\n",
              " 'show_runtime',\n",
              " 'sign',\n",
              " 'signbit',\n",
              " 'signedinteger',\n",
              " 'sin',\n",
              " 'sinc',\n",
              " 'single',\n",
              " 'singlecomplex',\n",
              " 'sinh',\n",
              " 'size',\n",
              " 'sometrue',\n",
              " 'sort',\n",
              " 'sort_complex',\n",
              " 'source',\n",
              " 'spacing',\n",
              " 'split',\n",
              " 'sqrt',\n",
              " 'square',\n",
              " 'squeeze',\n",
              " 'stack',\n",
              " 'std',\n",
              " 'str_',\n",
              " 'string_',\n",
              " 'subtract',\n",
              " 'sum',\n",
              " 'swapaxes',\n",
              " 'take',\n",
              " 'take_along_axis',\n",
              " 'tan',\n",
              " 'tanh',\n",
              " 'tensordot',\n",
              " 'test',\n",
              " 'testing',\n",
              " 'tile',\n",
              " 'timedelta64',\n",
              " 'trace',\n",
              " 'tracemalloc_domain',\n",
              " 'transpose',\n",
              " 'trapz',\n",
              " 'tri',\n",
              " 'tril',\n",
              " 'tril_indices',\n",
              " 'tril_indices_from',\n",
              " 'trim_zeros',\n",
              " 'triu',\n",
              " 'triu_indices',\n",
              " 'triu_indices_from',\n",
              " 'true_divide',\n",
              " 'trunc',\n",
              " 'typecodes',\n",
              " 'typename',\n",
              " 'ubyte',\n",
              " 'ufunc',\n",
              " 'uint',\n",
              " 'uint16',\n",
              " 'uint32',\n",
              " 'uint64',\n",
              " 'uint8',\n",
              " 'uintc',\n",
              " 'uintp',\n",
              " 'ulonglong',\n",
              " 'unicode_',\n",
              " 'union1d',\n",
              " 'unique',\n",
              " 'unpackbits',\n",
              " 'unravel_index',\n",
              " 'unsignedinteger',\n",
              " 'unwrap',\n",
              " 'ushort',\n",
              " 'vander',\n",
              " 'var',\n",
              " 'vdot',\n",
              " 'vectorize',\n",
              " 'version',\n",
              " 'void',\n",
              " 'vsplit',\n",
              " 'vstack',\n",
              " 'where',\n",
              " 'who',\n",
              " 'zeros',\n",
              " 'zeros_like']"
            ]
          },
          "metadata": {},
          "execution_count": 3
        }
      ],
      "source": [
        "# Verificando todos os métodos e atributos disponíveis no pacote\n",
        "dir(numpy)"
      ]
    },
    {
      "cell_type": "code",
      "execution_count": 4,
      "metadata": {
        "id": "nyLnd2BRXAr3",
        "outputId": "72ef916d-5960-4b2e-d0e2-0312b2b06309",
        "colab": {
          "base_uri": "https://localhost:8080/"
        }
      },
      "outputs": [
        {
          "output_type": "execute_result",
          "data": {
            "text/plain": [
              "5.0"
            ]
          },
          "metadata": {},
          "execution_count": 4
        }
      ],
      "source": [
        "# Usando um dos métodos do pacote Numpy\n",
        "numpy.sqrt(25)"
      ]
    },
    {
      "cell_type": "code",
      "execution_count": 5,
      "metadata": {
        "id": "pj6AD-99XAr3"
      },
      "outputs": [],
      "source": [
        "# Importando apenas um dos métodos do pacote Numpy\n",
        "from numpy import sqrt"
      ]
    },
    {
      "cell_type": "code",
      "execution_count": 6,
      "metadata": {
        "id": "92-xEdryXAr3",
        "outputId": "a12cd304-d4ed-4ab3-c476-f5b47fb55870",
        "colab": {
          "base_uri": "https://localhost:8080/"
        }
      },
      "outputs": [
        {
          "output_type": "execute_result",
          "data": {
            "text/plain": [
              "3.0"
            ]
          },
          "metadata": {},
          "execution_count": 6
        }
      ],
      "source": [
        "# Usando o método\n",
        "sqrt(9)"
      ]
    },
    {
      "cell_type": "code",
      "execution_count": 7,
      "metadata": {
        "id": "m5IBg0usXAr4",
        "outputId": "8a307eb0-7c24-4178-a232-803485381bf7",
        "colab": {
          "base_uri": "https://localhost:8080/"
        }
      },
      "outputs": [
        {
          "output_type": "stream",
          "name": "stdout",
          "text": [
            "['ALLOW_THREADS', 'BUFSIZE', 'CLIP', 'DataSource', 'ERR_CALL', 'ERR_DEFAULT', 'ERR_IGNORE', 'ERR_LOG', 'ERR_PRINT', 'ERR_RAISE', 'ERR_WARN', 'FLOATING_POINT_SUPPORT', 'FPE_DIVIDEBYZERO', 'FPE_INVALID', 'FPE_OVERFLOW', 'FPE_UNDERFLOW', 'False_', 'Inf', 'Infinity', 'MAXDIMS', 'MAY_SHARE_BOUNDS', 'MAY_SHARE_EXACT', 'NAN', 'NINF', 'NZERO', 'NaN', 'PINF', 'PZERO', 'RAISE', 'RankWarning', 'SHIFT_DIVIDEBYZERO', 'SHIFT_INVALID', 'SHIFT_OVERFLOW', 'SHIFT_UNDERFLOW', 'ScalarType', 'True_', 'UFUNC_BUFSIZE_DEFAULT', 'UFUNC_PYVALS_NAME', 'WRAP', '_CopyMode', '_NoValue', '_UFUNC_API', '__NUMPY_SETUP__', '__all__', '__builtins__', '__cached__', '__config__', '__deprecated_attrs__', '__dir__', '__doc__', '__expired_functions__', '__file__', '__former_attrs__', '__future_scalars__', '__getattr__', '__loader__', '__name__', '__package__', '__path__', '__spec__', '__version__', '_add_newdoc_ufunc', '_builtins', '_distributor_init', '_financial_names', '_get_promotion_state', '_globals', '_int_extended_msg', '_mat', '_no_nep50_warning', '_pyinstaller_hooks_dir', '_pytesttester', '_set_promotion_state', '_specific_msg', '_typing', '_using_numpy2_behavior', '_utils', 'abs', 'absolute', 'add', 'add_docstring', 'add_newdoc', 'add_newdoc_ufunc', 'all', 'allclose', 'alltrue', 'amax', 'amin', 'angle', 'any', 'append', 'apply_along_axis', 'apply_over_axes', 'arange', 'arccos', 'arccosh', 'arcsin', 'arcsinh', 'arctan', 'arctan2', 'arctanh', 'argmax', 'argmin', 'argpartition', 'argsort', 'argwhere', 'around', 'array', 'array2string', 'array_equal', 'array_equiv', 'array_repr', 'array_split', 'array_str', 'asanyarray', 'asarray', 'asarray_chkfinite', 'ascontiguousarray', 'asfarray', 'asfortranarray', 'asmatrix', 'atleast_1d', 'atleast_2d', 'atleast_3d', 'average', 'bartlett', 'base_repr', 'binary_repr', 'bincount', 'bitwise_and', 'bitwise_not', 'bitwise_or', 'bitwise_xor', 'blackman', 'block', 'bmat', 'bool_', 'broadcast', 'broadcast_arrays', 'broadcast_shapes', 'broadcast_to', 'busday_count', 'busday_offset', 'busdaycalendar', 'byte', 'byte_bounds', 'bytes_', 'c_', 'can_cast', 'cast', 'cbrt', 'cdouble', 'ceil', 'cfloat', 'char', 'character', 'chararray', 'choose', 'clip', 'clongdouble', 'clongfloat', 'column_stack', 'common_type', 'compare_chararrays', 'compat', 'complex128', 'complex256', 'complex64', 'complex_', 'complexfloating', 'compress', 'concatenate', 'conj', 'conjugate', 'convolve', 'copy', 'copysign', 'copyto', 'corrcoef', 'correlate', 'cos', 'cosh', 'count_nonzero', 'cov', 'cross', 'csingle', 'ctypeslib', 'cumprod', 'cumproduct', 'cumsum', 'datetime64', 'datetime_as_string', 'datetime_data', 'deg2rad', 'degrees', 'delete', 'deprecate', 'deprecate_with_doc', 'diag', 'diag_indices', 'diag_indices_from', 'diagflat', 'diagonal', 'diff', 'digitize', 'disp', 'divide', 'divmod', 'dot', 'double', 'dsplit', 'dstack', 'dtype', 'dtypes', 'e', 'ediff1d', 'einsum', 'einsum_path', 'emath', 'empty', 'empty_like', 'equal', 'errstate', 'euler_gamma', 'exceptions', 'exp', 'exp2', 'expand_dims', 'expm1', 'extract', 'eye', 'fabs', 'fastCopyAndTranspose', 'fft', 'fill_diagonal', 'find_common_type', 'finfo', 'fix', 'flatiter', 'flatnonzero', 'flexible', 'flip', 'fliplr', 'flipud', 'float128', 'float16', 'float32', 'float64', 'float_', 'float_power', 'floating', 'floor', 'floor_divide', 'fmax', 'fmin', 'fmod', 'format_float_positional', 'format_float_scientific', 'format_parser', 'frexp', 'from_dlpack', 'frombuffer', 'fromfile', 'fromfunction', 'fromiter', 'frompyfunc', 'fromregex', 'fromstring', 'full', 'full_like', 'gcd', 'generic', 'genfromtxt', 'geomspace', 'get_array_wrap', 'get_include', 'get_printoptions', 'getbufsize', 'geterr', 'geterrcall', 'geterrobj', 'gradient', 'greater', 'greater_equal', 'half', 'hamming', 'hanning', 'heaviside', 'histogram', 'histogram2d', 'histogram_bin_edges', 'histogramdd', 'hsplit', 'hstack', 'hypot', 'i0', 'identity', 'iinfo', 'imag', 'in1d', 'index_exp', 'indices', 'inexact', 'inf', 'info', 'infty', 'inner', 'insert', 'int16', 'int32', 'int64', 'int8', 'int_', 'intc', 'integer', 'interp', 'intersect1d', 'intp', 'invert', 'is_busday', 'isclose', 'iscomplex', 'iscomplexobj', 'isfinite', 'isfortran', 'isin', 'isinf', 'isnan', 'isnat', 'isneginf', 'isposinf', 'isreal', 'isrealobj', 'isscalar', 'issctype', 'issubclass_', 'issubdtype', 'issubsctype', 'iterable', 'ix_', 'kaiser', 'kernel_version', 'kron', 'lcm', 'ldexp', 'left_shift', 'less', 'less_equal', 'lexsort', 'lib', 'linalg', 'linspace', 'little_endian', 'load', 'loadtxt', 'log', 'log10', 'log1p', 'log2', 'logaddexp', 'logaddexp2', 'logical_and', 'logical_not', 'logical_or', 'logical_xor', 'logspace', 'longcomplex', 'longdouble', 'longfloat', 'longlong', 'lookfor', 'ma', 'mask_indices', 'mat', 'matmul', 'matrix', 'max', 'maximum', 'maximum_sctype', 'may_share_memory', 'mean', 'median', 'memmap', 'meshgrid', 'mgrid', 'min', 'min_scalar_type', 'minimum', 'mintypecode', 'mod', 'modf', 'moveaxis', 'msort', 'multiply', 'nan', 'nan_to_num', 'nanargmax', 'nanargmin', 'nancumprod', 'nancumsum', 'nanmax', 'nanmean', 'nanmedian', 'nanmin', 'nanpercentile', 'nanprod', 'nanquantile', 'nanstd', 'nansum', 'nanvar', 'nbytes', 'ndarray', 'ndenumerate', 'ndim', 'ndindex', 'nditer', 'negative', 'nested_iters', 'newaxis', 'nextafter', 'nonzero', 'not_equal', 'numarray', 'number', 'obj2sctype', 'object_', 'ogrid', 'oldnumeric', 'ones', 'ones_like', 'outer', 'packbits', 'pad', 'partition', 'percentile', 'pi', 'piecewise', 'place', 'poly', 'poly1d', 'polyadd', 'polyder', 'polydiv', 'polyfit', 'polyint', 'polymul', 'polynomial', 'polysub', 'polyval', 'positive', 'power', 'printoptions', 'prod', 'product', 'promote_types', 'ptp', 'put', 'put_along_axis', 'putmask', 'quantile', 'r_', 'rad2deg', 'radians', 'random', 'ravel', 'ravel_multi_index', 'real', 'real_if_close', 'rec', 'recarray', 'recfromcsv', 'recfromtxt', 'reciprocal', 'record', 'remainder', 'repeat', 'require', 'reshape', 'resize', 'result_type', 'right_shift', 'rint', 'roll', 'rollaxis', 'roots', 'rot90', 'round', 'round_', 'row_stack', 's_', 'safe_eval', 'save', 'savetxt', 'savez', 'savez_compressed', 'sctype2char', 'sctypeDict', 'sctypes', 'searchsorted', 'select', 'set_numeric_ops', 'set_printoptions', 'set_string_function', 'setbufsize', 'setdiff1d', 'seterr', 'seterrcall', 'seterrobj', 'setxor1d', 'shape', 'shares_memory', 'short', 'show_config', 'show_runtime', 'sign', 'signbit', 'signedinteger', 'sin', 'sinc', 'single', 'singlecomplex', 'sinh', 'size', 'sometrue', 'sort', 'sort_complex', 'source', 'spacing', 'split', 'sqrt', 'square', 'squeeze', 'stack', 'std', 'str_', 'string_', 'subtract', 'sum', 'swapaxes', 'take', 'take_along_axis', 'tan', 'tanh', 'tensordot', 'test', 'testing', 'tile', 'timedelta64', 'trace', 'tracemalloc_domain', 'transpose', 'trapz', 'tri', 'tril', 'tril_indices', 'tril_indices_from', 'trim_zeros', 'triu', 'triu_indices', 'triu_indices_from', 'true_divide', 'trunc', 'typecodes', 'typename', 'ubyte', 'ufunc', 'uint', 'uint16', 'uint32', 'uint64', 'uint8', 'uintc', 'uintp', 'ulonglong', 'unicode_', 'union1d', 'unique', 'unpackbits', 'unravel_index', 'unsignedinteger', 'unwrap', 'ushort', 'vander', 'var', 'vdot', 'vectorize', 'version', 'void', 'vsplit', 'vstack', 'where', 'who', 'zeros', 'zeros_like']\n"
          ]
        }
      ],
      "source": [
        "# Imprimindo todos os métodos do pacote numpy\n",
        "print(dir(numpy))"
      ]
    },
    {
      "cell_type": "code",
      "execution_count": 8,
      "metadata": {
        "id": "1JfNdXO2XAr4",
        "outputId": "9d91e506-693a-4b39-b9dc-ab655dc50b68",
        "colab": {
          "base_uri": "https://localhost:8080/"
        }
      },
      "outputs": [
        {
          "output_type": "stream",
          "name": "stdout",
          "text": [
            "Help on ufunc:\n",
            "\n",
            "sqrt = <ufunc 'sqrt'>\n",
            "    sqrt(x, /, out=None, *, where=True, casting='same_kind', order='K', dtype=None, subok=True[, signature, extobj])\n",
            "    \n",
            "    Return the non-negative square-root of an array, element-wise.\n",
            "    \n",
            "    Parameters\n",
            "    ----------\n",
            "    x : array_like\n",
            "        The values whose square-roots are required.\n",
            "    out : ndarray, None, or tuple of ndarray and None, optional\n",
            "        A location into which the result is stored. If provided, it must have\n",
            "        a shape that the inputs broadcast to. If not provided or None,\n",
            "        a freshly-allocated array is returned. A tuple (possible only as a\n",
            "        keyword argument) must have length equal to the number of outputs.\n",
            "    where : array_like, optional\n",
            "        This condition is broadcast over the input. At locations where the\n",
            "        condition is True, the `out` array will be set to the ufunc result.\n",
            "        Elsewhere, the `out` array will retain its original value.\n",
            "        Note that if an uninitialized `out` array is created via the default\n",
            "        ``out=None``, locations within it where the condition is False will\n",
            "        remain uninitialized.\n",
            "    **kwargs\n",
            "        For other keyword-only arguments, see the\n",
            "        :ref:`ufunc docs <ufuncs.kwargs>`.\n",
            "    \n",
            "    Returns\n",
            "    -------\n",
            "    y : ndarray\n",
            "        An array of the same shape as `x`, containing the positive\n",
            "        square-root of each element in `x`.  If any element in `x` is\n",
            "        complex, a complex array is returned (and the square-roots of\n",
            "        negative reals are calculated).  If all of the elements in `x`\n",
            "        are real, so is `y`, with negative elements returning ``nan``.\n",
            "        If `out` was provided, `y` is a reference to it.\n",
            "        This is a scalar if `x` is a scalar.\n",
            "    \n",
            "    See Also\n",
            "    --------\n",
            "    emath.sqrt\n",
            "        A version which returns complex numbers when given negative reals.\n",
            "        Note that 0.0 and -0.0 are handled differently for complex inputs.\n",
            "    \n",
            "    Notes\n",
            "    -----\n",
            "    *sqrt* has--consistent with common convention--as its branch cut the\n",
            "    real \"interval\" [`-inf`, 0), and is continuous from above on it.\n",
            "    A branch cut is a curve in the complex plane across which a given\n",
            "    complex function fails to be continuous.\n",
            "    \n",
            "    Examples\n",
            "    --------\n",
            "    >>> np.sqrt([1,4,9])\n",
            "    array([ 1.,  2.,  3.])\n",
            "    \n",
            "    >>> np.sqrt([4, -1, -3+4J])\n",
            "    array([ 2.+0.j,  0.+1.j,  1.+2.j])\n",
            "    \n",
            "    >>> np.sqrt([4, -1, np.inf])\n",
            "    array([ 2., nan, inf])\n",
            "\n"
          ]
        }
      ],
      "source": [
        "# Help do método sqrt do pacote Numpy\n",
        "help(sqrt)"
      ]
    },
    {
      "cell_type": "code",
      "execution_count": 9,
      "metadata": {
        "id": "Gk7hqm71XAr4"
      },
      "outputs": [],
      "source": [
        "import random"
      ]
    },
    {
      "cell_type": "code",
      "execution_count": 15,
      "metadata": {
        "id": "kntdXjwmXAr5",
        "outputId": "1f579472-64a2-43dd-d1ea-7e742da7222a",
        "colab": {
          "base_uri": "https://localhost:8080/",
          "height": 35
        }
      },
      "outputs": [
        {
          "output_type": "execute_result",
          "data": {
            "text/plain": [
              "'Laranja'"
            ],
            "application/vnd.google.colaboratory.intrinsic+json": {
              "type": "string"
            }
          },
          "metadata": {},
          "execution_count": 15
        }
      ],
      "source": [
        "random.choice(['Abacate', 'Banana', 'Laranja', 'Kiwi', 'Maça'])"
      ]
    },
    {
      "cell_type": "code",
      "execution_count": 18,
      "metadata": {
        "id": "T6irCT8lXAr5",
        "outputId": "25d17ff1-571e-4b7c-a396-a40967bb0472",
        "colab": {
          "base_uri": "https://localhost:8080/"
        }
      },
      "outputs": [
        {
          "output_type": "execute_result",
          "data": {
            "text/plain": [
              "[440, 329, 344, 188, 752, 451, 359, 853, 241, 707]"
            ]
          },
          "metadata": {},
          "execution_count": 18
        }
      ],
      "source": [
        "random.sample(range(900), 10)"
      ]
    },
    {
      "cell_type": "code",
      "execution_count": 19,
      "metadata": {
        "id": "HHVmKjHUXAr6"
      },
      "outputs": [],
      "source": [
        "import statistics"
      ]
    },
    {
      "cell_type": "code",
      "execution_count": 20,
      "metadata": {
        "id": "ghiy5vPyXAr6"
      },
      "outputs": [],
      "source": [
        "dados = [2.75, 1.75, 1.25, 0.25, 0.5, 1.25, 3.5]"
      ]
    },
    {
      "cell_type": "code",
      "execution_count": 21,
      "metadata": {
        "id": "7Mtn_aPIXAr6",
        "outputId": "862ab07a-133a-499c-f1b0-c4964970d70e",
        "colab": {
          "base_uri": "https://localhost:8080/"
        }
      },
      "outputs": [
        {
          "output_type": "execute_result",
          "data": {
            "text/plain": [
              "1.6071428571428572"
            ]
          },
          "metadata": {},
          "execution_count": 21
        }
      ],
      "source": [
        "statistics.mean(dados)"
      ]
    },
    {
      "cell_type": "code",
      "execution_count": 22,
      "metadata": {
        "id": "hZq7gkSNXAr7",
        "outputId": "3a63fba9-dc93-4ea9-e2cb-e4f9c79c8530",
        "colab": {
          "base_uri": "https://localhost:8080/"
        }
      },
      "outputs": [
        {
          "output_type": "execute_result",
          "data": {
            "text/plain": [
              "1.25"
            ]
          },
          "metadata": {},
          "execution_count": 22
        }
      ],
      "source": [
        "statistics.median(dados)"
      ]
    },
    {
      "cell_type": "code",
      "execution_count": 23,
      "metadata": {
        "id": "vWvD2WKxXAr7"
      },
      "outputs": [],
      "source": [
        "import os"
      ]
    },
    {
      "cell_type": "code",
      "execution_count": 24,
      "metadata": {
        "id": "RKArCTxLXAr7",
        "outputId": "84d08a29-fc23-47a8-f16f-45812d97eb48",
        "colab": {
          "base_uri": "https://localhost:8080/",
          "height": 35
        }
      },
      "outputs": [
        {
          "output_type": "execute_result",
          "data": {
            "text/plain": [
              "'/content'"
            ],
            "application/vnd.google.colaboratory.intrinsic+json": {
              "type": "string"
            }
          },
          "metadata": {},
          "execution_count": 24
        }
      ],
      "source": [
        "os.getcwd()"
      ]
    },
    {
      "cell_type": "code",
      "execution_count": 25,
      "metadata": {
        "id": "wwH1TQUJXAr8",
        "outputId": "d4707170-78ad-4470-8b82-6dc1f73b4821",
        "colab": {
          "base_uri": "https://localhost:8080/"
        }
      },
      "outputs": [
        {
          "output_type": "stream",
          "name": "stdout",
          "text": [
            "['CLD_CONTINUED', 'CLD_DUMPED', 'CLD_EXITED', 'CLD_KILLED', 'CLD_STOPPED', 'CLD_TRAPPED', 'DirEntry', 'EFD_CLOEXEC', 'EFD_NONBLOCK', 'EFD_SEMAPHORE', 'EX_CANTCREAT', 'EX_CONFIG', 'EX_DATAERR', 'EX_IOERR', 'EX_NOHOST', 'EX_NOINPUT', 'EX_NOPERM', 'EX_NOUSER', 'EX_OK', 'EX_OSERR', 'EX_OSFILE', 'EX_PROTOCOL', 'EX_SOFTWARE', 'EX_TEMPFAIL', 'EX_UNAVAILABLE', 'EX_USAGE', 'F_LOCK', 'F_OK', 'F_TEST', 'F_TLOCK', 'F_ULOCK', 'GRND_NONBLOCK', 'GRND_RANDOM', 'GenericAlias', 'MFD_ALLOW_SEALING', 'MFD_CLOEXEC', 'MFD_HUGETLB', 'MFD_HUGE_16GB', 'MFD_HUGE_16MB', 'MFD_HUGE_1GB', 'MFD_HUGE_1MB', 'MFD_HUGE_256MB', 'MFD_HUGE_2GB', 'MFD_HUGE_2MB', 'MFD_HUGE_32MB', 'MFD_HUGE_512KB', 'MFD_HUGE_512MB', 'MFD_HUGE_64KB', 'MFD_HUGE_8MB', 'MFD_HUGE_MASK', 'MFD_HUGE_SHIFT', 'Mapping', 'MutableMapping', 'NGROUPS_MAX', 'O_ACCMODE', 'O_APPEND', 'O_ASYNC', 'O_CLOEXEC', 'O_CREAT', 'O_DIRECT', 'O_DIRECTORY', 'O_DSYNC', 'O_EXCL', 'O_FSYNC', 'O_LARGEFILE', 'O_NDELAY', 'O_NOATIME', 'O_NOCTTY', 'O_NOFOLLOW', 'O_NONBLOCK', 'O_PATH', 'O_RDONLY', 'O_RDWR', 'O_RSYNC', 'O_SYNC', 'O_TMPFILE', 'O_TRUNC', 'O_WRONLY', 'POSIX_FADV_DONTNEED', 'POSIX_FADV_NOREUSE', 'POSIX_FADV_NORMAL', 'POSIX_FADV_RANDOM', 'POSIX_FADV_SEQUENTIAL', 'POSIX_FADV_WILLNEED', 'POSIX_SPAWN_CLOSE', 'POSIX_SPAWN_DUP2', 'POSIX_SPAWN_OPEN', 'PRIO_PGRP', 'PRIO_PROCESS', 'PRIO_USER', 'P_ALL', 'P_NOWAIT', 'P_NOWAITO', 'P_PGID', 'P_PID', 'P_PIDFD', 'P_WAIT', 'PathLike', 'RTLD_DEEPBIND', 'RTLD_GLOBAL', 'RTLD_LAZY', 'RTLD_LOCAL', 'RTLD_NODELETE', 'RTLD_NOLOAD', 'RTLD_NOW', 'RWF_APPEND', 'RWF_DSYNC', 'RWF_HIPRI', 'RWF_NOWAIT', 'RWF_SYNC', 'R_OK', 'SCHED_BATCH', 'SCHED_FIFO', 'SCHED_IDLE', 'SCHED_OTHER', 'SCHED_RESET_ON_FORK', 'SCHED_RR', 'SEEK_CUR', 'SEEK_DATA', 'SEEK_END', 'SEEK_HOLE', 'SEEK_SET', 'SPLICE_F_MORE', 'SPLICE_F_MOVE', 'SPLICE_F_NONBLOCK', 'ST_APPEND', 'ST_MANDLOCK', 'ST_NOATIME', 'ST_NODEV', 'ST_NODIRATIME', 'ST_NOEXEC', 'ST_NOSUID', 'ST_RDONLY', 'ST_RELATIME', 'ST_SYNCHRONOUS', 'ST_WRITE', 'TMP_MAX', 'WCONTINUED', 'WCOREDUMP', 'WEXITED', 'WEXITSTATUS', 'WIFCONTINUED', 'WIFEXITED', 'WIFSIGNALED', 'WIFSTOPPED', 'WNOHANG', 'WNOWAIT', 'WSTOPPED', 'WSTOPSIG', 'WTERMSIG', 'WUNTRACED', 'W_OK', 'XATTR_CREATE', 'XATTR_REPLACE', 'XATTR_SIZE_MAX', 'X_OK', '_Environ', '__all__', '__builtins__', '__cached__', '__doc__', '__file__', '__loader__', '__name__', '__package__', '__spec__', '_check_methods', '_execvpe', '_exists', '_exit', '_fspath', '_fwalk', '_get_exports_list', '_spawnvef', '_walk', '_wrap_close', 'abc', 'abort', 'access', 'altsep', 'chdir', 'chmod', 'chown', 'chroot', 'close', 'closerange', 'confstr', 'confstr_names', 'copy_file_range', 'cpu_count', 'ctermid', 'curdir', 'defpath', 'device_encoding', 'devnull', 'dup', 'dup2', 'environ', 'environb', 'error', 'eventfd', 'eventfd_read', 'eventfd_write', 'execl', 'execle', 'execlp', 'execlpe', 'execv', 'execve', 'execvp', 'execvpe', 'extsep', 'fchdir', 'fchmod', 'fchown', 'fdatasync', 'fdopen', 'fork', 'forkpty', 'fpathconf', 'fsdecode', 'fsencode', 'fspath', 'fstat', 'fstatvfs', 'fsync', 'ftruncate', 'fwalk', 'get_blocking', 'get_exec_path', 'get_inheritable', 'get_terminal_size', 'getcwd', 'getcwdb', 'getegid', 'getenv', 'getenvb', 'geteuid', 'getgid', 'getgrouplist', 'getgroups', 'getloadavg', 'getlogin', 'getpgid', 'getpgrp', 'getpid', 'getppid', 'getpriority', 'getrandom', 'getresgid', 'getresuid', 'getsid', 'getuid', 'getxattr', 'initgroups', 'isatty', 'kill', 'killpg', 'lchown', 'linesep', 'link', 'listdir', 'listxattr', 'lockf', 'lseek', 'lstat', 'major', 'makedev', 'makedirs', 'memfd_create', 'minor', 'mkdir', 'mkfifo', 'mknod', 'name', 'nice', 'open', 'openpty', 'pardir', 'path', 'pathconf', 'pathconf_names', 'pathsep', 'pidfd_open', 'pipe', 'pipe2', 'popen', 'posix_fadvise', 'posix_fallocate', 'posix_spawn', 'posix_spawnp', 'pread', 'preadv', 'putenv', 'pwrite', 'pwritev', 'read', 'readlink', 'readv', 'register_at_fork', 'remove', 'removedirs', 'removexattr', 'rename', 'renames', 'replace', 'rmdir', 'scandir', 'sched_get_priority_max', 'sched_get_priority_min', 'sched_getaffinity', 'sched_getparam', 'sched_getscheduler', 'sched_param', 'sched_rr_get_interval', 'sched_setaffinity', 'sched_setparam', 'sched_setscheduler', 'sched_yield', 'sendfile', 'sep', 'set_blocking', 'set_inheritable', 'setegid', 'seteuid', 'setgid', 'setgroups', 'setpgid', 'setpgrp', 'setpriority', 'setregid', 'setresgid', 'setresuid', 'setreuid', 'setsid', 'setuid', 'setxattr', 'spawnl', 'spawnle', 'spawnlp', 'spawnlpe', 'spawnv', 'spawnve', 'spawnvp', 'spawnvpe', 'splice', 'st', 'stat', 'stat_result', 'statvfs', 'statvfs_result', 'strerror', 'supports_bytes_environ', 'supports_dir_fd', 'supports_effective_ids', 'supports_fd', 'supports_follow_symlinks', 'symlink', 'sync', 'sys', 'sysconf', 'sysconf_names', 'system', 'tcgetpgrp', 'tcsetpgrp', 'terminal_size', 'times', 'times_result', 'truncate', 'ttyname', 'umask', 'uname', 'uname_result', 'unlink', 'unsetenv', 'urandom', 'utime', 'wait', 'wait3', 'wait4', 'waitid', 'waitid_result', 'waitpid', 'waitstatus_to_exitcode', 'walk', 'write', 'writev']\n"
          ]
        }
      ],
      "source": [
        "print(dir(os))"
      ]
    },
    {
      "cell_type": "markdown",
      "metadata": {
        "id": "_YNJ2QlBXAr8"
      },
      "source": [
        "> Podemos trabalhar com módulos dos pacotes (quando disponíveis)."
      ]
    },
    {
      "cell_type": "code",
      "execution_count": 26,
      "metadata": {
        "id": "X_yM-NXlXAr8"
      },
      "outputs": [],
      "source": [
        "# Importando o módulo request do pacote urllib, usado para trazer url's\n",
        "# para dentro do nosso ambiente Python\n",
        "import urllib.request"
      ]
    },
    {
      "cell_type": "markdown",
      "metadata": {
        "id": "NCubh96iXAr8"
      },
      "source": [
        "http://python.org"
      ]
    },
    {
      "cell_type": "code",
      "execution_count": 27,
      "metadata": {
        "id": "Jwpo0J5LXAr8"
      },
      "outputs": [],
      "source": [
        "# Variável resposta armazena o objeto de conexão à url passada como\n",
        "# parâmetro\n",
        "resposta = urllib.request.urlopen('http://python.org')"
      ]
    },
    {
      "cell_type": "code",
      "execution_count": 28,
      "metadata": {
        "id": "NcAnrmXDXAr8",
        "outputId": "62b2317d-f5fd-4293-b033-cba83342ffb6",
        "colab": {
          "base_uri": "https://localhost:8080/"
        }
      },
      "outputs": [
        {
          "output_type": "stream",
          "name": "stdout",
          "text": [
            "<http.client.HTTPResponse object at 0x7849de9e8550>\n"
          ]
        }
      ],
      "source": [
        "# Objeto resposta\n",
        "print(resposta)"
      ]
    },
    {
      "cell_type": "code",
      "execution_count": 29,
      "metadata": {
        "id": "NUfZnBh7XAr8"
      },
      "outputs": [],
      "source": [
        "# Chamando o método read() do objeto resposta e armazenando o código\n",
        "# html na variável html\n",
        "html = resposta.read()"
      ]
    },
    {
      "cell_type": "code",
      "execution_count": 30,
      "metadata": {
        "id": "pYNJRNAZXAr8",
        "outputId": "fcf56930-6ff1-41c9-ae52-0cb559fd8764",
        "colab": {
          "base_uri": "https://localhost:8080/"
        }
      },
      "outputs": [
        {
          "output_type": "stream",
          "name": "stdout",
          "text": [
            "b'\\x1f\\x8b\\x08\\x00\\x00\\x00\\x00\\x00\\x00\\x03\\xed}\\xddr\\xdbH\\x92\\xee\\xbd#\\xe6\\x1d\\xaa\\xe98\\x96<m\\x10\\xa2(Y\\xb2-\\xb1G\\xb6e\\xb7z\\xfc\\xd7-\\xb9{w{\\x1d\\x0e\\x10\\x04IH$@\\xe3G\\x12{f\"\\xf6vo\\xf6\\xfe\\\\\\x9dw;Op\\x1e\\xe1|\\x99U\\x05\\x14@\\x00$-\\x8d\\xa7;\\xc2;\\xdb\\x16\\t\\x16\\xaa\\xb2\\xb2\\xb2\\xf2\\xaf2\\xb3\\x0e\\xbe\\x19\\x84n2\\x9fyb\\x9cL\\'\\xbd;\\x07\\xdfX\\xd6\\xaf\\xfePL\\x12qr,\\xf6>\\xf4\\x84\\x10\\x07\\xf4\\x93p\\'N\\x1c\\x1f\\xb6\\x82\\xd0:\\x8f\\x85\\xef=D\\x13\\xcb\\xf7\\xf6\\xe4\\x9f}\\xf9\\xe7Q\\x8b\\xdb\\x7f\\xf3\\xab\\x17\\x0c\\xfc\\xe1\\x07\\xcb\\xca;\\xccz\\xab\\xeb\\xb0\\xaa\\'\\xb4\\xa5\\xff\\xab\\xebp\\x9f\\xc1\\xa3\\x06U\\x10\\x16`\\x92\\xed\\xf4\\xbf\\x95\\x1d\\x8ex\\xca\\xe8\\x93p\\xd0[\\xec\\xb2%&N0:lyAK\\x0c\\xfc\\xe8\\xb05I\"\\x9a/5/tx\\xe7`\\xec9\\x83\\xde\\x1d\\t\\xbae\\x89\\x97a8\\x9ax\"qFbs\\x84\\x7f\\xdb\\xe7\\xf1}A\\xc8\\xe1\\x16\\xb1\\x1b\\xf9\\xb3D8\\xf1<pE\\x1c\\xb9\\x87\\xadq\\x92\\xcc\\xe2\\xc7\\xb6}uu\\xd5\\x1e\\xf1\\xbbxi\\xea\\x04\\xce\\xc8\\x8b\\xdan8\\xb5\\xa9\\x13\\xfb<\\xfe\\xce\\x1f\\x1c\\xbe\\xb4\\xce^tw\\xff\\xfd\\xc5\\xa3g?\\x7f\\xdf\\xea\\x1d\\xd8\\xb2\\xb7B\\xd7\\xf2\\x8b\\x10W~0\\x08\\xaf\\xda\\x03\\'q^9s/\\x12\\x87\\x8b\\x8f\\xfe\\xfew\\xf1\\xeb\\x87\\'\\x0c\\x98\\x10\\xc34p\\x13?\\x0c\\x04\\x8d\\xb7y\\xffo\\xd9\\x9b\\xedY\\x1a\\x8f7\\x9dh\\x94N\\xbd \\x89\\xef?\\xf9\\x87z\\x83\\x1bn\\x9c\\xc7\\x1b\\x0fD\\xe0]\\x89\\xe7N\\xe2m\\xde\\xbf\\xaf\\xfb\\x93\\xbf\\xbaa0\\xf4Gh\\xb1a\\xc2\\xbe\\xa1Z\\x95f\\x00\\xdc\\x8aw\\x13\\'\\x8d\\xfd\\xfe\\xc4k\\xfb\\xa1\\x00\\x16&\\xf3\\xc4w\\xe3\\x05\\x04\\x0e\\xbc!\\xe6D0Z\\x83p\\xea\\xf8\\xc1ak6O\\xc6a\\xd0\\x0e\\xa3Q\\xab\\x88\\xd9\\x99\\xd1%\\x10\\xa9\\xb0\\x86u1Q(\\x97g\\n\\xe4\\x0bw\\xecD\\xb1\\x97\\x1c\\xb6\\xd2dh\\xed\\xb7\\x14z\\xf9\\'Z,\\xcb\\xfb\\x94\\xfa\\x97\\x87\\xad\\x7f\\xb3\\xde\\x1fY\\xcf\\xc2\\xe9\\xccI\\x08\\xde\\x96\\xc0\\\\\\x13`\\xe8\\xb0ur|\\xe8\\rF\\x1e\\xde\\x94\\xbdN\\xfc\\xe0BD\\xde\\x040F\\x80;q\\xc7-1\\xc6\\xa7\\xc3\\x96m;\\xe7\\xce\\xb5Zwg\\xe6\\xc7\\xbc\\xe2\\xf4\\xcc\\x9e\\xf8\\xfd\\xd8>\\xff\\x94z\\xd1\\xdc\\xee\\xb4\\xf7\\xdb\\xdb\\xeaK{\\xea\\x07\\x0c\\xfb\\xed\\xf4\\x9d\\xfa\\xe8\\xbd\\xb3\\xdd\\xee\\xa8\\xee\\xad\\xd4\\xcfG0\\x90\\x128S\\xef\\xb0\\xe5\\xccf\\x13\\xdf\\xc5\\x84\\xc3\\xc0\\xa2\\'\\xc6\\xa4\\xdf\\xe5\\xe871&\\xdf\\x9b\\xc6\\xe6\\x9bI\\x18N\\x12\\x7ff\\xbc|6\\xf6D8\\x1c\\xfa\\xae\\xefL\\xc48\\x9c\\xd27\\x91\\xe0\\xa1\\xecU\\xbc\\x8b\\xc2Q\\xe4L1\\xf5\\x91x\\x85\\x8d\\x99bw\\x14\\x16&\\x07\\xcf\\xb3\\xa6a\\xdf\\x9fx\\xd6\\x95\\xd7\\xb70\\xaa\\x95\\xf8Iau\\x1a\\x01%0\\x17zp\\x9d\\x99S\\\\\\xe1\\xb9\\x97-\\x00\\xd3E\\xc3\\xf0q\\xe2$il\\xf5\\x9d\\xc8\\x8a\\x93y\\x01\\x92\\xfe\\xc4q/2*1:\\xba\\xf4\\xbd\\xabY\\x18%\\x06\\x86\\xae\\xfcA2>\\x1cx\\x97\\xbe\\x8b\\xa9\\xd1\\x97\\x07\\xc2\\x0f\\xfc\\x04\\x08\\xb3b\\xd7\\x99x\\x87\\x9d\\xf6V\\x05J\\xbew\\x82\\xc1\\xd8\\x9b\\x0c^D>\\xf8\\xf4dn\"=J\\xab\\x908\\x0c\\xa3\\xa9\\x93X\\x03/\\xf1\\x98!\\x18o$\\xde\\xc4\\x9ba\\x93y\\x87AX\\xbb/\\xdc\\x89\\xe7D$e\\x8c\\x17\\xd1K\\xdd6\\xf2\\xa7XK\\xa2\\x08`\\xc8xc\\xe8L\\xe2|\\x07\\x99lSq\\x1f\\xc9\\xb5\\n,t\\xea\\r|\\xa7\\xed%c\\x90\\xe8\\xc4\\x19\\xc4`!6?\\xb3\\xdd\\tf\\x9f\\xd8\\x97\\x9d\\xf6N{\\xcb6Z\\xa8\\xcdT\\xe8\\xd3\\xc76\\x1eE~2?l\\xc5cg{\\xf7\\xa1\\xf5\\xbe;\\xfe\\xebs\\x7f\\x90\\x0eN\\x9c\\xeb\\xa7\\xcf\\x8f\\x7f\\xbbz\\xf9\\xc3\\xd1\\xec\\x87\\xd1\\xbb\\xe3\\xe1\\xf6\\xf4\\x97\\x8b\\x87\\xee\\xf0\\xf5/\\xa3qt\\xe4<\\xf4\\xb7\\x0e\\x05\\xde\\xe9\\xee\\xefX\\xef\\xddi\\xfc\\xec\\x93\\xfb\\xe6\\xa7\\xd3W\\xbf\\xd8\\x83\\x9f\\xbb\\xaf\\xc2N\\xf8\\xcc\\xdf\\xb6\\x7fv\\xd2\\xe8\\xdf\\xfa~\\xff\\xe1l\\xe7\\xfb\\xf9\\xfb\\xe3\\xb7\\xde\\x89c\\xef\\xbc\\x9d\\xc5Q\\x90\\xbaQ::\\xf2\\x86\\xbf\\xfd\\xfc\\x1f?\\x0cO\\xa8\\x9f\\xdd\\xce\\xb6\\xf5i\\'\\xe9\\xbc\\xda\\xb9>>\\x7f\\xf9\\xf3\\xf6O;\\xe3\\xdf>=sv:\\xef\\xf6\\xcf\\xa3\\xd1\\x8b\\xf7\\xa7\\xfb\\xd7g\\xfd\\xfdh\\xf0\\xe6r\\xe7\\xc5\\xcb\\xcb\\xab\\xbd\\x17\\xb3\\xf9\\xe0\\xe7s\\xfb\\xe2\\xe2\\xfa\\xe9\\x0f\\xdf\\xbf\\xf5\\x9d\\xf0\\xfa{g?\\x9c<s\\xaf;\\xa7\\x93\\x8bG\\x7f\\xfd\\xb6\\x1b\\xbf\\xe9\\xc7\\xafw\\xd2\\xd1\\xe1a\\xab0g7\\n\\xe38\\x8c\\xfc\\x11qR\\'\\x08\\x83\\xf94Lc\\xd9\\xa6Z\\xd0H\\x1ek\\x13y\\xfb.\\xb1UfX\\xd3p\\xe0E\\x81\\xff[T\\xc9^\\x99\\x11*\\xce\\xa7^\\xe4=\\x11\\x8f=/\\x01c\\xa6\\xcf\\xed\\x8e\\xbb5\\xec\\xee>\\xf4\\x86]w\\xaf\\xed\\xc6qK\\xb2\\xce\\xbcaK\\x10u\\x1d\\xb6\\x12\\xef:\\xb1\\xb9\\x01/2\\xe0\\x9eL\\xf0\\x1bm\\xf7\\xc3\\x16\\x04\\x84\\x93N\\xb0\\x83l\\x93Q\\xd6\\x8f=\\xfd\\xd4\\x1e>\\xea\\xec\\xef\\xed\\xec\\xec8;Ng\\xbd\\x81\\x830\\x11\\xb3\\x08t\\xf3@\\xf4#\\xc7\\x9fL\\xbc\\x07\\xc2\\x9b\\xf6\\x81Ro\\xf0@\\xc43\\xcfs\\xb1]\\x93\\x04\\xbboEp\\xa0y\\x01\\xa2\\xfep\\xcb\\xdd\\xd9\\xdeu\\x07\\xfd\\xbd\\xeez\\x10a\\xc3x\\xa4\\xbb\\xa8\\xe1\\x94 R\\xfa\\xde\\xe6$\\xf1X\\xfd\\xb9\\x7fo\\xf3\\x9b\\x93\\xe3\\xd7\\xcc/\\xef\\x7fX\\rQ\\xb7\\r\\x19\\xedc)gLM\\x92\\x9e\\x1e\\xe4r\\xd3\\\\\\xfcu$g.\\xdd L\\xa6\\x1eHl\\x1a\\x86\\xc98\\xf0b-[I\\xde\\x11\\r)Y]\\x16\\xaa>\\x84\\xba\\xa67\\xe6T\\xf6\\xb5%\\x9f\\x15Ii\\xe8\\x801C\\xfb\\xc0?\\x8b\\x92Y\\n\\x95$L\\xdd1\\xbflA\\r\\x80\\x9c\\x9f\\x85 \\x0f\\xe8*\\xfeo\\x1et\\xed\\xce\\xce\\xce5\\xfe\\xcb4\\x03\\xb5?\\x16\\xdeU\\xed\\xcc>\\xda\\xb3`\\xf4\\xb9\\xa3v0jg\\x85Qe\\xbb[\\x1auo\\xfbzo{\\xe9L\\xb9\\xd5MG,.\\xd3\\x026\\x8d\\x95X\\r\\x8bK\\xa1^\\xec\\x91ijA\\x95*\\xaaDg\\xd8\\x81\\'D_\\x86\\x08\\xd4\\xbc\\x15\\x8aA\\x14J\\xc2\\xa9]|\\xb2K\\xc4\\xd5\\xd8\\xc7\\xc6\\x86\\xdc\\x80\\x85\\x97Y\\x1c\\x86Z\\xb18\\xe4\\xb3p\\x12\\x9aR\\xf7n\\xf7\\xe1^\\xd7\\xd9\\x85bL\\xfdI\\x8dZ\\xf4\\'\\xe9*\\xfd\\x05\\xcee?M\\x12\\x90\\xb7[\\xd7\\xabbC\\xcc\\xa2{\\xbfx\\x13l\\x02XJ\\xa1\\xd2\\xf2Hu?\\xb0\\xe5\\x8f\\xaa\\xa5\\x01\\xfc\\xc0\\x93J@Q#\\xb9%\\xc5\\xf1\\xc2\\x9b_\\x85\\xd1\\x00\\xa2$S\\xe2\\x95\\xe6934O2\\tI\\xf3\\x14a\\xff\\x1c\\xba\\x91\\x80\\xbc\\x84V\\xe1\\r\\x04TM1\\x04\\xc3\\x15\\xe1\\xcc\\x0bD\\x1c\\xa6\\x91\\x8bu\\x08\\x87\\xc9\\x95\\x13y\\x02\\x1a\\xb3\\x17\\xc4\\x9e\\x80\\xf1\\xcd&\\x14\\xab\\xcf\\xf8v\\x15LBg\\x80\\x11\\xa7\\xd3\\x14\\x9a\\xdc\\xbc\\xc8\\x83x\\xea\\x18}\\xe6A\\x99:l\\x85\\xa3\\xc7%\\x9d\\n\\x83\\xc6X\\xef\\x82bUhO\\xbf~\\\\MK/\\x8eSR\\x98+\\x17\\xaa~\\xd8[_(c\\xeb\\x14\\xe0d~l\\xac\\x98iI\\xe7\\xc6\\xa0\\xdeE\\xb44\\xb0!f\\x8a\\x05oom]\\xe3?s\\xd3/b\\x9cGx\\x1c{n\\x1ay\\x1f\\xd3\\x08\\xdaEF\\x1e7\\x1c\\xacnN+\\r\\xa2\\t\\xc5\\x10\\x90N\\n\\xe3\\x17;Y\\xb1\\xbbq\\n\\x0fB\\xdcN\\xae\\x93\\xaa\\xb6\\x10\\xffQ\\x00k]\\x0b6\\xc36\\xb3\\xa38\\xfe\\xf6z\\x9a\\xebQj\\x1b\\x1c\\x07c\\'p!B\\x83\\x84\\x8c1\\x88.\\xe8\\xe7\\xa6\\n)\\x07\\xd6X\\x99y\\xb3\\xb8m\\xac\\x01\\x7fG\\xd7\\x15R\\xea3\\x80\\xf9!\\xec\\x8b\\xb732\\x90h\\xdf\\xf8\\xb0\\xc5\\x0c]\\xb6\\x08\\x08yU\\x0c8\\xceC\\xe8\\xa8C\\xcf\\x1b\\xd0<\\xed\\xdb\\x81\\xe6T\\xef\\xf3\\x17a\\x1a\\xc0#A\\x9b\\xfb\\x8dw\\xd5\\x00\\x14\\x01\\x10\\xb7\\xe9\\xdf~\\x1a\\x05\\xca\\xcd#\\x11\\xad;\\xcb\\xfb\\xe2\\xae\\x16\\x8c}\\xe73\\xd0v\\x12\\xc4>\\xb4\\xf3zd5\\xc0\\xa5\\xdf\\xd5j\\x92!\\xd3\\x94m&ur\\x93\\x94&\\x83o\\xcf\\xe3\\xcc\\xf2\\x13\\x7f\\xd3\\x8b\\xd4\\xfa\\x0b\\xef\"\\xd0\\xe6c\\x91\\xb9\\xbfb\\x17\\n\\x9a\\xc3\\xde\\x9b\\x07yCfyh\\xf5\\x8b\\xd7?%^\\x97\\xffD\\x1b\\xc5x\\xbd\\xb4\\xceF\\xc3YHN\\x19\\x98\\xc9G\\xd2\\x9a}\\x9c\\x03\"D\\xeb/z\\x84S\\x18\\xad\\xeeX\\xb5\\xc9\\x86A\\x8b\\x04\\x9e/\\xaf\\x00ji\\xac\\x98\\xdf\\xb4\\xbf\\xfbt\\xf87\\xf9\\xf1#\\xb6\\xd7\\xf4c\\x9c\\xc0 \\x18\\xfd#\\x87\\x04}\\xb17\\xc7\\xf2\\x83Y\\xca\\x1dF\\xe4I\\x8a ?\\xd8}\\xb0\\xf8r\\xb6R\\xca\\xe3&\\xff\\xe4N\\xb3\\xbaE`\\xc3\\xe8\\xdc\\xb9t\\xe4\\xd2(\\xea\\xb9t\"\\xf1q\\xe4|\\x82\\'\\x90\\xff\\x18\\xde?\\xfa.\\xdd|\\xbfn|\\x84\\xeb\\xeb\\xc8uA\\xcb\\t\\xb9\\xed\\xe0\\xe3\\xea>\\xda\\xda\\xdd}\\xb4\\xd7\\xb5:\\x1b\\x1f\\x94\\xe3\\xae\\xf0B\\x12\\xc1\\x8d\\xf1\\x0e\\x9c\\x92\\xdc\\x16\\xdc\\x84\\x01\\xdb\\xd4\\x1e\\xc5\\xcd\\xfb\\x06\\xca\\t\\x8a\\x91\\x03\\x18\\xb44l\\xc3R\\x01/:\\x9e0s\\xd9\\xdc\\x900\\xc3C\\x88fmvV\\x1f\\x8a\\x8d\\xd2\\x8c6\\xf8G\\xe9D=\\x14\\t\\xfc\\x18\\xda\\xeb(\\xe8\\x078\\x05\\xf0\\xd2\\xe6\\x86\\xe4F\\x1b\\xe2\\xd0\\x18m\\x12J\\xf7U\\x1b\\xa2$\\t\\xa1\\xa9\\x88\\xef\\x84jh\\xdbq<\\xd9\\x10\\x8f\\xe5w\\xe9\\x92\\xdd\\xb8/\\xbe\\x15\\x1b\\xcaAge\\xfeH\\xe9\\x98u`\\xe4n\\xe4#\\xd3\\xd4bsf\\xa0\\x1b5\\xad\\xf8\\xe9\\xfc\\xcc\\x19\\xbd\\xc12\\xe7\\x13\\xfcu\\xeb\\xc3\\x13\\x01.\\t\\x15!H\\xde\\xc0nn\\xfb\\xd0\\x12\\xa2\\xe4\\xa9\\x07\\x0f\\x8c\\xb79r`9*t\\xff\\xe3\\xfef\\xa5\\xc7\\xf4\\xce\\x81-\\xbd\\xcfw\\x0e\\xfa\\xe1`\\xae\\xdd\\xf6Jo#?ZK\\xc0m\\xdc\\xa2O3\\xe92\\x93\\x82g\\xe0_\\xf2\\x0fl\\x93@q\\xb3\\xae \\x19\\xa1ihi\\xc1\\xe6\\x97n\\x14\\x84p7\\xea\\xbe\\x07\\xa1\\x05k\\x17Z9\\xac]EX\\xd4\\x98_\\x98\\xf5\\x0e@\\xf5a0\\xea\\xbd\\t\\xe1\\x14\\xf0\\x1e\\x83T\\xe5w\\xf1\\xcb\\x18\\n\\xae\\xf8\\x014y*=\\xe0~,\\xc8j\\x86!&w\\xa7\\xc0\\xa4\\xe1\\xf1\\xc3c\\xa5\\xd7<\\x10s\\xe8Q\\xf0qa79\\xd23}\\xe5\\'c\\xf6\\n*)\\x0c\\x8f\\xf6d\"\\xfa\\xa4aM\\xc1\\x1d\\x06mx\\x8f=\\x07\\x9aV\\x02\\xb6j\\x0e\\x06\\x8e,\\xbb\\xf7\\xe0\\xe6\\xc6+\\xde5\\xe6\\n\\xdd\\xcd\\xf5\\xda\\xe2\\xc0\\x9ei\\x9f9\\xa6`c\\xd2\\x8a\\xc7\\xf1\\x94\\x94\\xc5\\xac\\rfe#\\xf3O\\x1a=\\xe1d\\xe0\\xc3%\\xe7\\xc0\\xed\\x013l5<\\x19\\xf2J\\xe1\\xae\\x0eq\\xffNH\\xe8G\\xe1\\x15HC\\x00;\\x07\\xde\\xb4\\x07IL\\x8a\\xe7\\x81\\x8d\\xcfz\\xce\\x8b=\\xc2[\\xcd>f\\xda\\x05 f\\xd9\\x07l\\x83\\xd9\\x9c\\xa9\\xb7\\xd5Kg\\xd0\\x87\\x06\\xac\\x80;8\\xe4\\x18\\xc2\\xa3N\\xe2]\\rv`;=\\xfa)\\xc7\\x15Z\\xf5\\xbd\\x04\\xcbAK\\xd4.\\x0cX\\x85D91\\xc2\\xa1qB\\x94\\xbd\\xc5\\x06\\xc6\\xa9\\x1fSw\\xc4\\xda\\xc5+\\xf8\\x86r?\\x7f\\x01\\xc3IH\\xbeby$\\x85\\xcf\\xe4K\\x05\\xfb(\\xd0a\\x11\\x1aP\\xb4nOJ\\x1d\\\\\\xd5\\x97\\xfeHJf\"\\x1d\\x1c\\x17\\x80\\xd4E\\x14\\x92\\xa3(\\xff\\xcd$~\\r\\xfc\"Zi\\xd9\\x15,\\xf1\\x85?\\xb3\\xd8I!\\xdd-\\x168\\x19\\x04\\xac\\xc5\\xb2-\\'*\\xdd\\x17\\xcfI\\xaf\\xca]E\\xc3\\x99\\xc3\\xea\\x14\\x9d\\x11\\xbe\\xf5\\xf3^\\xe9\\x01\\xad\\xc7\"4%z\\xad\\x07\\xdb\\xe1\\xfd\\xeeN\\xe0s\\xb0$\\x7f\\xb0\\x02/\\x81\\xd1s\\x91\\xa1\\xf6<\\x9d\\xca\\xe9h5\\xf2n\\xb9\\xa1\\x13\\xf9\\x8e5\\xf6\\x07\\x03\\x0f^Bb\\xbbu\\xb3\\x8cgN \\x16[k\\xc4\\xb1\\x13\\xc4\\x89@\\xd58\\xbd\\xb9\\x82o\\xf8\\x80^\\xe8\\xdd\\xbb\\xfb\\xe8\\xe1\\xc3\\xad\\'\\xe0\\x1a\\xf4M\\xfd\\x11\\xcf\\x08\\xe6\\x8a\\x99\\x03\\x1d\\x0bO\\xef\\xdc9H\\xb3\\xd3K\\xc8\\x93T\\xafr\\x02\\xebL\\x01\\xcb/Au.rK\\x8b\\xb5\\x7f(\\xfa\\xb4\\x07>\\x82 \\xa7\"\\x86\\xb7\\xdb\\x05[\\xd1\\x0f\\xe1\\xda\\x0b\\xdcq\\xf6\\xd8\\x98{\\xb6\\xaav\\xb6\\x9cd\\x98*\\xdd\\xb9\\xf2\\xf0B\\x8f\\xbe\\xde\\x88\\xb2\\xc7\\x8c\\x14\\x0e\\xe0t\\x95D\\xb10\\xa9x(gT\\x05e\\x8d\\xed2\\x8b\\x87\\x95\\xf0W(\\xb8-\\xd1{w\\xfab\\x058 \\xe5\\xe3\\xe5\\x80P+CM\\xcf\\x90\\xa8\\x10\\xf8\\xdc4\\x9c14\\xbe\\xc7+\\x8c=\\x9b\\xcf\\xfc\\xe5cS+R;\\xf3\\xa9\\xebe\\x83VC\\xc6\\xfeI0\\xf0\\xaei\\xc2\\xf3w\\'+\\x8cJ&F\\xfd\\xa86[ \\xe5\\t\\x92A\\xf34t\"x\\x03{\\xf8\\xbc\\xca\\xe4\\xe21\\x18!\\xd3l\\xd5\\n\\xdb\\x99S\\xc1\\x82\\xd3b\\x00\\xc1\\x841E\\xef\\x99v5T\\xcd\\xe3\\xc0N\\x11\\x13\\xb0\\xb8\\xa7@\\xdc\\xc4:\\xca\\xbc@\\xf1\\xc0E\\xa6\\xc1\\xdczq\\xef/2/\\xde\\x87\\xabs\\x8atf\\xf2\\x89\\xdd\\x05>a\\xec\\xb87\\x92\\xb3-\\xb0\\x07\\x9evQT\\xd8\\xe0\\xff\\xa6\\xc0\\xafP\\x00\\xc4\\xf7\\xcc\\xd6\\x05\\xd8\\x01\\x9f\\x80g\\xbe5\\x9e\\x00)`\\xf8Q\\xa1\\x83\\x8e\\xa2-\\xf9H\\xb3\\x9e\\xbe\\x13\\x90\\xb8)\\xce\\x9f\\xb5\\x07\\xf5N.\\x92*8\\xda\\xc1\\xb8\\x93\\x89\\x1bp%\\xee\\x1b\"\\xa7\\x96\\xf3j\\xf9\\x02\\xf9~\\xe0OG%&7\\tG\\xa1:\\x1d\\xd7~\\x114\\xb2\\xd5\\xda\\xd2\\xaf\\xec\\x10\\x110/\\xf5\\x8a\\xdf\\x83z?\\xf0\\x9e\\xd0Yy\\xa5\\x00\\x1aw\\xaa\\xa06\\xa6\\x17\\xce\\xc8$\\x96\\'\\xa0\\xd9T\\xcb\\xf2[\\x0b.\\xf3o\\xc6U3\\xafB<\\x9c\\xe2X\\x05\\x063\\xedW\\xd7\\x87\\xcb=\\x9a\\x82\\xd4\\x03\\x98Zp=z6@\\rb(\\x8b\\xdfE\\x1e\\x1d\\xe0w\\xee\\x81p\\xe1gVx\\x1e\\x84\\xe4\\xf4\\xb0\\xa4\\x93\\xb2\\x05.B_+g\\xc5\\x0b[=\\x85\\x1a\\x89Go,\\x90\\x9b\\x9e\\x8c\\xdaA\\xe4\\x8f\\xb3\\xa6\\x8e\\x96\\xb1\\xe6\\x06Jp\\xdc\\xc3\\xd2J\\xaalwuSE\\xf1\\x19u\\xa1\\x8d<~\\xe8\\xdd\\xe3(\\x04-+\\xc5k\\xfcBS9\\xa0\\xd3\\xdb\\x8c`\\xd82\\xb5\\xa01[\\xec)\\x14R\\x8fF\\xd8\\x81\\xb2Y\\xe9\\xe4\\x0c~#\\xecn2q\\xabwh6\\x89\\xa1\\x8fcd\\xa0U\\x9f\\xb0I\\x8b\\xd9\\xf0\\xdd\\xa2\\x83Z\\x14d\\xbd\\xac\\xb2\\xdf%t\\x1c\\x9dA\\x8a\\xc0\\n\\xbdN\\x9c\\xbe\\x97\\xc9\\xfd\\ne\\x8c\\xd4\\xff\\xc3\\x96?\\xb0d\\xd7\\x16\\xcf\\xa5\\xd5SS8#\\xb3\\x83\\x94P\\xc8S\\xea\\xa8\\x19\\x11L\\x1cl\\xc33_,w\\xaab\\x01>i\\xe7\\x9a\\x9a\\x8c\\xd26I5\\xec\\x87\\x10\\'Z\\x85\\x94K$\\xe1\\x11\\x88Tq\\xbd1\\x0c\\n\\x0f\\xd0J\\xe0Z\\xe2\\xd2\\x81\\xff\\xfd\\xb0\\x85\\xfe\\x9c>\\x82z\\xbck\\x9c\\x15\\xad\\x84jI\\xe8\\xea\\xb04N\\xfb\\xb0\\x91Z\\n:\\xfd\\x8d&\\xa0?\\x17!R\\xbb$[l~]\\x1ah\\x1a\\xb0\\x1c\\x9e\\xee\\x12\\xda\\xd1\\xab\\xff\\xf2\\xedr\\x02\\xb1\\xe5\\xc8+\\xac\\xfa\\xf2\\xbe\\x94\\xf5vr\\x8c8/\\xb9b\\xf9\\xc91\\xd8 \\x1d7\\xe3\\xa4\\xd8\\x8f\\x81\\xf7\\xf9c\\xd8\\xa3\\x01\\xf8\\x1c,\\xa1\\x98\\xa2=\\x80\\x19\\xfdI\\x9e\\xd1\\x11\\xda\\x8d5\\xd8\\xa1C\\x92*\\xcbFO\\xd6\\xfc{`\\xeb\\xddSO[h\\x83\\xbd+UaM\\x1e}X\\x14\\x17$<\\xb4Nl0%gp\\x9e\\xc6\\x895\\x04\\xfb\\xc3\\xf6\\xfe\\x8d\\xb6\\xf7\\x8a\\xeay\\xb6\\x19s]\\xd9\\xb0\\x90$#\\xe2\\xbex7\\x1c\\xb6\\x8ex$q\\x06\\xda\\xc56\\xf9\\r\\xc7\\x1c\\x81 \\x7f\\xcf\\n\\xabn\\xe8\\xd9p\\xd4FV\\x07qu1\\xc8P\\x82\\xea\\xc4\\xb3p\\x96\\xce\\x1am\\x892:s\\x0b*\\xdbD\\x92\\xadY\\x90\\x02#\\x04\\xcd\\x11\\xcf\\x94^\\x87\\x83x\\x8a\\x90\\x80\\xde\\x11\\x90\\xc7\\x1f\\x04}R?U\\t\\xb3\\xf2P\\xbc\\xd3s\\x1ca\\xa3\\x90a\\xc9\\xf8\\xa9_\\xc6r\\'e\\x0clk=\\xc2\\x029I\\x13\\x94\\x8c\\x13\\xb28\\x009L\\x10e\\xe7\\x02\\xd9V<\\x86\\x9b\\x05\\x06\\x9a\\x8aix\\rZP\\xab@\\xf3!\\x1bV\\xca\\x8b\\xdc\\xd7\\xf7\\x18\\x82\\xfaT\\xfe\\xc8\\xe2 3\\x10\\xca`U}\\xaf\\x07\\x15Bt\\t\\xa8#\\x18s\\x15\\x80\\xbe\"\\xefi\\r\\x9c\\xf2\\xb7\\xdb\\x04\\xb3\\xbb\\x14LV\\x0c28\\x7f\\xa2o\\x882\\x9cC>\\xc0\\xf3A\\xbb\\x88\\xa2\\xff\\x82\\x91\\x17\\x8b\\x131v.=1\\x85\\xf2S\\x8df~y=\\xe8\\xa5\\x8a]\\x85z\\xf3\\xd9\\xf2Ek\\xeeG:\\xb1L\\xfd\\x05\\xc1\\xa0\\x17\\xf4\\x9f\\x15\\xa4\\x88K\\xe4\\x7f\\x96P\\xb0A\\xf6\\x8d\\xac\\xe14\\xe4\\x90\\xbd\\xd7\\x14\\x80#\\xdedn\\x96%\\xbd\\xf3\\xc6\\xca-\\xf0/\\xc7\\x19$\\xb8X\\xe6Z\\xb5\\xaf\\xbc8_|\\xff/\\x9e_\\x91\\x87\\t\\xf8\\r\\xd8m\\x87\\xff\\xa0\\x13\\xcd\\xb5\\xca\\xae\\x0f\\x99!\\x06\\xf4\\xe1\\x13k\\xfe\\x15\\xb2@s\\x96\\xa1#\\x86`\\xed\\xaaS+\\xfe\\x94\\xc2\\x03M\\x12\\xc6\\xef\\x91\\x0f\\xce\\x1b\\x9c\\x04\\xebQu\\xd5j\\xe6\\\\\\xae\\x9au\\x14g9D\\xa4T\\x12B?g\\xc5\\xfe/\\xb0\\xe4\\xe0]\\xd0\\xba\\xef\\xa2T\\xd33a7\\xd2\\x14\\xf2\\x84^\\xcdd\\xe4k\\xf5\\xe06\\'Q\\xcdX\\xd4akfk\\xdb~\\xe4\\x12\\xf6W\\xd1q)\\\\ \\x80\\xd3?\\x03\\xfb\\xd9\\xd8ADA N~zv\\x9b\\x90#\\xb4\\xa7\\x82s\\x17\\xd1\\x9f\\xc0\\xb1\\x0e?,\\xd3\\xd7Z\\xb8W/fs8\\x93\\x1d\\xad\\x07\\x7f33\\xd3\\xfb\\xf1v\\x98b\\xad\\xca(\\xd7\\x8c\\xe3\\xc9)\\xbd\\x00gt\\xee$\\x1d@;\\xb4\\xe9d\\x9d\\x8e(pl\\x84h\\xad\\xcc&)\\xf3\\t\\xde\\x04\\xec<`\\xcf6bm\\x11\\x0c\\x92\\x19\\xbe\\x05\\x97A>\\xa5\\xe2aC\\xf6\\x9c\\xb4\\x0c\\xd2\\xcc\\xc9\\x99\\x80\\xcf\\x99\\x9e\\xa3]0\\xb97\\x9b\\xdd\\r\\x06\\x83.x\\xc5\\xab\\x1c\\xdcU`\\xd7\"\\xc5t\\xa6.H\\x01IU\\xa4\\x0cq\\xe0\\xae\\xa9/\\xbe\\x06Tea\\xc0\\x83\\xe4\\xff\\x10\\xf7\\xa7):\\xfd\\x10g\\xa1\\x99\\xd2#UD\\xe5h\\x81\\xb2(\\x96i\\x8a\\xb9\\xe7\\x95{\\xca=kY\\x9f\\xad\\xde\\x11\\xfdR`\\xf8\\x85\\x19\\x17|\\xc6\\xa6\\x8e\\xa7\\xf0g\\xe8\\xc3\\x15\\xae\\xef\\xac\\xab\\xb2<[\\xa6\\xe7)\\xe6!\\xc1\\xc6\\xa9\\x8c\\xe1\\x15\\x04\\xc8y\\x9c=;\\x03K\\x8e^&\\xb6\\x92\\xfc\\\\\\x8d\\xe3\\xdar\\xbcO)N\\xc5\\x0b#\\xfe\\xc8O\\xd6\\x1e\\xab\\x911\\xca\\xb1\\xe0ZH\\xe0\\x80D<c\\x84\\x1dd\\xacP\\xef\\xa5\\xfcE\\x9c\\xca\\x9f\\xd6\\x1e\\xbc\\x89\\xb7\\xa9\\x89\"\\xf4}f\\x0e\\xf9=\\xbe\\xaf=\\xce\\xee\\x12\\x1e*O\\xd7\\xdc1\\xa2\\x84\\xda\\x98\\xad\\xdc\\xa68\\xcd\\x1d\\x86\\xe6\\xd0\\xca\\xad\\xfc4\\n\\xb9e\\t\\n\\xe5}\\xd5\\xfb\\x93\\xc9\\xaa\\xb4\\xea\\x8b\\xbbG\\xc7\\x90\\xe5\\xc7\\xb3J\\x95\\xd2;h{\\x9d\\x1d\\x94\\xf5V\\xb9\\x8b\\x9e\\xabx\\xb5\\xdc9\\x9d\\xed\\xe8\\x0ch\\x93a|\\xf1\\x9dT\\x05~\\xef\\x08\\xa7\\xbd\\xc8\\xbc\\xa1S\\xe1\\xf5\\x89\\xbbIu\\xb1\\xf3\\xe1d\\xbc\\x9f\\xb9\\xd4\\xa72\\x02\\xd0\\x85|_\\x9b\\xd8\\x1awT>\\xa8\\xcc\\xef*l\\xe1_8\\xe5k\\xfdi6n\\xa3|\\xc4\\xa9\\xe3\\x86\\x85\\xf1\\xf0\\xe0\\xed\\xe9\\xda\\xf3k\\xdaL\\x19Rm\\x04i{\\x91\\x89\\xd2\\xb7\\xf4\\x80\\xb2\\xc3\\x12\\xf2\\x92\\xac?\\xc9\\x87K\\xf60\\xa5\\xe0\\x95\\x8e\\xa1\\xec.\\xacg\\x0e\\xddl\\x93N\\x90Y\\x8d-\\xe8\\xc9\\xfcx\\xed\\xb9\\xef5\\x00\\x91\\xcf]\\xc7v\\xf9\\x97\\x88l\\xd3\\xb6?d\\x82\\n\\xf9\\xc2cq2E\\x9a\\x12\\x1dF\\xf0\\xa1v\\x19\\x1b\\x9f\\xc9K\\x8c\\xe8\\xd4:\\x89\\xdc]\\x8f\\x9f@\\x1b\\xce\\xe0\\xd72\\x9e\\x1c\\xef\\xc6H\\x84\\xc3L\\x86\\xfe\\x8e\\xe42h\\xc1$?}\\xe4x{\\x82\\x98\\x06 \\xddN\\xf9v\\xb0\\xbe\\xe9\\x00\\xf9J?\\xfbq\\n\\x83\\xfa\\xcc\\x99\\\\\\x94\\x97U\\xb3\\xd9z\\xc9\\xdf\\xc4;\\xb2C_\\xff\\xc27C\"\\xa7\\xa1\\x1f\\xd8O=$\\xfe\\xe0\\x94*~\\x99\"D\\xd0\\x00J\\xffp\\xefn\\xf7\\xd1\\x93X\\xf0\\xcfk\\x93}\\x13\\x83\\xd1`!\\xb3mD\\x9d\\x9b\\xa0\\x19p<\\xf7.\\xbd\\t\\xc5B\\xdf\\x08\\x90&\\xde\\x93\\x01R<\\x8b\\xb6\\x87\\xce\\'\\x93\\x10^\\x1c\\xfd\\xb8\\xf6\\xfc\\x97\\xf1\\x1e\\n5\\xabZ\\x15\\x9d\\xe9hr\\x8170y\\x8f\\x83\\xd1\\xc4\\x8f\\xc7\\xe2\\xb3\\x88\\xb2\\x89\\x07\\xd5\\x84\\xef\\x1a\\xeb\\xf0\\xee\\xf8\\x9d<\\x10_\\x1b\\t\\xfb\\r\\xbc\\xaf\\x916\\xa5\\xde\\xf44\\x0c/L<hm\\x8a\\x1e\\xaf\\r\\xcb\\xa3\\x06XH\\n\\xd8\\x08Ks\\xe6\\x05a\\xa7\\xc6;\\xe6\\x1fJ\\x03~\\x16\\xbf\\xcd\\xbc\\x06u\\xbcvg\\x1d^\\x9b\\xfb \\xaa8\\xee\\xb3\\x85s\\xff\\xdf\\x99\\xee\\x96\\x83\\x0f\\x93\\x18l\\x08\\xd9\\x10\\x05\\xee\\xab\\x1f\\xae\\xbd\\xd2\\x8d*\\\\>*\\xb6\\x13\\xf2\\x0f\\r:\\x87\\t\\x0b\\x0f\\x19\\x92\\x8d\\xe9\\x87\\xb5Gm\\xe2\\xc3yh\\x86t\\x17\\xe5\\x02`\\xc1\\xf3\\xb3\\x82m\\xd9\\xc4Z\\x8d\\x91\\xa03\\xa5\\xd3\\xc2\\x04_\\xf0\\x93\\xb5g\\xd6\\xc4Am\\n B\\xb0\\x03\\xe4\\x17\"\\xe1(<\\xdf\\xde\\xde\\xda\\xee\\x98h\\x85[O\\x1cq\\x0bRapn#~\\xe2\\x86k\\xc3\\xd1\\xc4R\\x8dyS|\\x1bE\\xcaTm\\xe5g(M@\\x11\\x8f\\xeegX\\x06ML\\xd4\\x18>\\xf6G\\x85\\x91Og\\x1e\\xbb\\xcbO(\\xa8\\xd5\\xc3\\x91\\xda\\xcb(Lg\\xeb\\xafB\\x13/5\\x86\\xa7x\\x8e\\xaa\\x99\\xbf\\xc2\\xf3\\xb51\\xde\\xc43\\x1b\\xf9\\xb7)=\\xb8F\\x80\\xf8\\x05\\xc2n\\xed\\xf1;[ML\\x9bH\\x0f\\xde\\xe0A\\xea\\x9a> \\x04<!\\xbe\\x15\\xa5\\x04\\xb0\\xd6\\xf4\\xd3\\xfa\\x83V\\x9f\\xd1-8~\\x1d\\x84\\xffR\\xf6X\\xa6\\xcce\\x1cW\\x1c\\xf1O\\xeb\\x8f\\xdc\\xc8\\xb9h\\xba\\xf04\\xc0My\\x19N.\\x17\\xbc* 0\\xf9|\\xfda\\x1bY\\x97\\xc4\\xb2JWC9\\x03J\\x80+\\x128Jg \\x9f\\xe1T\\xfeR\\x1a\\xfd\\xb3\\xc4d\\x9c\\xba\\xd8\\xa0\\xb1\\x1e\\xacNX\\xee\\xae#,K}\\xe6\\x0c\\xaan0\\x9c\\xa9J0\\xcc\\x99\\xfd\\x1e\\xad\\x96\\xf2\\xcc\\xc8i=\\nQA\\x04\\xbe\\xb7\\xc2B\\x1d\\xe1\\xfb\\xda\\xc4\\xd1H\\x92\\xb5C\\xf7Q\\xcf\\x85\\x13\\xaeM\\xb3B=[\\x1b\\x84F\\xf2\\xac\\x05\\xc1\\xc3\\xe6gK\\xd9\\x84\\xe1X?\\\\\\x1b\\x88F\\xa1[\\x0fD\\x00\\x1b\\xcbC\\xde\\x01\\x07cf\\x9c\\x02\\xca\\xbc~\\xbc6 \\x8d\\xd2\\xb8\\x16\\x90Q\\x08\\x15+ \\xef\\x81\\t\\xc7\\xcb\\xec\\xe9\\xda`4\\n\\xe3Z0bNb\\xf0Q\\xf4\\xc5\\x04\\xe34{\\xba6\\x18\\x8dB\\xb9\\x1e\\x0c\\x95\\xbe\\x87\\x82\\'lb\\x96\\xf1\\x92E?+\\x13\\x94~\\xbf\\r\\xc6\\x86\\x92I\\x10\\x18:\\xda\\xa3x\\xf0\\xf1p\\x1dn\\xd6\\x87\\x9876\\x17\\xe5\\x0b\"\\x199\\x9c\\xe2H\\x86\\xce\\x84\\xcd2:P\\x87\\x10\\xf6\\x96{b\\xa8-\\xcd\\xe5\\xf7\\xc8\\xcaJ\\xd3R\\xf6\\x97\\xcaC\\x14O1i\\xf1.\\x84r\\xdeB`6k\\x15z2\\xb7\\xe7\\xa2!qG\\xcb\\x84\\x92\\\\\\xd0\\xd7r*U\\x03V\\xc4\\xc53\\x10\\xb29\\xe0\\x82\\xb2\\x9b\\x7f_\\x9b\\x9c\\x9bX\\x1d)\\\\\\xf0\\x1a\\xcc\\xe6|\\xec\\xdff\\\\!\\xd1Q&\\xf6h\\xdeB\\xe3\\x13\\x9erH\\xd6\\x86\\xa1\\x89\\xd3e0@\\xef\\xaa\\x83`\\x0e\\xc5K\\xc3\\xc0\\x9f\\xdf\\x9f~\\xde:5q:\\r\\x08\"\\xdd\\xb3\\xc3\\x97b@?\\xff\\xa2\"U[\\xbd|\\x87\\xc0\\xa7\\x0c\\xd5P\\xe93\\xb7\\xb1\\xa9\\xc1B\\x10 ^\\xb7\\xad\\xf7\\xd6\\xd9\\xd6\\xb2+\\x835\\xe6\\xdb\\xf6\\x98G\\xf9\\xbdn\\\\\\x05\\xb8<\\x05\\xb3\\x16\\xa6\\xa1\\xb7k>\\x89\\xdb\\xdb\\xb0\\xc5\\xa1S\\xa4\\xccY\\x88KK\\x0b\\'\\x80\\xef)\\x91\\x8e\\xed.\\xf1\\x99 4mL\\xbbr\\xf63\\x84\\xa4\\x98BN;\\x93x\\x1d\\xc5\\x11\\x82\\xb4\\xe1\\xe0\\xb8\\xd5\\xcdY\\x82\\xc3@E\\x19\\x96\\x05||6<\\xcb\\xf6(W9\\xac\\xf2sJt\\xc8\\xd5x\\x86Rf\\xc8\\xa2\\x8f\\xee\\x9er\\xc41\\x9d\\x1c\\x7ft\\x82\\x8f\\xfc\\xa3\\xa15\\xc9_\\x11\\xba\\'\\x17\\xf1&{\\x17\\xc2\\x0fy\\xb4\\x9c\\xfb\\xa2=\\xec\\xe6\\xdf\\x85\\x87\\x07\\xa5\\x94\\x91\\xcc-o\\xc4\\xe6\\xca\\x0c\\x10$*\\x92S\\x1d\\x19:\\x9cH\\xca9\\xa82(\\x04>\\x80V1V\\x83\\x15\\x81\\xca0\\x91\\x82\\xab.\\xcb:%?\\x19\\xcc?$\\x0e\\xc8\\x8d\\x96\\xf1\\x9c\\xe1\\xc4\\xbb\\xb6\\xe2\\t\\\\\\xe9p|\\\\\\x89\\xecS9d\\xdc\\x08lC}D$\\xb6!\\xda\\xd4\\xc3i\\xa9\\x0cw\\xa0\\xd8\\x0c\\xf3qE@\\x1f\\x8e!\\xaa\\xa3`\\xf3 V\\x15\\x81\\x8eT\\xeb\\xe9\\x0c\\xab\\xc7\\xd1\\xe6t\\xd6/\\x87B\\xa85\\xc5\\xdb\\xf0\\xb0\\xa8\\x19\\xa3\\xf22\\x0f[w\\x17\\xe7\\xa6\\x0cnn\\x8a\\x08\\xab{\\xa3\\xe4\\xc9\\xc7\\x85\\x85\\xc9\\x16\\x82\\xe3\\xaf\\x94f\\x85\\xa2O1\\x87*\\xbf\\xe2IJ\\xd7\\x0b\\x05\\x0c\\xe3\\x14\\xed\\x94\\xba\\xd3I\\x06Uk_`\\xb1Y\\xf7\\x0b1\\xb5\\x15\\xd4c\\x86\\r\\xf2Z\\xd4\\x85\\r/\\xcc\\xa2\\x1e\\xad\\x06}\\xf1\\xaa\\x02g\\x1c?\\x86\\x8aC\\xbd\\x03\\xfa\\\\\\x8c\\x1d\\'\\xef&m\\x9a\\xde]\\x9d\\x88\\xd8},^\\xf8}\\xa4\\xbd\\xb8\\xae\\x8f4F2\\xde\\x05\\xd8 \\x92N\\x11\\xf1\\xc7\\xa9\\x16\\x7f\\xba\\xd3\\xeb\\xf5\\x04j\\xa7\\x89\\xa1\\xdf\\xdf\\x0c\\xee?\\x96\\x0fh\\xeaHG\\xef#\\xb9}\\xeb\\x81\\xe8\\xe4\\x0fQq\\x08i\\xdd\\x8e\\xb87I\\x9e\\x88\\xc0hMop\\x8e\\xf8&\\xde\\xc3\\x86>\\xdc\\x10\\x1b\\xf7\\xf3\\xf7\\x8c\\x0e\\xfb\\x0f\\x84\\xf3m?\\xffI\\xbe\\xa5\\xda\\x12\\x14\\x9d\\xad\\xad-|\\x95\\x11ZjU\\x11\\xd0C5\\x14z[\\xa2\\x83\\xffm\\x8b\\xae\\xd8\\x15\\xfb\\xa2\\xd3\\x15\\xdb\\x1d\\xd1\\xdd\\x11\\xbb\\xf8\\xf6H\\xa0X\\x92\\xd8\\xeevEwoO<\\xecl\\x89G\\xfb{Yj\\xa9D\\x97\\xcd\\xa8\\x93)_\\x95\\xeb_\\x81\\xf2\\x19\\xea\\xf4 )\\xab\\xf7B\\xd5K\\x8d\\xc5so\\x08\\x0bn\\x80\\\\\\xfc\\x0e\\x10\\x88,x\\xcaDs\\x91\\xc3O\\x9e\\'\\x84q\\xe3\\xa8\\x98\\n\\x84R1\\x9f\\xac\\x88%\\x12N\\x80e\\x14p\\x84\\x8fY\\xd7I\\x88\\x91\\xcb-UY\\x04w\\xe3 \\x1f\\xb1\\xc7TO\\x04\\xe6;\\xf8\\x9c\\x0e\\'\\x03\\xe7\\xc8J\\xb1>\\x10\\xaan\\x91\\xf9\\x88\\x9a\\x92\\x10\\xc2\\xb3\\xbe\\x8f\\x84(z[\\xd5nE\\x9e<\\x14f\\xa4\\xbcgIb\\x15G\\xdeIJ\\xce\\x1bg\"\\xf3\\xaa\\xc2\\xc9\\x10\\xa0\\xf0\\xf9\\xf7]\\r\\xb0\\x95\\x01\\xdc\\xea\\xbd\\xa6ir\\x9cO\\xc5|\\x90\\xbc\\xafft/\\xe8\\xc7\\xb3\\']\\xc9\\xa6Q&\\xa0\\x1a\\xe5\\xd51~_x\\x87\\x90\\xc7\\x9fj2\\x814\\x10\\xf7\\x17\\xcb\\xe3ucs\\x0c\\xa3\\xd4\\x87\\xd0>\\x14\\xbfn<E=\\x88\\xc0\\xa1*\\x19\\x14\\xaf\\xe5\\xd1\\x87W\\xfe\\xd4\\xdb\\xf8 \\xa9y\\x12\\xa6\\x83\\x8fys\\xfe\\xd4N\\xa9\\xcc\\x02*b\\x90,\\xe0\\'\\x84$\\xd9H\\xbd&7\\x80\\xf1r\\x1d\\xf1\\x03\\x80\\xa37\\xf8\\x1f\\x03\\xf0\\xee\\xdd\\xabc\\x06\\xe0\\xe4\\xf5\\xf1\\xc6\\x87l;\\x97\\xf6\\x8d\\xc1\\x13x\\x9eD,\\xa4\\x04#\\x8ao\\x8a2\\x0bH\\xc3\\xd7k[`\\x08D7\\x9bY\\x9bM\\t\\xee\\xfdZ\\xb86\\xc1$4r\\xee?\\x10\\x9b\\x9d\\x0cC\\xf4m[\\xa3\\xe9\\xbe\\x06\\xf3\\x00\\xb4F\\xdc\\xeb&\\xdb\\x11j\\xfc\\x8c\\xcd]\\x94!v\\xc4\\x19\\xea\\x86@A\\xd6\\x1b\\x92Oq\\xc4\\xe6E\\x80\\x18&\\xd4^\\xc6\\x86\\x88p\\x8aG\\x98\\xe78\\x13\\xae\\xf5L\\x85\\xbdP\\xa9\\x99\\nv!\\x0fH\\xd7\\x9f%B\\xe0nITq*U\\x0c\\x84!RW\\xedT\\xfc\\x84\\xe3\\xaa\\x04x\\xc4\\xbe\\x92\\xc3\\xb8\\x10>\\xa8I\\xc1\\xa9Z\\\\\\xfe\\x91\\x82H\\x06\\x8cjlh\\x7f\\x96\"\\x86\\x85j\\x86Q1\\x0b9|?\\xf5\\xa9\\xbe6\\xe8@\\xf3\\x94U\\xf7(\\x18l\\x14\\x92g\\x1bd*7)o\\xf1\\xc2\\xbe\\xe4\\'\\x7f\\xc8\\xadx\\xeaS\\x98\\x0b\\x85\\x96&c$*\\xfan\\x81(;\\xc2\\x16\\xdbur\\xa1\\xbd[h\\xbb-\\xfe\\xfcg\\xd1\\xadi\\xbc_\\xecv\\x0f\\xfd\"\\xce\\xa5 o\\x8c}\\xc3\\x12\\xc8w\\x91&v\\xe9\\x13w@x\\x19\\x95\\x1b\\x01Q\\t\\xb0J\\x07\\xbe!\\xc5,*\\x05\\xd6n\\xfba\\xe1\\xff\\xb4D\\x92\\x1c\\xa3\\x83\\xb1\\x1b\\x07\\xc7\\x08\\xe0\\x1bz\\xe8%C\\xdd\\xa2\\xb0\\xc3\\x81\\x15X\\x15G\\x1e\\xd1\\xd1\\x15x\\xa3\\x8c<\\xca\\xb7\\x18\\xf4v\\x97(\\x9b\\xf8%o\\xa2X.\\x1e\\x93\\xb9\\xdc,\\x10\\xf4$\\x9b\\xae\\xf160\\x08\\xcc\\xa1\\x08z\\xe2\\\\SU\\x13de9\\xfehL\\xb1]t\\\\\\xf2\\x98\\x99\\x12\\x85{\\x90\\xf8C\\xd1\\x13\\xe6\\x0f\\xdf*>\\xf1@}\\xb7J\\xdf\\xff\\xac\\xbe\\xf30\\xf2\\x15[?\\xa2\\x83@\\xda\\xf9T\\xcd\\x84j:<\\x11\\xb2\\xee\\xce\\x18I<\\xba\\xff\\xcd\\xfb\\xba\\xb5\\xda\\xc2\\xb0\\x9a\\x06\\xcc\\xa8\\xd9\\x88\\x84\\xa86\\xb6\\xa5r:,\\x86\\x8ce\\xf2sqo\\x92\\xd3{\\xa4\\xabo8\\xb1\\xe5X\\xa8S\\xccXC\\xe96S\\x94*\\xdc\\xa1\\x0c\\xf38\\xe7\\t\\x95[\\xb8M\\x95W~\\x7f\\xe2\\x14\\xa7\\xcb\\x02\\xa4:\\xa3\\x84\\x06\\x87\\xd5\\x8e\\xc2\\x1e\\x83\\xb4A\\x167\\x0bQH\\x83\\x9d\\x07\\xe2\\xe1\\x03\\xd4\\xe2\\x97{\\x00Z\\x1214\\xfc\\xa6\\xf4LZ\\x00\\xf9\\x02a@\\xbd\\nU\\xb3\\xddnK-S\\xb7\\xd7o\\xfeY5\\x92Mt\\xaf\\xa4\\x8bn\\x90f\\xa6\\x9b\\xf9\\xf1c\\x08L\\xf5\\xadN\\x96\\x95^\\x10\\xa8\\xec|\\x8b\\xdb\\x8a\\xa2S\\x89\\xd2_@\\xc7\\x12\\xa8\\xf4s/B6N\\xf8d \\x8e\\x99L\\xf3\\xdd\\xa5\\xa4\\r\\t0\\x92?\\x9eH9J\\x8c\\x8c&\\xc4\\xe1\\x13\\xe3\\x81\\xa5\\x87-\\xa9\\n\\x14\\xb0\\x84*\\x896*C\\xec\\\\\\x88{\\xd3\\x81\\x13\\x8f\\x9f\\xa8\\xfd\\xe1\\x0fK{\\x08\\xc8.=a\\x15\\x7fqg!\\xd3~\\x94=\\xd6\\x9d\\xf2f\\x8fU\\xf9v\\xd2\\x92H\\xde\"I\\x04\\x02\\xe8\\x01ITT\\x15Ce\\xfdU\\x85\\x9b\\x9a]\\xa6\\x80\\xaa-R\\x984\\x15\\x0e\\xff#\\t7%\\xd2\\xa4\\xfd\"6\\x19a\\xef\\x03$2\\r<p\\x1fC\\xcd\\x94Z`\\x0b\\xf1\\xea\\x93\\xf0\\x818\\xd9\\x98*&\\xfaM\\xab\\x8eT\\x17\\x9bV\\xcb\\x07C\\x96\\x9dP\\x16;\\xd82\\xd8\\xf1\\x88\\x0f\\x84\\x8a\\xbb\\x14\\xe5\\xca\\xb0\\r9qzs\\xe3\\x17\\xa2)\\xb0j\\xae\\xcaE\\x05\\xeb\\xbe\\xfb\\xcf\\x80L\\xbaJ1\\xb7\\xd8\\xf8Ow$\\rWLr\\xb8\\xf1\\xbd\\xff@\\xfc\\x8d\\xfa\\xfcG\\xbb\\xb6Kj#\\xbb\\x00\\xcfcD)\\xa2\\x04\\x087Q\\x1c\\x7fL}\\x17\\xdb\\xc2\\x99\\xce\\x9e\\x88c\\x94\\x94#s\\xf8\\x15\\xb2\\xf2a\\x12k\\xf5\\x91v\\xa3,\\x176\\xc8\\x8c8b_`G\\x94;Z\\xdch\\x82\\x84\\xc7\\x8c\\xfa\\x84i\\xad\\xf6-\\xce\\xdb\\xe6\\x02\\xf5\\x1a\\xdc\\x8b\\xc9\\\\J\\xc1\\xbe\\x0e\\xb8\\x84\\xa1\\xadtp\\xaa\\x9b\\x9f\\xc9D\\x12a\\xa4A\\xeaj\\xb1\\x10\\x90`\\x8aH\\x1b\\x10\\x08eg\\x18\\xa9\\xca~\\xb0\\xeaVj\\xf5~\\x19\\xc3\\x03\\xcekG\\x85\\xdep\\xfa\\xc8\\xfeF\\xa5\\x85\\xe2\\xa9\\x84T\\xd9i\\x82\\xce\\x02\\xa9\\x9a\\xdf\\r\\xc5K1\\xb5K\\x17W[4\\xe8\\x96U\\xb12sYM\\xb1Z\\xf2J\\xc1\\xf4V\\x08\\x07\\x9dr\\xf1\\xdc\\xcc\\xde\\xd6\\x1a\\xbeT\\xdeqB\\xc3\\x84,X-P\\x0bS\\xd4\\xf8\\xca\\x99\\xf7rA\\xe8b\\x00\\xb2\\x92\\xe29\\n\\x97Ma\\xa1\\x93\\xf9\\xeb\\xa1r\\x1a;\\x94&s^\\x0f\\xe5\\xa3\\xa0b`\\xf4{V\\x94\\x95C\\x8a{L[\\x82\\xecfm\\rg\\xf8\\xa8FP)\\xab\\x0cg<\\xcaSV\\xacC\\xc3\\x95\\x00\\xbd\\xc8\\xaceC\\xde\\x0b\\xf2\\xb9\\xd1\\x1b\\xec>U\\x90\\xa9\\xefF\\xd1?\\xd3\\xf9\\xc1\\xaeJN\\xe1\\xc2\\x81\\r\\xbd\\x87\\xbf\\x93t\\x1a,8\\'W\\xafa\\x83\\n\\xba\\\\\\x16U\\xfb\\xe4(kM\\x01\\x81\\x0c/\\x95I\\x86\\x87e\\x1f\\xa5\\x06k\\x81b\\xe8\\x87\\x1aw\\xed\\x8am\\x17\\xdf6\\xa7C\\xc9\\xec5\\xfe`\\xb3\\x19\\x97\\x15\\xa0\\xdb8\\x10\\x8b#(\\x1eG%9\\xa9G\\x15NS=\\xa3\\x83\\xf1\\xb6\\xc6\\x86|]]S\\xb2Z\\xf2\\xa81T\\x96\\x91\\x88d\\xaa<\\x91j\\xbc-=Q\\xb4\\xeb\\xc9\\xc0\\x05\\xado\\x80Rq\\x98I\\xac\\xc3\\xdc\\x18P\\xae\\xc0u\\xf2\"\\x7f\\xb0t\\xe1=\\xe2Pk\\\\0\\x92l@e6\\x19\\x0e\\xeb\\xd6\\xd0\\x8bsV<\\x93#\\x95\\x13\\xf1\\xcaY_=N\\xf2\\xca\\xf9M\\x16X.U\\x9eBh\\xb9Q\\x90\\xb1@\\x985l\\x82\\xda\\xd4\\xae\\x8a\\xce_\\xf9g/\\x89\\x1e\\'[\\x0f\\x9d/\\x051\\xb2\\x8d\\x9b\\xb12\\xd6\\xa4\\xaa\\x83\\x93\\xc4gd\\xa2\\xe8g\\xc2\\xc5\\x1c\\xa4\\xd9\\x84\\n\\x99>\\xcan\\xc0\\xec%\\xbdW\\xf7\\xca_\\xd0Jpp,L\\xaco\\xb8\\xe2\"z}\\x05v\\x14\\'\\x8f\\r\\x9f^\\x9e\\xb1\\xa3\\x12\\x9ft\\xaex\\xb7\\xb3\\xbd\\x0b\\x06\\xa4Xd\\x97n\\xfd\\x81\\x95L\\xc9\\x85\\xb7\\x8bp#\\xbb\\xe3\\x9f\\x8fu3iE\\'\\xe7\\xca\\xb8x\\xbd\\x07\\xf0\\xcd(\\xbbN\\x88\\x94\\x18\\x00i\\xb3\\xe3\\x06\\xf6&,\\x14\\x14\\xf7\\x8bH6OP\\xbeTR\\xa96\\xe4\\xb0.X&NN\\x80\\x16K\\xa6m\\xbeFa@\\xb5\\xb8XJ\\xb2\\xe77\\xdb\\x055\\xd9\\x04\\xad^\\xc9`\\xbc}\\xfcs\\xfd9\\xc5\\x92\\xb8\\xd6J\\xf5!\\ro\\x9a\\x1b1!\\x1a(\\xa3vY\\xb5N\\xa3\\xfc\\x15\\xa2\\xf2\\xd9\\xb3\\rd\\xb3\\x88\\xc5_\\xae\\xa6\\xe1h\\x8d\\x08\\xa4\\xc9^0\\x14\\x12\\x87_\\x01\\xa2\\x81M\\x16\\xc5\\xa6\\x92hNo\\x83S\\x8dQ\\x1e\\x99z\\xf9N\\xbc\\x85\\x8e\\xa2\\xeb\\xba\\xd0\\xcbt\\x98\\x83\\xf7I\\x99\\xe5\\xe2\\xf9V\\x94\\x06\\x02 \\x89>\\xd5\\xd1\\x83\\x86\\xa8\\n\\xcfB\\x13 {\\x89++Q\\x8f\\xa8p\\xb6\\xb8Z6\\x97\\xe53+\\x10\\xf6J\\x0f>k\\x9d\\xb4<7\\x99X\\x99Y\\x91m\\xac\\x96+\\x86$\\\\I\\xec\\xd0u7\\xe9T/2\\x05\\x7f,\\xdfg\\x95b\\xb1\\x0c\\x0c\\xea\\xcd\\xa4}X\\xe6t\\x15A\\x19h\\xfd\\xbd\\xf6\\x87\\x9bS\\x14\\xc5\\xdad\\x14%\\x19\\x9b\\x8a\\x16!\\x16Z\\x07\\x10\\x8f;\\xd3\\xd2tD\\xe7\\xa2S\\xba\\xc2\\x8b\\x8bZ\\x98Ep\\xe9\\xfc\\x99\\x90UUi\\x92\\xcf1(0D\\x1a\\x99\\x8d\\xcb\\xbd\\x1a&JuH\\x9b\\xe1\\xa7.\\x1b\\'\\xb8R\\x03>:<Hp\\x04A\\xeej(\\xf9te\\x1bB\\xf0w\\xac\\xad}\\xab\\xd3=\\xeb\\xec?\\xde\\xdez\\x8cK\\x0fp\\xa2\\xb6\\xb5\\xd5\\xf9v\\x8b\\xbe\\x00I\\xe6y)\\xd2[PXW\\xa1\\x8f\\xdfU\\xd6\\x16wA\\xd7sL=\\xcce\\x01\\xb1\\x95\\xa1H\\xf4\\xbe\\xbd\\xb5OI\\x01p\\xa2\\xbb\\x86\\xf7\\xab\\xa2n\\x89L\\xb2\\xec!=@\\xb5\\xd5\\xbc\\xa2*\\xce\\xea\\x05\\xd9\\xc5W\\xa8;#\\x1dI\\xc4h~\\xc4A \\xc6\\xfbF\\xfc\\xbf\\xff\\xf3?\\xff-\\x17\\xb0\\xee\\x84\\xda$\\xa5\\xa5ho\\xc4\\xea\\xd6\\xdeYg\\xefq7\\xc7\\xea\\xf6\\xdaX\\xdd\\x82\\x0f\\xf8\\xb3\\xb0\\xca\\xf7R\\x10\\xeb\\xcb46\\x9c! \\xf3\\x82\\xaa\\xfc#\\xab\\xc1\"\\xbdZ!\\xf5T5\\xc5Y\\xa5R\\xee\\xa8)*\\x18\\xc9\\xa6\\xac\\x82\\xcb\\xa3\\xca\\x01\\x98*x1\\xd5b\\x06\\xb7<\\x9a\\xcc\\xc6\\x8e\\xf5v\\xea\\x8d\\x9c/\\x89\\xd1\\xeec U\\xd3\\xe9mc\\x94\\x82\\x05\\xa1ta\\xe6Q1lMS\\xeb\\x8c\\x0fa-R\\x97\\x80M\\xce\\x1d\\x1f(<\\x16t\\'\\x9dX\\x0ei\\xb3j\\xa5\\xad\\x1b\\x12[\\xe7l\\xeb\\x91Il\\xdd\\xf5\\x89\\xad\\xd3Dl\\xab\\xa3\\xa6\\xbb\\xa5Q\\x03\\x1f6\\n\\xcc\\x12\\xbf\\xb1:\\xf5\\xe8\\xea\\xb6\\xb74\\xba\\xc8A\"_\\xc0\\xd1\\xbd\\xc6\\xef\\x97A\\xe1\\x9e\\xb5\\xfd\\xf0\\xac\\xb3\\xfb\\xb8\\xdb\\xcd\\xa8kgM\\x14R\\x17M(\\xac\\x08\\xc8\\x94t\\xb5g\\xa3\\xde=]\\xde\\x18\\x0e\\xf5\\x11@=\\x13\\x94\\xf5\\xf3\\xc9e\\xaa(\\xae\\x8a\\x07>\\x9dO\\x1c\\xb8\\x83e\\xc12DYh7\\x84@\\xac\\xc3Q:\\xa2\\x92}4\\xf4-\\xa1\\xb6\\xb9LO\\xd9I\\x91i\\x12\\xec5\\xa8$\\xfb:\\xed\\x88\\xe5\\xb9\\x11xQ\\xd4v8\\xbenE\\xfd\\xb6r\\xd8r\\xf7\\xffb\\x9d\\x87\\xae\\xee$\\x1b$\\xd3{\\xde\\xcf\\xa0\\xd3\\x92\\xfa\\xab\\xa3\\x13o\\xac\\xfb\\xe8X@=\\x94\\x11,\\xcej\\x8f\\x1c\\xe8\\x8f\\xac\\xf8\\xd4.\\xb4\\x16\\xf4\\x8d2|{\\xffl\\xeb\\xa1d\\xabk2\\x83}k\\x1b\\x87\\xc7e\\xe1]\\x1f{\\xd9\\xd9\\xefvs\\x0b\\x1c\\xea\\xa6\\xf8\\x0f\\x0f7\\x95\\x06\\x88\\x12x\\xcb\\x96\\xa4\\x0cL\\x85\\xa3\\x9b\\xea\\x14j\\xdf/\\x99\\x9f\\x94\\xc8f\\xb1qj\\xe1nV\\xba\\xcf\\xe3\\x96\\xb6\\xf5J\\x8a\\xe5\\r\\xf1\\xfb\\xe8\\x8c5M\\xfc\\xff\\xfa\\xf8}\\xb4\\x14\\xbf\\xcc\\x11b\\xbb\\xb3\\xd7\\x95\\xde\\rx-\\xc5\\xbbW\\xb7\\xc9\\xfa\\xfe\\xe98zdmm\\x93\\x1e\\xf998\\xa2w\\x97\\xe2\\xc8\\x88\\xff\\x05\\r>d\\x1a|\\n\\x92B\\x11\\x13\\x0f\\xbe\\xe8 \\x19O\\xe6P\\xa6\\x11\\xc9P\\xaa\\x8edj\\xca\\xe5\\xcfK\\xa9\\xe2\\xe6\\r\\x1a\\xf6-\\xe6\\xbd\\xf3\\xb9tE\\xef.\\xc5YFW[{\\xc0\\xd7\\xf1\\xd1O\\x7f8\\x9a\\xfaB\\xf8\\xd9E\\x8a\\xf7\\x97\\xc7\\xcf*\\xfa\\xc8z\\x8aG\\x9dB\\xf2\\x19\\x07\\x03E\\x9d\\xa5\\x94{\\xb6\\x82\\xb3\\xa6\\xe2\\x1a\\x86L\\x94\\x991\\xa9+\\xf8k\\x98y5\\xee\\xc4\\x9b\\xb9\\x01K\\x93\\xcb\\xf4\\x98\\xd3r\\xc6\\xec\\xcd\\xf5\\x98r\\x0e_\\x96\\x0f\\xc0jLi\\xc0\\x92>\\xd3\\x88\\x81\\xc6\\x1f\\x0bG\\x0bF62.r\\xa3\\x9a\\xcd2\\xaa\\xbd\\xf0|\\xbf\\xbb_wz\\x94\\xad\"\\x1cQ\\xee\\x05\\x97\\xe1[\\xee\\x19\\xca\\xcfV\\xca\\x18\\x88Q\\n\\x12*\\x01<\\x9c\\x16\\xe7\\xf6\\x81\\xb4\\x92\\xb1EW]Z\\x1c[\\x0f\\xd5A\\x19\\x1b\\xd8\\xa28\\x0c\\xa2\\x03k\\\\\\x9d\\x88\\xbf\\x1c&\\x99\\xf9\\xbf\\xe1%\\x95\\xd7\\xb0\\xc98E\\n\\xd8\\x07dPK\\xfc\\xe4\\xff\\xfe\\xd7\\xff\\xc6I7\\xa2 #8\\xcbQ\\x01>\\x84{\\x80\\xae<\\xba\\x1a\\xcf\\x05]9\\x0b\\xb7\\xad\\xb4@(8\\x80/\\xf0\\xca\\xdd\\xb7\\x83\\x08\\xde\\xb8\\xefp\\xf9\\x17\\x1a\\xf1]]3/\\xa4\\x88\\xbeA\\xa8\\\\\\xec\\xd4\\\\FVR\\x13L\\x03w\\x98\\x85\\xe9d\\x10`TD\\x14\\x87\\x08\\xa4\\x84k\\xc7\\xfb\\x8e\\x94\\x9d\\xe6E\"\\xcf^\\x86\\xd0\\xe6\\xa6\\xa8[\\x0f\\x18\\\\x\\x90f\\xce\\x80\\xeeF9l\\xa1\\xb6\\x00}\\x87#\\x8c\\x9cT\\xfc\\xbd\\x8f\\xfb`\\xa9\\x0c?>\\xc2\\x9b\\x9e\\x8cQ\\xfe}k\\xeb\\x7feg\\xa8\\xbct\\x16\\xe5Y6\\xf8J\\xb3\\xd5F\\xcd\\xff\\xc1\\xbcy\\x06y[\\x9c\\xe1\\x96Em\\xdd\\xf7\\x95\\x1b\\x1e$\\x03$\\n\\xe4\\xfeP\\xfbF\\x94t\\xcad\\xc7\\x8eu&;\\xb9\\x9a9]\\x91\\xc6*\\rWZ8\\xbe\\xb3\\xac?\\xc7\\x85lH\\xc6\\x10Oq&\\xe1!\\xc8\\x08\\xcfd\\xec\\x1a [i\\x1a\\x10\\xd8+`\\x06\\xad\\x96\\xe3\\x1a\\x8d\\x88\\x06\\x9a\\xc7\\xad\\x89\\xaa3\\x97\\xa2\\x9e\\xaf~1{\\xd8\\xb8ps\\xe5c\\x9f\\xcf\\x90 7\\x93\\x11\\xd2\\xa3\\x96\\x9b\\xb8\\xd9\\xf91\\x9d\\xed\\xdc\\xa3,\\x1c\\x7f\\x86\\xabL\\xd4\\xf1\\xd1\\x12W\\xbe\\xaa\\xecI%S\\x8b\\x02\\xc0,\\x9aZ\\xe4\\xfe\\x7f\\xba\\x83\\xd3\\xb9\\xb2C\\xfeOLu\\xa4a\\x1e\\xf4q\\x19u_\\xfbFe\\x1cT\\xbf\\x87\\x10\\xc3lO\\x9a\\x1e\\xf2\\xc4\\xc1q\\x8b\\xbe.1\\x0f\\xf7\\xc0c\\x1d\\xe9\\xa1bC\\xe9\\x9e\\xd0\\xc19\\xe2\\xe4B\\xf0S\\xba0Z\\xdd\\xbb\\xf7\\x9c\\x9f\\xd1\\xce@$k^\\xf0\\xbf\\xf2\\xfd\\xd9\\x1c6_\\xac\\xdf\\xe7\\xacV\\xa8\\xee\\x913\\xf5\\xd9\\xeb\\xd8\\xdcA?Lp\\xd16\\xee\\xfb\\xa3[U{O\\xf9\\xdb\\xf2\\xb7\\x10\\x8c\\x1a88D\\xc6\\x1d\\x7f\\xfc\\xde\\x99\\xfc\\x9e\\xbd\\x98\\xd7\\x8e\\xc6y\\xca\\x10G\\x8c\\x17\\xedY\\xe8\\x86\\xa1\\xbaDKg\\xb4c:\\xbd\\x17\\xf4\\xeb\\xf2\\x11\\tQ\\x18n;\\xbb\\x99P~\\x91\\x16\\xae\\n\\xf5\\xc22\\x15\\x16\\xec\\xe5\\xfb\\x93\\xdb_\\xb0\\xaa\\xe4\\xc4\\xb3\\x0b\\x0eyn\\xf5\\x12\\xf9a\\xc9t\\xb2$\\xc7Q\\x00#\\x9dq\\xf2N\\xae~l\\xbf\\x9b\\xbf|\\xcb7\\x87\\xd3\\x1a\\xaa\\x8fK\\xba\\xa3\\x94I`\\x87\\xe4h\\x84l\\xc2\\x0b\\xcaGH))\\x12\\xb4\\xd4N/l\\xedB\\xc4\\x19\\xff\\xa7\\xc4\\xe6\\xd8(\\xea\\xfcG.Q\\xd0@\\x1d\\x19\\x98\\x9f\\x926\\xaa\\x0e\\xbe\\x9b\\x9f\\xc2\\x1fNo\\xd2\\xdf\\x15\\xde\\xbd\\xf0/\\x99\\xac@\\x8e\\x7f\\xc5\\xc7%o\\xa8Y\\\\]KF\\xa0^\\xbc\\xba\\xcee\\xc4\\x12P\\x07\\x08\\x9a\\x9a\\xcdq\\x06\\xdf\\xa6\\xa8*\\xc8\\x1d>F\\x07\\xe0^\\x80+{(\\x02\\x02\\x80<G#\\xe05U\\xb5\\x85j\\x08\\'/0\\xc1\\xe7\\xfao(\\xf1\\x852\\x0bV\\xdc\\xf0`$K\\xb6,\\xeaZ\\xe8-\\x87\\xb1\\xde\\xad\\x80\\x1b\\x043\"(\\x17\\xc7\\x92\\xa4\\n)\\xe4\\xbc\\xe3g\\xd5\\x9b\\x0e\\xfd\\x93\\xa7\\x9e\\xb7\\xa7f\\x96\\xc4~z\\'9B\\xb3\\x18\\xc9\\xf2\\xc6\\xa9\\xaeg\\xb1\\xe2\\xec\\x9b\\xe6NY,\\x03\\xb0\\x9c6r\\xed\\xb1\\x1aO\\xd5\\xd7\\xe5\\xa4A\\xf7\\x07\\xb7=\\xc4P]!\\xc2EM\\xff\\x0c\\xcf\\x96\\xbf\\xc9\\x05.\\xd2Y[\\xc6\\xd4@\\x96\\x8c<5\\xfaO\\xf2\\x17\\xea\\xa2\\x1e\\x13\\x1c\\xc4\\'\\x8e\\x06p\\xb7\\xe2\\x14\\x1e\\x81}\\x08DX\\x99\\x10\\x9aPA[\\x167\\x91Q\\xd6\\x1f\\xf1|\\xd4\\xf6\\x94_\\x96\\xcc\\x886%\\xeeUO4\\xbb\\xf7\\xb1\\x97O\\xf1}\\x85\\xd7hDR\\xfb\\xa1\\xd1\\xbb\\x17\\x92o\\x93:\\x86\\xa0+w\\x19\\x03\\xa6Q\\xafAM\\xf1\\xb8\\xd5\\xc3\\xdfx\\xbc\\x88\\xb4Ul\\xed\\xac\\xec=:RQ\\x04\\x0b\\x11\\x83\\x99<\\xad\\x89\\xe4\\xaa\\xb3\\xc0\\x17\\xf4C\\xd3&\\xc3\\xdd\\xf2\\xb9E\\xbd\\xd0\\x92e|]\\x9cKek~\\xc3\\x14\\xf8d\\r!}\\x99\\xb3\\x8e\\xf5\\x7f\\x8a\\xa8\\xcc\\xb0+\\xef\\xd2\\xa6k\\xeeY@sA\\x92\\xe3\\x00\\xe7\\xa8.\\x87\\xe4\\xc3\\xa1\\x1b\"\\xd4\\xc5\\x99\\xc4\\xf5\\x87\\xedb\\x13\\xc55c\\x1d\\x05N\\x8b\\xf0X\\x9cA\\xc3\\x1e\\xa6\\x1c\\xf7\\x9b\\x9d\\x055\\xf4@\\xd6\\x94\\x1f\\xbb).U\\x1e\\x08\\xc4\\xfdQd\\x12\\xb3\\xc1\\xfa\\x89:\\x94^U\\xba\\xd45\\x8b`E\\xdd-\\xba\\'$\\x8f`\\xd5s\\xa4\\x89\\xb6\\xa3\\x98\\xa25LL\\xf1\\x85\\x1ct\\x8b|\\xa6\\xea\\x89\\x9fNOi*\\x95\\x00\\xc8\\xd0\\xb8j%\\xba\\xf2\\x85\\x85\\x87u\\x04\\xa3\\t-#8C\\xe5EU\\x97e\\xf4b\\xb6\\x96\\x87\\xc1TJ\\x8f&\\x85_\\xaa\\xe7\\xb2\\x00Z#\\xe1)Uf}*\\xe3;Z5\\x81U\\x1c\\n\\x12\\xae) ^Gb\\x11\\x01M}\\x99n\\x05\\n\"\\x8bMQg\\xc5\\xcbl\\xc1sx(Y\\xff\\x9c\\x1b\\x93@[\\x91\\x11\\xeb\\xce\\xe0\\x92\\xa8\\xd9\\xec\\x02\\xbf/\\x04X\\xcb\\xc6\\xe8%F\\xa6+|\\x06,d\\x870\\xab\\'>\\xe5\\xa7\\xf0\\xebtW\\x14%?\\x0e\\xf9\\xdei\\ni\\xd4\\xa1\\x90P\\xb4p)#\\xd80\\'\\xb7\\xa8\\xd0.\\xe3\\x18T\\x8f\\x88W\\x1aC\\xad%\\x9ad\\xa85E\\x02\\x11Z\\xf8\\xa6o\\x8a\\xd2\\xcb\\xc2\\xa0\\x91\\x98yA\\xbe\\x93\\x18\\x9a\\x8fZ\\x91L\\xb6\\xeb\\xfb\\xefT\\xe5\\x01r\\xa0\\xc7\\xb6\\xbc}2\\x1e\\xfb\\xa8(\\xd2{\\xea\\x01B\\ni\\x93A(\\x12\\xf3\\xbc\\xeau\\x9d\\x10T|\\t%Ep\\x92\\xc2\\xc27PJ\\x97\\n\\xd6E^\\xa8\\xcb\\xe9\\x0c\\x8b4\\xa6)\\xbd\\xc23\\x88=.\\xe3\\xab+\\x0eZ\\x17\\xc8rq\\xb7U4)<*\\x9b\\xb2u\\xf1\\xe7\\xb452!\\xa0\\xaf\\xb7\\x16\\x1c\\xae\\xceG\\xb6\\xd2d*\\x9e\\x07s\\xfb\\x17!\\xc8\\x8c\\xc2\\x90\\x07\\xc8\\x1d\\xe2\\xfa\\x98\\xe4>\\x95ic\\x05\\x11\\x92\\x81\\x85[.\\xf9\\x15.(\\xa1n\\xd5\\xcc4!\\xbe\\x13E6\\xd0\\xb1\\xe5\\n\\x06\\xba\\x91\\xa1\\x9c2`\\x1e4\\xe7/2\\xdb\\x03w[\\xc0\\xcd\\xca1\\xefD\\x08\\x0bo+\\xea \\xb0\\xfb\\x10\\xcc\\x16\\xaaw\\xd0}\\xe6(2\\xa9\\xac\\xa6\\xc5\\xdbt\\xa5\\xaa\\x97\\xdd\\xd5\\xbdZ|\\xb8\\xbcZ{\\xd9\\x85\\xb9O\\x01\\x02\\x11\\xdfY\\xc8\\x87>\\x8b\\x94\\xc1s(\\xdc\\xe9@\\x1eOg\\x86\\xf4\\x9f\\xec>u*\\x17R\\xbc\\xcc\\xd5\\xb8oH:G3\\x82Q\\xf8d\\xb4\\x94\\x8b\\x98w\\x8ck\\xf1r\\xb4\\xe7\\x9eO}\\xbd\\xcbg\\xdf\\xe6\";\\xcdI\\xa8\\xf6\\xfa\\x94\\xc6\\x92\\x9f_\\xafk\\x19}\\xbd\\xaee\\xb1`\\x90$\\xe9\\xda\\xdb\\xd8\\xcb\\xb7\\xb2\\x18\\x8c%\\xa7\\xf0<n\\x9f\\xaf8\\xbf\\n\\x90M.\\x0b\\xc7fD[`(\\xb5\\xf7\\x16\\xdd\\x0e\\xa5\\x9b\\xe0\\xe4w\\x14|\\xbdN\\x85\\x98W\\x05\\xff\\xca\\xaf_j\\xaa\\x99g\\xdc\\x1a\\xf3\\xf5:\\x95\\x8c\\xaa\\xfe\\xf8\\xd7\\xa9\\xd4K3\\xf3jds\\xafS\\xd1\\xd3\\x1b\\xdf\\x84r[;\\xfd\\xebU\\'-\\xd2\\xe7\\xe5\\x1d(7\\xbaa\\xa4i\\xf3g9A_\\xaf:Y\\xb8\\x80\\xe6\\xebU\\'t\\r\\x8f4\\xcd\\xff\\xe0W\\x9d\\xd4\\xf3B\\\\\\x99\\x9e\\xeb\\xdfY\\r\\xb2\\xcc\\xce\\'\\x8e\\xf8\\xec\\x067\\x95\\xdc\\x0e7\\xcc\\xc1\\x91\\xae\\x89\\xafW\\x91\\x90\\xba\\xb3\\x82\\xdd\\xd4\\xc4\\xfa\\xbe^Eb\\x7f\\xbd\\x8a\\xa4p\\x03\\x80\\xf2B~\\xbd\\x8a\\x84w\\xd6\\n\\xdb\\xab\\xd3\\xe8\\x97\\xc8\\xb9\\xd6\\xd7\\xabH&\\xc8z\\xc4\\xc1\\xd9\\r\\xaf\"\\xa9\\x17c\\xbb\\x95b\\xac\\x1cP\\x95\\xc5\\xa6,\\x04H.DF\\xae]\\x80\\xffv$]\\x19\\xe2\\xaf\\x97\\x85\\xf0U)_/\\x0b\\xc1\\x9d>\\x19-|\\xbd,\\xc4\\xc4F\\x96\\xb1\\xf7O\\xbd,\\xa4\\x9e\\xf5<\\xacd=\\xa5\\xab2\\xf2\\xfb\\r\\xean\\x00\\xe1+\\x10\\n\\xc7\\xb2_\\xd2\\xb3X\\x02Wi\\x02_o\\xf6\\x88\\xbc\\xe1a\\xeb\\xeb\\xcd\\x1e\\xa5\\xaa\\rt\\xcd\\xc9\\x17\\xbf\\xd9\\xa3~\\x07\\xeeU\\xee@\\x95+\\x04\\x03Vgm\\xfe\\x8bd\\xba\\x02D\\x9d\\x1af`e\\xaeV\\x1d\\x9a\\x92\\xdd \\xf2\\xf5\\xf2\\x8d\\xaf\\x97o XI\\x92\\xed\\x97\\xba|\\xa3~{Q\\xe2\\x8c<`\\xe18\\n\\x15}\\x01i+\\x9dC\\x88o\\xf5\\x11\\x99\\x81\\xf8\\xd7\\x7f\\x95\\xf4\\xfa\\xa2N\\xdc\\xa6\\x0b\\xf74 #d\\xfc\\xa4}\\x0e-\\x97\\xbb\\xdev\\xd5_\\x84\\xfd\\xa4\\x85\\x1b\\xe4O\\xe8\\x81\\xa0\\xd0\\xca\\x0b\\xca\\xc00\\x8bV\\xac`\\x806]{\\xa3\\x81A\\xec\\xc5\\xa4\\xe0\\xdb\\xc5w\\x14=\\xc7\\xc1h\\x8cE\\x1b\\x86\\xba\\x14\\x19\\x16\\xd4\\xb8\\xccEq+<T\\xa5\\x82\\xd7\\x84\\xac\\xd1\\xf3D\\xb4C\\x971\\xa0(\\x10nK\\x89d\\xf0\\x8eyQ\\'b\\xeb^g?\\xad\\x8d\\x95\\xa6Kol\\x1a[Wi1\\xef\\xff\\x91\\x97\\xde\"t(\\xab\\xcb\\xc2KS\\x1a|\\xc9}\\x99\\xea\\xe7\\x82\\xe6fl\\x9dr\\x90\\th\\xe9\\xf7\\x10d\\xa2!4\\xff.F\\x9e\\xac\\x16sD}\\xc8\\x96\\xf2~\\x1d\\x14R\\x10m#\\xfcGF\\xf1,V\\xa0(d\\xf4Q\\xf8P\\x1f%^\\xd6\\x08\\xf6\\xa9\\x9cC\\xd5C#\\xe7D\\x06$)\\x88V\\x8e\\x9f\\xc9\\x99a\\xb9\\xfbz\\x16\\xda1\\x14(\\x95+\\x83\\x0c\\x1b\\x8aXC\\x85\\xe0\\x99\\xaat[\\x1fD\\xfa\\xd2\\xc3\\x95E\\x8e\\xbe\\x16\\x87k\\x80\\xe2\\xba\\x9c\"i\\x96\\x81\\xe1\\x85(\\x05\\xd4\\xe4\\x01=\\xdb&@\\x95\\xee\\xf5\\xdes\\x8e\\x02\\x84\\xab\\xbd\\x18y[(Fu\\x822o>b\\xe7.\\xe9f\\x07\\x15\\xdc\\xbf\\xac\\xeeN=P8\\x97\\xcd\\xe4K=+\\x95\\x9ci\\x10\\x82q\\x8cl\\xc5Oq\\x17,\\xddL%\\x902D\\xb1g\\xe2i\\xca\\xc2\\xa8\\xfa\\xf2\\x12\\x8d\\xa9z@\\xccC\\x91J\\xbc\\x96K\\x98Q\\x9d\\xef\\xd4,V\\x87\\x95E\\x9c7\\x9e\\x95\\xc2\\x96e\\xe4\\xaal\\x8erO\\x03\\x1fF}\\x18\\xa1Z\\xd4\\xd0I\\'\\xea:&\\xc5z\\xcb\\x8d\\xb2\\xf8\\xdd\\x82\\x98-\\x83W?\\xe5\\x8a\\x1b\\x912L\\x18\\x11wn8\\x9bGT\\xf7\\xbfb\\xf3e\\xed\\x91\\xb5\\xc8uV\\xeb\\xf7\\x02\\x93_1\\x96\\x16\\xdb\\xf9\\x99\\xee\\\\\\xdc\\xa3q\\x9el\\xa3\\xe4\\x99E\\x05q\\x96\\x06ES\\x7f\\xb2\\x12\\xf2b\\xaf\\xb9RBq\\xc4T\\xbb\\x03\\xca\\xc8\\xd2\\x90\\xdcea\\xd8\\xab\\x8d(\\x83\\xcf&(\\xc6E\\x97`\\xbd\\xa2\\xbf\\x14\\x8c\\xa5\\xaa\\xbeK\"l\\x0e\\xf7^m\\x1c\\xd4\\x1e\\xbft\\xdc9\\xcdJ~\\xc2M\\x9b\\x88\\x95\\xe5L\\x96UfBQ\\x9d+\\xe1/?\\x16\\x02}\\x0e#d\\x86\\xaa*\\xd7\\x18\\x19\\tht\\x954\\xf2F\\xe9\\x1e\\xcb\\xec\\\\\\x10\\x17P\\x98\\r\\r\\x90\\xa8\\xd0\\x90&\\x9a\\xf2_@\\xcd$T\\x19Z\\xcb\\xe4\\xd3\\x98\\x91\\x90\\xe76T\\x07\\xbf\\xe6=\\x18Y\\x10Z\\xb0\\x94\"^m)\\trX\\xa5\\xf4+I\\xbc\\xbbI\\x98\\xbac\\xc8\\x89\\xc5\\xb8Y\\x9e\\xe4A\\xecF\\xfe,\\x11q\\xe4\\x1e\\xb6l\\xdb9w\\xae\\xdb\\xa30\\x1c\\xa1Z\\xd9\\xcc\\x8fY\\x1b\\xa4gP\\xbc\\xfa\\xb1}\\xfe)EMG\\xbb\\xd3\\xdeoo\\xab/m\\xe4\\xbc\\xb4\\xcfe\\xb5E\\xeeI\\xc2\\xa3\\xba\\xed]\\x81]\\xe0\\xda\\xa7\\xf3\\x1f\\xe9E\\xf1\\xf7\\xbf#\\xc2S\\x16Qm_\\xa1\\xe2\\x9c\\xb7\\xb9Q\\x1c\\x9f\\xd8\\x07\\xae\\xf1=\\x8f\\xcd\\xf1,\\x1e/\\x1f\\xe8?m\\tso\\x83r\\x1c\\x16\\x07]g.\\xa9\\x8f\\xd9\\xa0~mGM\\xc7Bf\\xd8\\x17\\x98Q\\xeacR4\\xec\\x92YU,Q\\tES\\'\\x0e\\x83h\\xde\\x9e]\\x8c\\x06\\xcd\\x90+\\xb4\\x94\\xde\\xa7\\x0b\\xb9\\xb0g\\xdcI\\x8a\\xaa\\xb4\\xa5\\x85,\\x8cNW\\x16\\x1d\\xb6\\x12\\\\Cf\\x9f\\xa3n\\xad\\xc4{k\\xa1S\\xd6\\x9a\\x08\\x83\\xc3\\xdd\\x9d\\xfd=\\\\\\x107\\xdcC\\xd1;\\x10\\x08%\\xf7#>?9l\\xa5\\xc9\\xd0\\x82yV\\\\;E\\xbc\\xd8\\xf0\\xbf\\xfaC1\\x818<9\\x16{\\x1f\\n\\xd4\\xc4\\xd7&\\xad\\x00\\xc3l\\x92\"\\x02\\'\\xb6O\\x8e\\xf7\\x19\\x94}g\\xf8\\xd0\\xdb~\\xe8\\xee9\\xdd\\xfe*\\xa0\\xd0\\xbe\\x90s\\xff\\xe6W\\xa8\\x82\\xfe\\xf0CV{\\x8c\\xb6\\xa5\\x01\\xe0\\xfe\\xcd\\x00Dmk\\xf0#\\xe4az\\x83\\xd3d>\\x81i\\x01h\\x07;\\x9d\\xc1\\xbe;x\\xb4?D\\xe1\\xc2\\x15\\x10\\xd7\\x00\\xadD*O\\x05A\\x9e\\xb6\\xccgGN\\x07\\xd6\\xbcw\\xe7\\xff\\x03\\xc5Pt|\\xc5\\xc5\\x00\\x00'\n"
          ]
        }
      ],
      "source": [
        "# Imprimindo html\n",
        "print(html)"
      ]
    },
    {
      "cell_type": "markdown",
      "metadata": {
        "id": "Lpqt0UOAXAr9"
      },
      "source": [
        "# Fim"
      ]
    },
    {
      "cell_type": "markdown",
      "metadata": {
        "collapsed": true,
        "id": "s4kq3H4YXAr9"
      },
      "source": [
        "### Obrigado\n",
        "\n",
        "### Visite o Blog da Data Science Academy - <a href=\"http://blog.dsacademy.com.br\">Blog DSA</a>"
      ]
    }
  ],
  "metadata": {
    "kernelspec": {
      "display_name": "Python 3 (ipykernel)",
      "language": "python",
      "name": "python3"
    },
    "language_info": {
      "codemirror_mode": {
        "name": "ipython",
        "version": 3
      },
      "file_extension": ".py",
      "mimetype": "text/x-python",
      "name": "python",
      "nbconvert_exporter": "python",
      "pygments_lexer": "ipython3",
      "version": "3.9.13"
    },
    "colab": {
      "provenance": [],
      "include_colab_link": true
    }
  },
  "nbformat": 4,
  "nbformat_minor": 0
}